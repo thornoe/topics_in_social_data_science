{
 "cells": [
  {
   "cell_type": "markdown",
   "metadata": {},
   "source": [
    "# Pre Course Assignment for TSDS\n",
    "\n",
    "This assignment consist of 8 questions and must be handed in\n",
    "before the beginning of the TSDS lectures. The reason we give\n",
    "you an assignment so early in the course is to ensure you have\n",
    "all installed python, and are confident using it to the level\n",
    "you are taught in the summer course SDS. If you haven't already\n",
    "installed the anaconda python distribution on your system,\n",
    "a simple google search should get you there.\n",
    "\n",
    "\n",
    "### Practical info\n",
    "* Handin no later than at the first exercise class.\n",
    "* When done pleases upload your answer on absalon.\n",
    "* Feel free to colaborate, but upload one notebook per student.\n",
    "\n",
    "### Code validation\n",
    "These questions have a build-in validator that will tell you\n",
    "if your answers are correct. To use it you need to install a package\n",
    "called `checks` from here:\n",
    "[https://github.com/Kristianuruplarsen/checks](https://github.com/Kristianuruplarsen/checks)\n",
    "\n",
    "> **Note:** The `checks` package is in very early development so dont worry if\n",
    "you can't get it to work. We will accept submissions if they dont use the automated checking.\n",
    "\n",
    "To install the package simply run the following in your terminal:\n",
    "```\n",
    "pip install git+https://github.com/Kristianuruplarsen/checks\n",
    "```\n",
    "After doing this you should be able to simply run\n",
    "```\n",
    "from checks import Assignment0\n",
    "```\n",
    "after which you can decorate (*hint:* read [here](http://book.pythontips.com/en/latest/decorators.html)) your answers in the following way to\n",
    "get instant validation of your answers:\n",
    "```\n",
    "@Assignment0.submit(problem = 1)\n",
    "def add(x,y):\n",
    "# ... Code here\n",
    "```\n",
    "For a more thorough introduction to the `checks` package refer to the git repo."
   ]
  },
  {
   "cell_type": "code",
   "execution_count": 1,
   "metadata": {},
   "outputs": [],
   "source": [
    "# from checks import Assignment0"
   ]
  },
  {
   "cell_type": "markdown",
   "metadata": {},
   "source": [
    "# Problem 1\n",
    "Write a function that adds two numbers x,y and returns the output x + y.\n",
    "Sample input might be `x=-1`, `y=8` in which case the expected output is `7`.\n",
    "The expected output is either float or int."
   ]
  },
  {
   "cell_type": "code",
   "execution_count": 2,
   "metadata": {},
   "outputs": [
    {
     "name": "stdout",
     "output_type": "stream",
     "text": [
      "7\n"
     ]
    }
   ],
   "source": [
    "# [Answer to problem 1 here]\n",
    "def addition( x , y ):\n",
    "   \"This adds two numbers x,y together and returne the output x+y\"\n",
    "   print(x+y)\n",
    "   return\n",
    "\n",
    "x = -1\n",
    "y = 8\n",
    "\n",
    "addition( x, y )\n"
   ]
  },
  {
   "cell_type": "markdown",
   "metadata": {},
   "source": [
    "# Problem 2\n",
    "Write a function that takes as it's single input\n",
    "* Any dictionary\n",
    "\n",
    "The function should return the **keys** of the input dictionary, in a `list`.\n",
    "\n",
    "> *Hint:* be aware that many of the build in dictionary methods returns special\n",
    "containers that look like lists, but are in fact not. If you need to you can\n",
    "convert your result to a list using the `list()` buildin function."
   ]
  },
  {
   "cell_type": "code",
   "execution_count": 3,
   "metadata": {},
   "outputs": [
    {
     "name": "stdout",
     "output_type": "stream",
     "text": [
      "['Name', 'Age', 'Class']\n"
     ]
    }
   ],
   "source": [
    "# [Answer to problem 2 here]\n",
    "def f_keys( D ):\n",
    "    \"function returning the **keys** of the input dictionary, in a `list`.\"\n",
    "    print( list( D.keys() ) )\n",
    "    return\n",
    "\n",
    "Dict = {'Name': 'Thor', 'Age': 28, 'Class': 'TSDS'}\n",
    "\n",
    "f_keys( Dict )\n"
   ]
  },
  {
   "cell_type": "markdown",
   "metadata": {},
   "source": [
    "# Problem 3\n",
    "Write a function that takes two arguments\n",
    "* `s` an arbitrary string.\n",
    "* `l` a letter (i.e. any valid single character).\n",
    "\n",
    "The function should search the string for occurences of the letter and\n",
    "return an integer indicating how many times the letter `l` occurs in the string `s`.\n",
    "\n",
    "> **Note**: Your function should be *case-insensitive*, i.e. it shouldn't care if the letter is \"H\" or \"h\""
   ]
  },
  {
   "cell_type": "code",
   "execution_count": 4,
   "metadata": {},
   "outputs": [
    {
     "name": "stdout",
     "output_type": "stream",
     "text": [
      "2\n"
     ]
    }
   ],
   "source": [
    "def f_count( s, l ):\n",
    "    \"return an integer indicating how many times the letter `l` occurs in the string `s`\"\n",
    "    print( s.upper().count(l.upper()) )\n",
    "    return\n",
    "\n",
    "s = \"How to help?\"\n",
    "l = \"h\"\n",
    "\n",
    "f_count( s, l )\n",
    "    "
   ]
  },
  {
   "cell_type": "markdown",
   "metadata": {},
   "source": [
    "# Problem 4\n",
    "Write a function that takes two pandas dataframes, and a key for merging as inputs. That is\n",
    "* `df1` A pandas dataframe\n",
    "* `df2` Another pandas dataframe\n",
    "* `key` A list of key variables to use for merging.\n",
    "\n",
    "The function should merge the two dataframes using a left-join and return the resulting dataframe."
   ]
  },
  {
   "cell_type": "code",
   "execution_count": 5,
   "metadata": {},
   "outputs": [],
   "source": [
    "import pandas as pd\n",
    "import numpy as np"
   ]
  },
  {
   "cell_type": "code",
   "execution_count": 6,
   "metadata": {},
   "outputs": [
    {
     "name": "stdout",
     "output_type": "stream",
     "text": [
      "   Name Age Class University Institute\n",
      "0  Thor  28  TSDS         KU      Econ\n"
     ]
    }
   ],
   "source": [
    "# [Answer to problem 4 here]\n",
    "def f_merge( df1, df2, key ):\n",
    "    \"Merge two dataframes using a left-join and return the resulting dataframe.\"\n",
    "    print( pd.merge( df1, df2, on=key, how='left' ) )\n",
    "    return\n",
    "\n",
    "dict1 = {'Name': ['Thor'], 'Age': ['28'], 'Class': ['TSDS']}\n",
    "dict2 = {'Name': ['Thor'], 'University': ['KU'], 'Institute': ['Econ']}\n",
    "df1 = pd.DataFrame(dict1)\n",
    "df2 = pd.DataFrame(dict2)\n",
    "\n",
    "key = \"Name\"\n",
    "\n",
    "f_merge( df1, df2, key )\n"
   ]
  },
  {
   "cell_type": "markdown",
   "metadata": {},
   "source": [
    "# Problem 5\n",
    "Write a function that takes a list as input and returns the *reversed* list.\n",
    "For example given a list `l=['s', 'd', 's', 't']` the expected output is `['t', 's', 'd', 's']`"
   ]
  },
  {
   "cell_type": "code",
   "execution_count": 7,
   "metadata": {},
   "outputs": [
    {
     "name": "stdout",
     "output_type": "stream",
     "text": [
      "[3, 2, 1]\n"
     ]
    }
   ],
   "source": [
    "# [Answer to problem 5 here]\n",
    "def f_reverse( l ):\n",
    "    \"take a list as input and return the *reversed* list\"\n",
    "    l.reverse() \n",
    "    print( l )\n",
    "    return\n",
    "\n",
    "list = [1, 2, 3]\n",
    "\n",
    "f_reverse(list)\n"
   ]
  },
  {
   "cell_type": "markdown",
   "metadata": {},
   "source": [
    "# Problem 6\n",
    "Write a function that takes as input\n",
    "* A string `s`\n",
    "\n",
    "The functions should use a regex to look up any digits (0-9) in the string\n",
    "and returns a new string containing a comma-separated list of digits. For\n",
    "example the input string `'Pick no.1, no.2 or no.3 please'` should return\n",
    "the string `'1,2,3'`.\n",
    "\n",
    "> *Hint:* take a look at the `re` module."
   ]
  },
  {
   "cell_type": "code",
   "execution_count": 8,
   "metadata": {},
   "outputs": [],
   "source": [
    "import re"
   ]
  },
  {
   "cell_type": "code",
   "execution_count": 9,
   "metadata": {},
   "outputs": [
    {
     "name": "stdout",
     "output_type": "stream",
     "text": [
      "1, 2, 3\n"
     ]
    }
   ],
   "source": [
    "# [Answer to problem 6 here]\n",
    "def f_digits( s ):\n",
    "    \"return a string of digits appearing in the original string\"\n",
    "    list = re.findall(r'\\d+', s )\n",
    "    print( ', '.join(list) )\n",
    "    return\n",
    "\n",
    "st = 'Pick no.1, no.2 or no.3 please'\n",
    "\n",
    "f_digits( st )\n"
   ]
  },
  {
   "cell_type": "markdown",
   "metadata": {},
   "source": [
    "# Problem 7\n",
    "Write a function that takes the following arguments:\n",
    "* An unknown number of lists, each containing floats representing the values of a variable.\n",
    "* A list of strings, containing the column names for a table.\n",
    "\n",
    "For example, the function might be given a list of column names `key=['ID','year', 'age', 'income_index']\n",
    "and _four_ other lists: [1,1,1,2,2,2], [22,23,24,32,33,34], [2000,2001,2002,2000,2001,2002], [100,110,130,100,98,74]\n",
    "\n",
    "From these inputs the function should return a pandas DataFrame like\n",
    "\n",
    "| 'ID' | 'year' | 'age' | 'income_index' |\n",
    "|------|--------|-------|----------------|\n",
    "|   1  | 2000   | 22    |   100          |\n",
    "|   1  | 2001   | 23    |   110          |\n",
    "|   1  | 2001   | 24    |   130          |\n",
    "|   2  | 2000   | 32    |   100          |\n",
    "|   2  | 2001   | 33    |   98           |\n",
    "|   2  | 2001   | 44    |   74           |\n",
    "\n",
    "> *Hint:* you will need to understand the `*input` notation for variable length arguments."
   ]
  },
  {
   "cell_type": "code",
   "execution_count": 10,
   "metadata": {},
   "outputs": [
    {
     "name": "stdout",
     "output_type": "stream",
     "text": [
      "   ID  year   age  income_index\n",
      "0   1    22  2000           100\n",
      "1   1    23  2001           110\n",
      "2   1    24  2002           130\n",
      "3   2    32  2000           100\n",
      "4   2    33  2001            98\n",
      "5   2    34  2002            74\n"
     ]
    }
   ],
   "source": [
    "# [Answer to problem 7 here]\n",
    "def f_df( key , *lists ):\n",
    "    \"return af pandas DataFrame from an unknown number of lists\"\n",
    "    df = pd.DataFrame( columns=key)\n",
    "    n = 0\n",
    "    for l in lists:\n",
    "        df.iloc[:,n] = l\n",
    "        n = n+1\n",
    "    print( df )\n",
    "    return\n",
    "    \n",
    "keys = ['ID','year', 'age', 'income_index']\n",
    "l1 = [1,1,1,2,2,2]\n",
    "l2 = [22,23,24,32,33,34]\n",
    "l3 = [2000,2001,2002,2000,2001,2002]\n",
    "l4 = [100,110,130,100,98,74]\n",
    "\n",
    "f_df( keys, l1, l2, l3, l4 )\n"
   ]
  },
  {
   "cell_type": "markdown",
   "metadata": {},
   "source": [
    "# Problem 8\n",
    "For this question you should write a function which takes two\n",
    "numpy arrays as inputs, uses scikit learn's LinearRegression module to\n",
    "estimate a model of the data, and return the coefficients as a numpy array. For example\n",
    "you should make sure your function runs on input like\n",
    "```\n",
    "X = np.array([1,2,3])\n",
    "y = np.array([3,2,1])\n",
    "```\n",
    "> *Hint:* we expect the output from the .coef_ attribute of the fitted\n",
    "model object.\n",
    ">\n",
    "> *Hint:* Your function will be tested with 1-dimensional X input. You might want to investigate how you can handle this\n",
    "in scikit-learn"
   ]
  },
  {
   "cell_type": "markdown",
   "metadata": {},
   "source": [
    "***Didn't work - see the answer using scipy in the answer to Problem 9 instead***"
   ]
  },
  {
   "cell_type": "code",
   "execution_count": 11,
   "metadata": {},
   "outputs": [],
   "source": [
    "from sklearn.linear_model import LinearRegression"
   ]
  },
  {
   "cell_type": "code",
   "execution_count": 12,
   "metadata": {},
   "outputs": [
    {
     "ename": "ValueError",
     "evalue": "Expected 2D array, got 1D array instead:\narray=[1 2 3].\nReshape your data either using array.reshape(-1, 1) if your data has a single feature or array.reshape(1, -1) if it contains a single sample.",
     "output_type": "error",
     "traceback": [
      "\u001b[1;31m---------------------------------------------------------------------------\u001b[0m",
      "\u001b[1;31mValueError\u001b[0m                                Traceback (most recent call last)",
      "\u001b[1;32m<ipython-input-12-ea432df921c2>\u001b[0m in \u001b[0;36m<module>\u001b[1;34m\u001b[0m\n\u001b[0;32m     11\u001b[0m \u001b[0my\u001b[0m \u001b[1;33m=\u001b[0m \u001b[0mnp\u001b[0m\u001b[1;33m.\u001b[0m\u001b[0marray\u001b[0m\u001b[1;33m(\u001b[0m\u001b[1;33m[\u001b[0m\u001b[1;36m3\u001b[0m\u001b[1;33m,\u001b[0m\u001b[1;36m2\u001b[0m\u001b[1;33m,\u001b[0m\u001b[1;36m1\u001b[0m\u001b[1;33m]\u001b[0m\u001b[1;33m)\u001b[0m\u001b[1;33m\u001b[0m\u001b[1;33m\u001b[0m\u001b[0m\n\u001b[0;32m     12\u001b[0m \u001b[1;33m\u001b[0m\u001b[0m\n\u001b[1;32m---> 13\u001b[1;33m \u001b[0mf_linear\u001b[0m\u001b[1;33m(\u001b[0m \u001b[0mX\u001b[0m\u001b[1;33m,\u001b[0m \u001b[0my\u001b[0m \u001b[1;33m)\u001b[0m\u001b[1;33m\u001b[0m\u001b[1;33m\u001b[0m\u001b[0m\n\u001b[0m",
      "\u001b[1;32m<ipython-input-12-ea432df921c2>\u001b[0m in \u001b[0;36mf_linear\u001b[1;34m(X, y)\u001b[0m\n\u001b[0;32m      4\u001b[0m \u001b[1;32mdef\u001b[0m \u001b[0mf_linear\u001b[0m\u001b[1;33m(\u001b[0m \u001b[0mX\u001b[0m\u001b[1;33m,\u001b[0m \u001b[0my\u001b[0m \u001b[1;33m)\u001b[0m\u001b[1;33m:\u001b[0m\u001b[1;33m\u001b[0m\u001b[1;33m\u001b[0m\u001b[0m\n\u001b[0;32m      5\u001b[0m     \u001b[0mX\u001b[0m\u001b[1;33m.\u001b[0m\u001b[0mreshape\u001b[0m\u001b[1;33m(\u001b[0m\u001b[1;33m-\u001b[0m\u001b[1;36m1\u001b[0m\u001b[1;33m,\u001b[0m\u001b[1;36m1\u001b[0m\u001b[1;33m)\u001b[0m\u001b[1;33m\u001b[0m\u001b[1;33m\u001b[0m\u001b[0m\n\u001b[1;32m----> 6\u001b[1;33m     \u001b[0mreg\u001b[0m\u001b[1;33m.\u001b[0m\u001b[0mfit\u001b[0m\u001b[1;33m(\u001b[0m\u001b[0mX\u001b[0m\u001b[1;33m,\u001b[0m \u001b[0my\u001b[0m\u001b[1;33m)\u001b[0m\u001b[1;33m\u001b[0m\u001b[1;33m\u001b[0m\u001b[0m\n\u001b[0m\u001b[0;32m      7\u001b[0m     \u001b[0mprint\u001b[0m\u001b[1;33m(\u001b[0m\u001b[0mreg\u001b[0m\u001b[1;33m.\u001b[0m\u001b[0mcoef_\u001b[0m\u001b[1;33m)\u001b[0m\u001b[1;33m\u001b[0m\u001b[1;33m\u001b[0m\u001b[0m\n\u001b[0;32m      8\u001b[0m     \u001b[1;32mreturn\u001b[0m\u001b[1;33m\u001b[0m\u001b[1;33m\u001b[0m\u001b[0m\n",
      "\u001b[1;32m~\\Anaconda3\\lib\\site-packages\\sklearn\\linear_model\\base.py\u001b[0m in \u001b[0;36mfit\u001b[1;34m(self, X, y, sample_weight)\u001b[0m\n\u001b[0;32m    456\u001b[0m         \u001b[0mn_jobs_\u001b[0m \u001b[1;33m=\u001b[0m \u001b[0mself\u001b[0m\u001b[1;33m.\u001b[0m\u001b[0mn_jobs\u001b[0m\u001b[1;33m\u001b[0m\u001b[1;33m\u001b[0m\u001b[0m\n\u001b[0;32m    457\u001b[0m         X, y = check_X_y(X, y, accept_sparse=['csr', 'csc', 'coo'],\n\u001b[1;32m--> 458\u001b[1;33m                          y_numeric=True, multi_output=True)\n\u001b[0m\u001b[0;32m    459\u001b[0m \u001b[1;33m\u001b[0m\u001b[0m\n\u001b[0;32m    460\u001b[0m         \u001b[1;32mif\u001b[0m \u001b[0msample_weight\u001b[0m \u001b[1;32mis\u001b[0m \u001b[1;32mnot\u001b[0m \u001b[1;32mNone\u001b[0m \u001b[1;32mand\u001b[0m \u001b[0mnp\u001b[0m\u001b[1;33m.\u001b[0m\u001b[0matleast_1d\u001b[0m\u001b[1;33m(\u001b[0m\u001b[0msample_weight\u001b[0m\u001b[1;33m)\u001b[0m\u001b[1;33m.\u001b[0m\u001b[0mndim\u001b[0m \u001b[1;33m>\u001b[0m \u001b[1;36m1\u001b[0m\u001b[1;33m:\u001b[0m\u001b[1;33m\u001b[0m\u001b[1;33m\u001b[0m\u001b[0m\n",
      "\u001b[1;32m~\\Anaconda3\\lib\\site-packages\\sklearn\\utils\\validation.py\u001b[0m in \u001b[0;36mcheck_X_y\u001b[1;34m(X, y, accept_sparse, accept_large_sparse, dtype, order, copy, force_all_finite, ensure_2d, allow_nd, multi_output, ensure_min_samples, ensure_min_features, y_numeric, warn_on_dtype, estimator)\u001b[0m\n\u001b[0;32m    754\u001b[0m                     \u001b[0mensure_min_features\u001b[0m\u001b[1;33m=\u001b[0m\u001b[0mensure_min_features\u001b[0m\u001b[1;33m,\u001b[0m\u001b[1;33m\u001b[0m\u001b[1;33m\u001b[0m\u001b[0m\n\u001b[0;32m    755\u001b[0m                     \u001b[0mwarn_on_dtype\u001b[0m\u001b[1;33m=\u001b[0m\u001b[0mwarn_on_dtype\u001b[0m\u001b[1;33m,\u001b[0m\u001b[1;33m\u001b[0m\u001b[1;33m\u001b[0m\u001b[0m\n\u001b[1;32m--> 756\u001b[1;33m                     estimator=estimator)\n\u001b[0m\u001b[0;32m    757\u001b[0m     \u001b[1;32mif\u001b[0m \u001b[0mmulti_output\u001b[0m\u001b[1;33m:\u001b[0m\u001b[1;33m\u001b[0m\u001b[1;33m\u001b[0m\u001b[0m\n\u001b[0;32m    758\u001b[0m         y = check_array(y, 'csr', force_all_finite=True, ensure_2d=False,\n",
      "\u001b[1;32m~\\Anaconda3\\lib\\site-packages\\sklearn\\utils\\validation.py\u001b[0m in \u001b[0;36mcheck_array\u001b[1;34m(array, accept_sparse, accept_large_sparse, dtype, order, copy, force_all_finite, ensure_2d, allow_nd, ensure_min_samples, ensure_min_features, warn_on_dtype, estimator)\u001b[0m\n\u001b[0;32m    550\u001b[0m                     \u001b[1;34m\"Reshape your data either using array.reshape(-1, 1) if \"\u001b[0m\u001b[1;33m\u001b[0m\u001b[1;33m\u001b[0m\u001b[0m\n\u001b[0;32m    551\u001b[0m                     \u001b[1;34m\"your data has a single feature or array.reshape(1, -1) \"\u001b[0m\u001b[1;33m\u001b[0m\u001b[1;33m\u001b[0m\u001b[0m\n\u001b[1;32m--> 552\u001b[1;33m                     \"if it contains a single sample.\".format(array))\n\u001b[0m\u001b[0;32m    553\u001b[0m \u001b[1;33m\u001b[0m\u001b[0m\n\u001b[0;32m    554\u001b[0m         \u001b[1;31m# in the future np.flexible dtypes will be handled like object dtypes\u001b[0m\u001b[1;33m\u001b[0m\u001b[1;33m\u001b[0m\u001b[1;33m\u001b[0m\u001b[0m\n",
      "\u001b[1;31mValueError\u001b[0m: Expected 2D array, got 1D array instead:\narray=[1 2 3].\nReshape your data either using array.reshape(-1, 1) if your data has a single feature or array.reshape(1, -1) if it contains a single sample."
     ]
    }
   ],
   "source": [
    "# [Answer to problem 8 here]\n",
    "reg = LinearRegression()\n",
    "\n",
    "def f_linear( X, y ):\n",
    "    X.reshape(-1,1)\n",
    "    reg.fit(X, y)\n",
    "    print(reg.coef_)\n",
    "    return\n",
    "\n",
    "X = np.array([1,2,3])\n",
    "y = np.array([3,2,1])\n",
    "\n",
    "f_linear( X, y )\n"
   ]
  },
  {
   "cell_type": "markdown",
   "metadata": {},
   "source": [
    "# Problem 9\n",
    "Write a function that takes the following two inputs:\n",
    "* a list `x` of length N containing floats.\n",
    "* a list `y` of length N containing floats.\n",
    "\n",
    "Given the two lists, write a function that uses matplotlib to plot a curve\n",
    "with `x` on the first axis and `y` on the 2nd axis using `plt.plot()`. Add\n",
    "on top of this a set of scatter-points with the same coordinates as the line.\n",
    "\n",
    "> *Hint:* Don't show the figure within the function body. To properly wrap\n",
    "matplotlib code in a function simply `return plt` at the end of the function. I.e.\n",
    "\n",
    "```\n",
    "def somePlot(x,y):\n",
    "# [Matplotlib code]\n",
    "plt.plot(...)\n",
    "# [/Matplotlib code]\n",
    "return plt\n",
    "```"
   ]
  },
  {
   "cell_type": "code",
   "execution_count": 13,
   "metadata": {},
   "outputs": [],
   "source": [
    "import matplotlib.pyplot as plt\n",
    "from scipy import stats"
   ]
  },
  {
   "cell_type": "code",
   "execution_count": 14,
   "metadata": {},
   "outputs": [
    {
     "name": "stdout",
     "output_type": "stream",
     "text": [
      "Slope: -1.0 Std. err.: 0.0 Intercept: 4.0\n"
     ]
    },
    {
     "data": {
      "text/plain": [
       "<module 'matplotlib.pyplot' from 'C:\\\\Users\\\\thorn\\\\Anaconda3\\\\lib\\\\site-packages\\\\matplotlib\\\\pyplot.py'>"
      ]
     },
     "execution_count": 14,
     "metadata": {},
     "output_type": "execute_result"
    },
    {
     "data": {
      "image/png": "[encoded data removed]",
      "text/plain": [
       "<Figure size 432x288 with 1 Axes>"
      ]
     },
     "metadata": {
      "needs_background": "light"
     },
     "output_type": "display_data"
    }
   ],
   "source": [
    "# [Answer to problem 9 here]\n",
    "def f_plot(x,y):\n",
    "    x = np.asarray(x)\n",
    "    y = np.asarray(y)\n",
    "    slope, intercept, r_value, p_value, std_err = stats.linregress(x,y)\n",
    "    print( \"Slope:\", slope, \"Std. err.:\", std_err,  \"Intercept:\", intercept )\n",
    "    lfit = slope*x+intercept\n",
    "    plt.plot(x,y,'o', x, lfit)\n",
    "    plt.scatter(x=x, y=y)\n",
    "    return plt\n",
    "\n",
    "x = [1,2,3]\n",
    "y = [3,2,1]\n",
    "\n",
    "f_plot( x, y)\n"
   ]
  }
 ],
 "metadata": {
  "kernelspec": {
   "display_name": "Python 3",
   "language": "python",
   "name": "python3"
  },
  "language_info": {
   "codemirror_mode": {
    "name": "ipython",
    "version": 3
   },
   "file_extension": ".py",
   "mimetype": "text/x-python",
   "name": "python",
   "nbconvert_exporter": "python",
   "pygments_lexer": "ipython3",
   "version": "3.6.8"
  }
 },
 "nbformat": 4,
 "nbformat_minor": 2
}
