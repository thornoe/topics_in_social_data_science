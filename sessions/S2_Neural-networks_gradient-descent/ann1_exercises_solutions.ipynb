{
 "cells": [
  {
   "cell_type": "markdown",
   "metadata": {},
   "source": [
    "> **DO NOT EDIT IF INSIDE tsds folder**\n"
   ]
  },
  {
   "cell_type": "markdown",
   "metadata": {},
   "source": [
    "# Week 2: Artificial Neural Networks 1\n",
    "\n",
    "*Wednesday, February 12, 2019*\n",
    "\n",
    "Today, you will be tinkering with a pure-python feed forward neural network.\n",
    "- Part 2.1: Tinker with some visuals\n",
    "- Part 2.2: Train a pure-Python neural network\n",
    "\n",
    "**Questions**: Outside of class, use [issue](https://github.com/abjer/tsds/issues) on GitHub for asking questions."
   ]
  },
  {
   "cell_type": "code",
   "execution_count": 2,
   "metadata": {
    "ExecuteTime": {
     "end_time": "2019-02-17T07:39:19.225749Z",
     "start_time": "2019-02-17T07:39:18.580097Z"
    }
   },
   "outputs": [],
   "source": [
    "%matplotlib inline\n",
    "\n",
    "import numpy as np\n",
    "import random\n",
    "import matplotlib.pylab as plt\n",
    "from scipy.interpolate import interp1d"
   ]
  },
  {
   "cell_type": "markdown",
   "metadata": {},
   "source": [
    "## Exercises"
   ]
  },
  {
   "cell_type": "markdown",
   "metadata": {},
   "source": [
    "### Part 2.1: Tinker with some visuals\n",
    "\n",
    "Before we dive in to the code, it's really important that our intuition about what neural networks are doing is as good as possible. And the best (and most fun) way to do that is to play around and with things a bit, so go familiarize yourself with the [Tensorflow Playground](https://playground.tensorflow.org/), slide some knobs and pull some levers."
   ]
  },
  {
   "cell_type": "markdown",
   "metadata": {},
   "source": [
    "> **Ex. 2.1.1** Using [the dataset](https://playground.tensorflow.org/#activation=sigmoid&batchSize=10&dataset=gauss&regDataset=reg-plane&learningRate=0.03&regularizationRate=0&noise=0&networkShape=4,2&seed=0.42272&showTestData=false&discretize=false&percTrainData=50&x=true&y=true&xTimesY=false&xSquared=false&ySquared=false&cosX=false&sinX=false&cosY=false&sinY=false&collectStats=false&problem=classification&initZero=false&hideText=false) with the two well-seperate guassian distributions, create the minimal neural network that seperates the clusters. You can report your answer with a link (the URL on playground.tensorflow.org changes as you update the network, so at any time you can use the link to show others what you have created)."
   ]
  },
  {
   "cell_type": "markdown",
   "metadata": {},
   "source": [
    "> **Ex. 2.1.2** Using [the dataset](https://playground.tensorflow.org/#activation=sigmoid&batchSize=10&dataset=circle&regDataset=reg-plane&learningRate=0.03&regularizationRate=0&noise=0&networkShape=4,2&seed=0.16631&showTestData=false&discretize=false&percTrainData=50&x=true&y=true&xTimesY=false&xSquared=false&ySquared=false&cosX=false&sinX=false&cosY=false&sinY=false&collectStats=false&problem=classification&initZero=false&hideText=false) with the hard-to-seperate circles, create the minimal neural network that seperates the clusters. Again, report your answer with a link."
   ]
  },
  {
   "cell_type": "markdown",
   "metadata": {},
   "source": [
    "> **Ex. 2.1.3** See if you can create a network that performs well on the [the dataset](https://playground.tensorflow.org/#activation=sigmoid&batchSize=10&dataset=spiral&regDataset=reg-plane&learningRate=0.03&regularizationRate=0&noise=0&networkShape=4,2&seed=0.08961&showTestData=false&discretize=false&percTrainData=50&x=true&y=true&xTimesY=false&xSquared=false&ySquared=false&cosX=false&sinX=false&cosY=false&sinY=false&collectStats=false&problem=classification&initZero=false&hideText=false) with the intertwined spirals. If possible, include in your answer not only the link but also a screenshot of the scatter plot."
   ]
  },
  {
   "cell_type": "markdown",
   "metadata": {},
   "source": [
    "### Part 2.2: A pure-Python neural network\n",
    "\n",
    "Now, let's inspect Michael Nielsen's neural network. He ends the first chapter of his book by implementing all the stuff he went through, and below I've synthesized this code into a single working example, with some minor readibility edits and updates so it works in Python 3."
   ]
  },
  {
   "cell_type": "code",
   "execution_count": 3,
   "metadata": {
    "ExecuteTime": {
     "end_time": "2019-02-17T07:39:23.126746Z",
     "start_time": "2019-02-17T07:39:23.100321Z"
    }
   },
   "outputs": [],
   "source": [
    "# Miscellaneous functions\n",
    "def sigmoid(z):\n",
    "    \"\"\"The sigmoid function.\"\"\"\n",
    "    return 1 / (1 + np.exp(-z))\n",
    "\n",
    "def sigmoid_prime(z):\n",
    "    \"\"\"Derivative of the sigmoid function.\"\"\"\n",
    "    return sigmoid(z) * (1 - sigmoid(z))\n",
    "\n",
    "def step(z, threshold=0.5):\n",
    "    if z > threshold:\n",
    "        return 1\n",
    "    return 0\n",
    "\n",
    "# Feed forward neural network class\n",
    "class Network(object):\n",
    "\n",
    "    def __init__(self, sizes):\n",
    "        \"\"\"The list ``sizes`` contains the number of neurons in the\n",
    "        respective layers of the network.  For example, if the list\n",
    "        was [2, 3, 1] then it would be a three-layer network, with the\n",
    "        first layer containing 2 neurons, the second layer 3 neurons,\n",
    "        and the third layer 1 neuron.  The biases and weights for the\n",
    "        network are initialized randomly, using a Gaussian\n",
    "        distribution with mean 0, and variance 1.  Note that the first\n",
    "        layer is assumed to be an input layer, and by convention we\n",
    "        won't set any biases for those neurons, since biases are only\n",
    "        ever used in computing the outputs from later layers.\"\"\"\n",
    "        \n",
    "        self.num_layers = len(sizes)\n",
    "        self.sizes = sizes\n",
    "        \n",
    "        # Q: Print these out, explain their contents. You can instantiate a network by\n",
    "        # doing `net = Network([2, 3, 1])`, and then printing `net.biases`.\n",
    "        self.biases = [np.random.randn(y, 1) for y in sizes[1:]]\n",
    "        self.weights = [np.random.randn(y, x) for x, y in zip(sizes[:-1], sizes[1:])]\n",
    "\n",
    "    def feedforward(self, a):\n",
    "        \"\"\"Return the output of the network if ``a`` is input.\"\"\"\n",
    "        \n",
    "        # Q: What is `a`? How many iterations will this loop run? For a `sizes=[2, 3, 1]`\n",
    "        # network, what is the shape of `a` at each iteration?\n",
    "        for b, w in zip(self.biases, self.weights):\n",
    "            a = sigmoid(np.dot(w, a) + b)\n",
    "        return a\n",
    "\n",
    "    def SGD(self, training_data, epochs, mini_batch_size, eta, test_data=None, silent=False):\n",
    "        \"\"\"Train the neural network using mini-batch stochastic\n",
    "        gradient descent.  The ``training_data`` is a list of tuples\n",
    "        ``(x, y)`` representing the training inputs and the desired\n",
    "        outputs.  The other non-optional parameters are\n",
    "        self-explanatory.  If ``test_data`` is provided then the\n",
    "        network will be evaluated against the test data after each\n",
    "        epoch, and partial progress printed out.  This is useful for\n",
    "        tracking progress, but slows things down substantially.\"\"\"\n",
    "        \n",
    "        n = len(training_data)\n",
    "        if test_data:\n",
    "            n_test = len(test_data)\n",
    "        \n",
    "        for j in range(epochs):\n",
    "            \n",
    "            # Q: What happens here? Why do we shuffle the training data? Explain the\n",
    "            # contents of `mini_batches`.\n",
    "            random.shuffle(training_data)\n",
    "            mini_batches = [\n",
    "                training_data[k:k+mini_batch_size]\n",
    "                for k in range(0, n, mini_batch_size)\n",
    "            ]\n",
    "            \n",
    "            # Q: And what does this step do?\n",
    "            for mini_batch in mini_batches:\n",
    "                self.update_mini_batch(mini_batch, eta)\n",
    "            \n",
    "            if not silent:\n",
    "                if test_data:\n",
    "                    print(\"Epoch {0}: {1} / {2}\".format(j, self.evaluate(test_data), n_test))\n",
    "                else:\n",
    "                    print(\"Epoch {0} complete\".format(j))\n",
    "\n",
    "    def update_mini_batch(self, mini_batch, eta):\n",
    "        \"\"\"Update the network's weights and biases by applying\n",
    "        gradient descent using backpropagation to a single mini batch.\n",
    "        The ``mini_batch`` is a list of tuples ``(x, y)``, and ``eta``\n",
    "        is the learning rate.\"\"\"\n",
    "        \n",
    "        # A: These two vectors correspond to -∇C(W) (and -∇C(b))\n",
    "        nabla_b = [np.zeros(b.shape) for b in self.biases]\n",
    "        nabla_w = [np.zeros(w.shape) for w in self.weights]\n",
    "        \n",
    "        # Q: But what happens here? Explain, in particular, how we update `nabla_b` and `nabla_w`\n",
    "        for x, y in mini_batch:\n",
    "            delta_nabla_b, delta_nabla_w = self.backprop(x, y)\n",
    "            nabla_b = [nb+dnb for nb, dnb in zip(nabla_b, delta_nabla_b)]\n",
    "            nabla_w = [nw+dnw for nw, dnw in zip(nabla_w, delta_nabla_w)]\n",
    "            \n",
    "        # Q: Now we have our gradient vectors, `nabla_b` and `nabla_w`. Explain how we use them\n",
    "        # to update the weights and biases\n",
    "        self.weights = [\n",
    "            w - eta / len(mini_batch) * nw\n",
    "            for w, nw in zip(self.weights, nabla_w)\n",
    "        ]\n",
    "        self.biases = [\n",
    "            b - eta / len(mini_batch) * nb\n",
    "            for b, nb in zip(self.biases, nabla_b)\n",
    "        ]\n",
    "\n",
    "    def backprop(self, x, y):\n",
    "        \"\"\"Return a tuple ``(nabla_b, nabla_w)`` representing the\n",
    "        gradient for the cost function C_x.  ``nabla_b`` and\n",
    "        ``nabla_w`` are layer-by-layer lists of numpy arrays, similar\n",
    "        to ``self.biases`` and ``self.weights``.\"\"\"\n",
    "        nabla_b = [np.zeros(b.shape) for b in self.biases]\n",
    "        nabla_w = [np.zeros(w.shape) for w in self.weights]\n",
    "        \n",
    "        # feedforward\n",
    "        activation = x\n",
    "        activations = [x] # list to store all the activations, layer by layer\n",
    "        zs = [] # list to store all the z vectors, layer by layer\n",
    "        for b, w in zip(self.biases, self.weights):\n",
    "            z = np.dot(w, activation)+b\n",
    "            zs.append(z)\n",
    "            activation = sigmoid(z)\n",
    "            activations.append(activation)\n",
    "        \n",
    "        # backward pass\n",
    "        delta = self.cost_derivative(activations[-1], y) * sigmoid_prime(zs[-1])\n",
    "        nabla_b[-1] = delta\n",
    "        nabla_w[-1] = np.dot(delta, activations[-2].transpose())\n",
    "        \n",
    "        # Note that the variable l in the loop below is used a little\n",
    "        # differently to the notation in Chapter 2 of the book. Here,\n",
    "        # l = 1 means the last layer of neurons, l = 2 is the\n",
    "        # second-last layer, and so on. It's a renumbering of the\n",
    "        # scheme in the book, used here to take advantage of the fact\n",
    "        # that Python can use negative indices in lists.\n",
    "        for l in range(2, self.num_layers):\n",
    "            z = zs[-l]\n",
    "            sp = sigmoid_prime(z)\n",
    "            delta = np.dot(self.weights[-l+1].transpose(), delta) * sp\n",
    "            nabla_b[-l] = delta\n",
    "            nabla_w[-l] = np.dot(delta, activations[-l-1].transpose())\n",
    "        return nabla_b, nabla_w\n",
    "\n",
    "    def evaluate(self, test_data):\n",
    "        \"\"\"Return the number of test inputs for which the neural\n",
    "        network outputs the correct result. Note that the neural\n",
    "        network's output is assumed to be the index of whichever\n",
    "        neuron in the final layer has the highest activation.\"\"\"\n",
    "        if self.sizes[-1] == 1:\n",
    "            test_results = [\n",
    "                (step(self.feedforward(x)), y)\n",
    "                for x, y in test_data\n",
    "            ]\n",
    "        else:\n",
    "            test_results = [\n",
    "                (np.argmax(self.feedforward(x)), y)\n",
    "                for x, y in test_data\n",
    "            ]\n",
    "        return sum(int(y_pred == y) for (y_pred, y) in test_results)\n",
    "\n",
    "    def cost_derivative(self, output_activations, y):\n",
    "        \"\"\"Return the vector of partial derivatives \\partial C_x /\n",
    "        \\partial a for the output activations.\"\"\"\n",
    "        return output_activations - y"
   ]
  },
  {
   "cell_type": "markdown",
   "metadata": {},
   "source": [
    "> **Ex. 2.2.1** I want you to inspect the code so you understand what (most of) it is doing. I've inserted a number of questions as comments in the code and each one starts like `\"# Q: \"`. You should now (starting from the top), write (or code) down the answer to each one of them.\n",
    ">\n",
    "> *Hint*: You need to closely follow the code. You can verify that your idea of what a variable contains is correct, if you print it. Simply create an instance of the network and you will be able to access the variables of that instance to see what they look like."
   ]
  },
  {
   "cell_type": "code",
   "execution_count": 18,
   "metadata": {
    "ExecuteTime": {
     "end_time": "2019-02-17T09:28:40.580498Z",
     "start_time": "2019-02-17T09:28:40.575984Z"
    }
   },
   "outputs": [
    {
     "data": {
      "text/plain": [
       "[array([[-0.43885923],\n",
       "        [-1.95656878],\n",
       "        [ 0.77117281]]), array([[-2.10340546]])]"
      ]
     },
     "execution_count": 18,
     "metadata": {},
     "output_type": "execute_result"
    }
   ],
   "source": [
    "# Q: Print these out, explain their contents. You can instantiate a network by\n",
    "# doing `net = Network([2, 3, 1])`, and then printing `net.biases`.\n",
    "\n",
    "net = Network([2, 3, 1])\n",
    "net.biases"
   ]
  },
  {
   "cell_type": "markdown",
   "metadata": {},
   "source": [
    "So it's a list with two arrays, basically. The first array has shape 3 x 1 and the second has shape 1 x 1. Note that they both have just one column. These are the **bias vectors** for each of the two layers. If we had had three layers, there would be three such bias vectors."
   ]
  },
  {
   "cell_type": "code",
   "execution_count": 19,
   "metadata": {
    "ExecuteTime": {
     "end_time": "2019-02-17T09:31:49.200317Z",
     "start_time": "2019-02-17T09:31:49.195768Z"
    }
   },
   "outputs": [
    {
     "data": {
      "text/plain": [
       "[array([[-2.75142953,  0.05729418],\n",
       "        [ 0.33136031,  0.5943197 ],\n",
       "        [ 1.28536517, -0.60326497]]),\n",
       " array([[-1.81042193, -0.41611646, -1.18736476]])]"
      ]
     },
     "execution_count": 19,
     "metadata": {},
     "output_type": "execute_result"
    }
   ],
   "source": [
    "net.weights"
   ]
  },
  {
   "cell_type": "markdown",
   "metadata": {},
   "source": [
    "Here, we have again an array with two arrays. These are the **weight matrices** and each has the same number of rows as their corresponding bias vectors. The number of columns in each of the matrices corresponds to the number of input neurons there are to the corresponding layer. So since we define 2 input neurons, the first weight matrix has 2 columns, and as we define 3 hidden neurons, the second layer weight matrix has 3 columns."
   ]
  },
  {
   "cell_type": "code",
   "execution_count": null,
   "metadata": {},
   "outputs": [],
   "source": [
    "# Q: What is `a`? How many iterations will this loop run? For a `sizes=[2, 3, 1]`\n",
    "# network, what is the shape of `a` at each iteration?"
   ]
  },
  {
   "cell_type": "markdown",
   "metadata": {},
   "source": [
    "`a` is the intermediate values of the hidden- and output-neurons in each iteration of forward propagation.\n",
    "We also saw this equation during the first lecture on ANNs.\n",
    "For the current network of `sizes = [2, 3, 1]`, the for loop will run for two iterations.\n",
    "In the first iterations it computes the values of the hidden neurons (a 3 x 1 array) by matrix multiplying the input with the first layer weight matrix and addind the bias vector,\n",
    "and in the second iteration it computes the output value (a 1 x 1 array) in the same way.\n"
   ]
  },
  {
   "cell_type": "code",
   "execution_count": 20,
   "metadata": {
    "ExecuteTime": {
     "end_time": "2019-02-17T09:54:14.655708Z",
     "start_time": "2019-02-17T09:54:14.653515Z"
    }
   },
   "outputs": [],
   "source": [
    "# Q: What happens here? Why do we shuffle the training data? Explain the\n",
    "# contents of `mini_batches`."
   ]
  },
  {
   "cell_type": "markdown",
   "metadata": {},
   "source": [
    "To make gradient descent less computationally demanding, we choose, in each training epoch,\n",
    "to only evaluate the cost function and its gradient in portions of `mini_batch_size` *random* datapoints.\n",
    "This randomly choosing of datapoints to use in the cost function is what turns *gradient descent* into *stochastic gradient descent*.\n",
    "The way it is implemented here, each epoch trains on all the training data split randomly into `len(training_data)/mini_batch_size` *mini batches*,\n",
    "thus yielding `len(training_data)/mini_batch_size * epochs` weight updates with SGD in the entire training process."
   ]
  },
  {
   "cell_type": "code",
   "execution_count": null,
   "metadata": {},
   "outputs": [],
   "source": [
    "# Q: And what does this step do?"
   ]
  },
  {
   "cell_type": "markdown",
   "metadata": {},
   "source": [
    "Here, we loop through the mini batches of size `mini_batch_size` and do gradient descent."
   ]
  },
  {
   "cell_type": "code",
   "execution_count": 21,
   "metadata": {
    "ExecuteTime": {
     "end_time": "2019-02-17T10:20:05.431082Z",
     "start_time": "2019-02-17T10:20:05.428460Z"
    }
   },
   "outputs": [],
   "source": [
    "# Q: But what happens here? Explain, in particular, how we update `nabla_b` and `nabla_w`"
   ]
  },
  {
   "cell_type": "markdown",
   "metadata": {},
   "source": [
    "`nabla_b` and `nabla_w` (our gradient vectors) tells us which direction in \"weight space\" is uphill on the cost function, or practically, how much the cost function increases when a given weight is increased by one.\n",
    "`nabla_b` and `nabla_w` are initially set to zero.\n",
    "So to compute the gradient vectors for the whole mini batch, we simply compute the gradients caused by *each* individual datapoint *and add them all up*."
   ]
  },
  {
   "cell_type": "code",
   "execution_count": 22,
   "metadata": {
    "ExecuteTime": {
     "end_time": "2019-02-17T15:19:55.351076Z",
     "start_time": "2019-02-17T15:19:55.318282Z"
    }
   },
   "outputs": [],
   "source": [
    "# Q: Now we have our gradient vectors, `nabla_b` and `nabla_w`. Explain how we use them\n",
    "# to update the weights and biases"
   ]
  },
  {
   "cell_type": "markdown",
   "metadata": {},
   "source": [
    "When we've computed the gradient vectors, we must subtract them from the weight and bias matrices.\n",
    "That is what the list comprehension is doing.\n",
    "Note that it divides the learning rate `eta` by the size of the mini match.\n",
    "If we rearrange the math from `eta / len(mini_batch) * nw` to `eta * nw / len(mini_batch)`, we see that making\n",
    "this division corresponds to computing the *average* gradients of the samples in the mini batch, rather than the\n",
    "*summed* gradients.\n",
    "This is a clever way of decoupling the learning rate parameter, `eta`, from the `mini_batch_size`."
   ]
  },
  {
   "cell_type": "markdown",
   "metadata": {},
   "source": [
    "#### Classifying data"
   ]
  },
  {
   "cell_type": "markdown",
   "metadata": {},
   "source": [
    "Now let's use this network to classify some points. Remember the examples from my lecture with the two cluster? Below you get some code for generating data like that."
   ]
  },
  {
   "cell_type": "code",
   "execution_count": 4,
   "metadata": {
    "ExecuteTime": {
     "end_time": "2019-02-17T07:39:25.992439Z",
     "start_time": "2019-02-17T07:39:25.984548Z"
    }
   },
   "outputs": [],
   "source": [
    "def generate_X_linear(N=200):\n",
    "\n",
    "    X = np.vstack([\n",
    "        np.random.normal([-2, -2], 1, size=(int(N/2), 2)),\n",
    "        np.random.normal([2, 2], 1, size=(int(N/2), 2))\n",
    "    ])\n",
    "\n",
    "    y = np.array([0] * int(N/2) + [1] * int(N/2)).reshape(-1, 1)\n",
    "    \n",
    "    return X, y\n",
    "\n",
    "def generate_X_nonlinear(N=200, R=5):\n",
    "\n",
    "    X_inner = np.random.normal([0, 0], 1, size=(int(N/2), 2))\n",
    "\n",
    "    X_outer = np.array([\n",
    "        [R*np.cos(theta), R*np.sin(theta)]\n",
    "        for theta in np.linspace(0, 2 * np.pi, int(N/2))\n",
    "    ]) + np.random.randn(int(N/2), 2)\n",
    "\n",
    "    X = np.vstack([X_inner, X_outer])\n",
    "    y = np.array([0] * int(N/2) + [1] * int(N/2)).reshape(-1, 1)\n",
    "    \n",
    "    return X, y"
   ]
  },
  {
   "cell_type": "code",
   "execution_count": 31,
   "metadata": {
    "ExecuteTime": {
     "end_time": "2019-02-12T11:37:07.055485Z",
     "start_time": "2019-02-12T11:37:06.780580Z"
    }
   },
   "outputs": [
    {
     "data": {
      "image/png": "[encoded data removed]",
      "text/plain": [
       "<Figure size 648x216 with 2 Axes>"
      ]
     },
     "metadata": {
      "needs_background": "light"
     },
     "output_type": "display_data"
    }
   ],
   "source": [
    "plt.figure(figsize=(9, 3))\n",
    "\n",
    "X, y = generate_X_linear()\n",
    "plt.subplot(1, 2, 1)\n",
    "plt.title(\"Linear\", fontsize=12)\n",
    "plt.scatter(X[:, 0], X[:, 1], c=list(y.reshape(-1)))\n",
    "\n",
    "X, y = generate_X_nonlinear()\n",
    "plt.subplot(1, 2, 2)\n",
    "plt.title(\"Non-linear\", fontsize=12)\n",
    "plt.scatter(X[:, 0], X[:, 1], c=list(y.reshape(-1)))\n",
    "\n",
    "plt.show()"
   ]
  },
  {
   "cell_type": "markdown",
   "metadata": {},
   "source": [
    "The data needs to be formatted a little different when we give it to Nielsen's code. Basically, it asks for (x, y) tuple pairs, so in each tuple you have a datapoint and it's label. Furthermore, both x and y must be vertical vectors (remember why?). The function below takes `X` and `y` and returns the data in this format:"
   ]
  },
  {
   "cell_type": "code",
   "execution_count": 5,
   "metadata": {
    "ExecuteTime": {
     "end_time": "2019-02-17T07:39:49.224612Z",
     "start_time": "2019-02-17T07:39:49.220958Z"
    }
   },
   "outputs": [],
   "source": [
    "def prepare_data(X, y):\n",
    "    \"\"\"Format the dataset X and y so it fits with Nielsen's code.\"\"\"\n",
    "    return [\n",
    "        (X[i].reshape(-1, 1), y[i].reshape(-1, 1))  # our tuple (x, y)\n",
    "        for i in range(len(y))\n",
    "    ]"
   ]
  },
  {
   "cell_type": "markdown",
   "metadata": {},
   "source": [
    "Also, for the next exercise, you may find the following function useful."
   ]
  },
  {
   "cell_type": "code",
   "execution_count": 6,
   "metadata": {
    "ExecuteTime": {
     "end_time": "2019-02-17T07:39:56.009959Z",
     "start_time": "2019-02-17T07:39:56.004640Z"
    }
   },
   "outputs": [],
   "source": [
    "class cmap_in_range:\n",
    "    \"\"\"Create map to range of colors inside given domain.\n",
    "\n",
    "    Example\n",
    "    -------\n",
    "    >>> cmap = cmap_in_range([0, 1])\n",
    "    >>> cmap(0.1)\n",
    "    (0.30392156862745101, 0.30315267411304353, 0.98816547208125938, 1.0)\n",
    "    \"\"\"\n",
    "    def __init__(self, cmap_domain, cmap_range=[0, 1], cmap_style='rainbow'):\n",
    "        self.cmap_domain = cmap_domain\n",
    "        self.cmap_range = cmap_range\n",
    "        self.m = interp1d(cmap_domain, cmap_range)\n",
    "        self.cmap = plt.get_cmap(cmap_style)\n",
    "        \n",
    "    def __call__(self, value):\n",
    "        if not self.cmap_domain[0] <= value <= self.cmap_domain[1]:\n",
    "            raise Exception(\"Value must be inside cmap_domain.\")\n",
    "        return self.cmap(self.m(value))"
   ]
  },
  {
   "cell_type": "markdown",
   "metadata": {},
   "source": [
    "> **Ex. 2.2.2**: Create a neural network with `sizes=[2, 1]`. This is actually just our most basic Perceptron model with two inputs and a single output. Generate 1e5 training datapoints and 1e4 testing datapoints using the `generate_X_linear` function, and fit the neural network to this data. Once you've fitted the network, make two plots of your test datapoints, one where points are colored by predictions and another where points are colored by their true labels. Can you say something about the points that are being mislabeled?\n",
    ">\n",
    ">*Hint*: You'll probably find some of Nielsen's examples from [Chapter 1](http://neuralnetworksanddeeplearning.com/chap1.html) in his book useful. Also, note that predictions are values between 0 and 1, not hard 0s and 1s, due to the sigmoid activation function. You can deal with this however you like when you color the points by prediction."
   ]
  },
  {
   "cell_type": "code",
   "execution_count": 7,
   "metadata": {
    "ExecuteTime": {
     "end_time": "2019-02-17T07:46:49.132284Z",
     "start_time": "2019-02-17T07:46:49.128637Z"
    }
   },
   "outputs": [],
   "source": [
    "# Instantiate a one-layer neural network with 2 input neurons and 1 output neuron\n",
    "net = Network([2, 1])"
   ]
  },
  {
   "cell_type": "code",
   "execution_count": 16,
   "metadata": {
    "ExecuteTime": {
     "end_time": "2019-02-17T07:53:50.284095Z",
     "start_time": "2019-02-17T07:53:46.941144Z"
    }
   },
   "outputs": [
    {
     "name": "stdout",
     "output_type": "stream",
     "text": [
      "Epoch 0: 99 / 100\n",
      "Epoch 1: 99 / 100\n",
      "Epoch 2: 99 / 100\n",
      "Epoch 3: 99 / 100\n",
      "Epoch 4: 99 / 100\n",
      "Epoch 5: 99 / 100\n",
      "Epoch 6: 99 / 100\n",
      "Epoch 7: 99 / 100\n",
      "Epoch 8: 99 / 100\n",
      "Epoch 9: 99 / 100\n"
     ]
    }
   ],
   "source": [
    "# Generate training and test data\n",
    "X_train, y_train = generate_X_linear(10000)\n",
    "X_test, y_test = generate_X_linear(100)\n",
    "\n",
    "# Reformat data to expected input format\n",
    "data_training = prepare_data(X_train, y_train)\n",
    "data_test = prepare_data(X_test, y_test)\n",
    "\n",
    "# Train neural network\n",
    "net.SGD(\n",
    "    training_data=data_training,  # We only train on the training data\n",
    "    epochs=10,                    # and only do 10 gradient descent steps\n",
    "    mini_batch_size=100,          # each time using 100 datapoints to evaluate the cost function\n",
    "    eta=1,                        # with a learning rate of 1.\n",
    "    test_data=data_test           # We provide test data to see how well it generalizes in each epoch\n",
    ")"
   ]
  },
  {
   "cell_type": "code",
   "execution_count": 17,
   "metadata": {
    "ExecuteTime": {
     "end_time": "2019-02-17T07:53:53.622437Z",
     "start_time": "2019-02-17T07:53:53.346550Z"
    },
    "scrolled": true
   },
   "outputs": [
    {
     "data": {
      "image/png": "[encoded data removed]",
      "text/plain": [
       "<Figure size 648x216 with 2 Axes>"
      ]
     },
     "metadata": {
      "needs_background": "light"
     },
     "output_type": "display_data"
    }
   ],
   "source": [
    "# This colormap function is just for plotting. You instantiate it with some interval\n",
    "# like from 0 to 1 -- [0, 1] -- and then call it with a value in that interval to get\n",
    "# a rgb color.\n",
    "cmap = cmap_in_range([0, 1])\n",
    "\n",
    "# Plot the predictions next to the true labels. Not that I'm using the soft predictions\n",
    "# rather than hard 0s and 1s, so we can get an idea of how the decision boundary looks.\n",
    "# Alternatively, we could have also just predicted values in a grid-like fashion to get\n",
    "# predictions for the entire domain of the data.\n",
    "plt.figure(figsize=(9, 3))\n",
    "\n",
    "plt.subplot(1, 2, 1)\n",
    "plt.title(\"True\", fontsize=12)\n",
    "plt.scatter(X_test[:, 0], X_test[:, 1], c=[cmap(v) for v in y_test.reshape(-1)])\n",
    "\n",
    "plt.subplot(1, 2, 2)\n",
    "plt.title(\"Predicted\", fontsize=12)\n",
    "plt.scatter(X_test[:, 0], X_test[:, 1], color=[cmap(net.feedforward(x)[0][0]) for x in X_test])\n",
    "plt.show()"
   ]
  },
  {
   "cell_type": "markdown",
   "metadata": {},
   "source": [
    "**To comment** on the mislabeled point(s) here, it's the ones closest to the decision boundary. Looking at the true labels, you're compelled to cut the neural network some slack, since we don't want it to overfit anyway."
   ]
  },
  {
   "cell_type": "markdown",
   "metadata": {},
   "source": [
    "> **Ex. 2.2.3**: Now we want to do the same thing as in Ex. 2.2.2, but with the data generated with the `generate_X_nonlinear` function.\n",
    ">\n",
    ">*Hint*: Think back to the slides to figure out what `sizes` should be."
   ]
  },
  {
   "cell_type": "code",
   "execution_count": null,
   "metadata": {},
   "outputs": [],
   "source": [
    "# Instantiate a two-layer neural network with 2 input neurons, 3 hidden neurons and 1 output neuron.\n",
    "# The comments from Ex. 2.2.2 applies to the rest of the code\n",
    "net = Network([2, 3, 1])"
   ]
  },
  {
   "cell_type": "code",
   "execution_count": 222,
   "metadata": {
    "ExecuteTime": {
     "end_time": "2019-02-12T12:57:41.864446Z",
     "start_time": "2019-02-12T12:57:35.314710Z"
    }
   },
   "outputs": [
    {
     "name": "stdout",
     "output_type": "stream",
     "text": [
      "Epoch 0: 61 / 100\n",
      "Epoch 1: 72 / 100\n",
      "Epoch 2: 76 / 100\n",
      "Epoch 3: 79 / 100\n",
      "Epoch 4: 79 / 100\n",
      "Epoch 5: 80 / 100\n",
      "Epoch 6: 79 / 100\n",
      "Epoch 7: 80 / 100\n",
      "Epoch 8: 81 / 100\n",
      "Epoch 9: 81 / 100\n",
      "Epoch 10: 80 / 100\n",
      "Epoch 11: 80 / 100\n",
      "Epoch 12: 80 / 100\n",
      "Epoch 13: 79 / 100\n",
      "Epoch 14: 80 / 100\n",
      "Epoch 15: 79 / 100\n",
      "Epoch 16: 79 / 100\n",
      "Epoch 17: 79 / 100\n",
      "Epoch 18: 80 / 100\n",
      "Epoch 19: 80 / 100\n",
      "Epoch 20: 80 / 100\n",
      "Epoch 21: 80 / 100\n",
      "Epoch 22: 79 / 100\n",
      "Epoch 23: 79 / 100\n",
      "Epoch 24: 79 / 100\n",
      "Epoch 25: 80 / 100\n",
      "Epoch 26: 81 / 100\n",
      "Epoch 27: 81 / 100\n",
      "Epoch 28: 81 / 100\n",
      "Epoch 29: 81 / 100\n",
      "Epoch 30: 82 / 100\n",
      "Epoch 31: 82 / 100\n",
      "Epoch 32: 82 / 100\n",
      "Epoch 33: 82 / 100\n",
      "Epoch 34: 82 / 100\n",
      "Epoch 35: 82 / 100\n",
      "Epoch 36: 82 / 100\n",
      "Epoch 37: 82 / 100\n",
      "Epoch 38: 82 / 100\n",
      "Epoch 39: 82 / 100\n",
      "Epoch 40: 83 / 100\n",
      "Epoch 41: 83 / 100\n",
      "Epoch 42: 83 / 100\n",
      "Epoch 43: 84 / 100\n",
      "Epoch 44: 85 / 100\n",
      "Epoch 45: 86 / 100\n",
      "Epoch 46: 86 / 100\n",
      "Epoch 47: 86 / 100\n",
      "Epoch 48: 86 / 100\n",
      "Epoch 49: 87 / 100\n",
      "Epoch 50: 87 / 100\n",
      "Epoch 51: 87 / 100\n",
      "Epoch 52: 87 / 100\n",
      "Epoch 53: 88 / 100\n",
      "Epoch 54: 89 / 100\n",
      "Epoch 55: 90 / 100\n",
      "Epoch 56: 93 / 100\n",
      "Epoch 57: 94 / 100\n",
      "Epoch 58: 96 / 100\n",
      "Epoch 59: 98 / 100\n",
      "Epoch 60: 98 / 100\n",
      "Epoch 61: 99 / 100\n",
      "Epoch 62: 99 / 100\n",
      "Epoch 63: 100 / 100\n",
      "Epoch 64: 100 / 100\n",
      "Epoch 65: 100 / 100\n",
      "Epoch 66: 100 / 100\n",
      "Epoch 67: 100 / 100\n",
      "Epoch 68: 100 / 100\n",
      "Epoch 69: 100 / 100\n",
      "Epoch 70: 100 / 100\n",
      "Epoch 71: 100 / 100\n",
      "Epoch 72: 100 / 100\n",
      "Epoch 73: 100 / 100\n",
      "Epoch 74: 100 / 100\n",
      "Epoch 75: 100 / 100\n",
      "Epoch 76: 100 / 100\n",
      "Epoch 77: 100 / 100\n",
      "Epoch 78: 100 / 100\n",
      "Epoch 79: 100 / 100\n",
      "Epoch 80: 100 / 100\n",
      "Epoch 81: 100 / 100\n",
      "Epoch 82: 100 / 100\n",
      "Epoch 83: 100 / 100\n",
      "Epoch 84: 100 / 100\n",
      "Epoch 85: 100 / 100\n",
      "Epoch 86: 100 / 100\n",
      "Epoch 87: 100 / 100\n",
      "Epoch 88: 100 / 100\n",
      "Epoch 89: 100 / 100\n",
      "Epoch 90: 100 / 100\n",
      "Epoch 91: 100 / 100\n",
      "Epoch 92: 100 / 100\n",
      "Epoch 93: 100 / 100\n",
      "Epoch 94: 100 / 100\n",
      "Epoch 95: 100 / 100\n",
      "Epoch 96: 100 / 100\n",
      "Epoch 97: 100 / 100\n",
      "Epoch 98: 100 / 100\n",
      "Epoch 99: 99 / 100\n"
     ]
    }
   ],
   "source": [
    "X_train, y_train = generate_X_nonlinear(1000)\n",
    "X_test, y_test = generate_X_nonlinear(100)\n",
    "\n",
    "data_training = prepare_data(X_train, y_train)\n",
    "data_test = prepare_data(X_test, y_test)\n",
    "\n",
    "net.SGD(\n",
    "    training_data=data_training,\n",
    "    epochs=100,\n",
    "    mini_batch_size=10,\n",
    "    eta=0.1,               # Note that the learning rate is smaller\n",
    "    test_data=data_test,\n",
    "    silent=False\n",
    ")"
   ]
  },
  {
   "cell_type": "code",
   "execution_count": 224,
   "metadata": {
    "ExecuteTime": {
     "end_time": "2019-02-12T12:57:56.441294Z",
     "start_time": "2019-02-12T12:57:56.114031Z"
    },
    "scrolled": true
   },
   "outputs": [
    {
     "data": {
      "image/png": "[encoded data removed]",
      "text/plain": [
       "<Figure size 648x216 with 2 Axes>"
      ]
     },
     "metadata": {
      "needs_background": "light"
     },
     "output_type": "display_data"
    }
   ],
   "source": [
    "cmap = cmap_in_range([0, 1])\n",
    "\n",
    "y_true = y_test.reshape(-1)\n",
    "y_pred = [net.feedforward(x.reshape(-1, 1))[0][0] for x in X_test]\n",
    "\n",
    "plt.figure(figsize=(9, 3))\n",
    "\n",
    "plt.subplot(1, 2, 1)\n",
    "plt.title(\"True\", fontsize=12)\n",
    "plt.scatter(X_test[:, 0], X_test[:, 1], color=list(map(cmap, y_true)))\n",
    "\n",
    "plt.subplot(1, 2, 2)\n",
    "plt.title(\"Predicted\", fontsize=12)\n",
    "plt.scatter(X_test[:, 0], X_test[:, 1], color=list(map(cmap, y_pred)))\n",
    "plt.show()"
   ]
  },
  {
   "cell_type": "markdown",
   "metadata": {},
   "source": [
    "**To comment** on the predictions, again we see that most misclassifications happen when points lie close to the decision boundary. **Note** I reran the optimization a couple times before I got good predictions."
   ]
  },
  {
   "cell_type": "markdown",
   "metadata": {},
   "source": [
    "#### Classifying digits"
   ]
  },
  {
   "cell_type": "markdown",
   "metadata": {},
   "source": [
    "Let's track Nielsen's footsteps a bit further and implement his digit classification example. I've put the MNIST dataset into this week's material on Github, so you should be able to import the `mnist_loader` module and load data like:"
   ]
  },
  {
   "cell_type": "code",
   "execution_count": 2,
   "metadata": {
    "ExecuteTime": {
     "end_time": "2019-02-12T13:37:46.612076Z",
     "start_time": "2019-02-12T13:37:45.547195Z"
    }
   },
   "outputs": [],
   "source": [
    "import mnist_loader\n",
    "training_data, validation_data, test_data = mnist_loader.load_data_wrapper()"
   ]
  },
  {
   "cell_type": "markdown",
   "metadata": {},
   "source": [
    "The data is formatted to work with Nielsen's code. But just for fun, let's try to visualize on the datapoints. Originally, digits are repreented as 28 x 28 matrices, but here we just represent them as 784-dimensional arrays. However, we can easily reshape them back and look at them as images:"
   ]
  },
  {
   "cell_type": "code",
   "execution_count": 6,
   "metadata": {
    "ExecuteTime": {
     "end_time": "2019-02-12T13:39:09.024676Z",
     "start_time": "2019-02-12T13:39:08.866850Z"
    }
   },
   "outputs": [
    {
     "data": {
      "image/png": "[encoded data removed]",
      "text/plain": [
       "<Figure size 432x288 with 1 Axes>"
      ]
     },
     "metadata": {
      "needs_background": "light"
     },
     "output_type": "display_data"
    }
   ],
   "source": [
    "plt.imshow(training_data[0][0].reshape(28, 28))\n",
    "plt.show()"
   ]
  },
  {
   "cell_type": "markdown",
   "metadata": {},
   "source": [
    "> **Ex. 2.2.4**: Now, fit a model with a suiting architecture (i.e. `sizes`) to `training_data`, and report your accuracy on the `validation_data`."
   ]
  },
  {
   "cell_type": "markdown",
   "metadata": {},
   "source": [
    "> **Ex. 2.2.4**: Assuming you could get a \"pretty\" high accuracy in Ex. 2.2.4, Visualize 10 examples that get misclassified. comment on what you see."
   ]
  }
 ],
 "metadata": {
  "kernelspec": {
   "display_name": "Python 3",
   "language": "python",
   "name": "python3"
  },
  "language_info": {
   "codemirror_mode": {
    "name": "ipython",
    "version": 3
   },
   "file_extension": ".py",
   "mimetype": "text/x-python",
   "name": "python",
   "nbconvert_exporter": "python",
   "pygments_lexer": "ipython3",
   "version": "3.7.2"
  },
  "toc": {
   "base_numbering": 1,
   "nav_menu": {},
   "number_sections": false,
   "sideBar": true,
   "skip_h1_title": false,
   "title_cell": "Table of Contents",
   "title_sidebar": "Contents",
   "toc_cell": false,
   "toc_position": {},
   "toc_section_display": true,
   "toc_window_display": true
  },
  "varInspector": {
   "cols": {
    "lenName": 16,
    "lenType": 16,
    "lenVar": 40
   },
   "kernels_config": {
    "python": {
     "delete_cmd_postfix": "",
     "delete_cmd_prefix": "del ",
     "library": "var_list.py",
     "varRefreshCmd": "print(var_dic_list())"
    },
    "r": {
     "delete_cmd_postfix": ") ",
     "delete_cmd_prefix": "rm(",
     "library": "var_list.r",
     "varRefreshCmd": "cat(var_dic_list()) "
    }
   },
   "types_to_exclude": [
    "module",
    "function",
    "builtin_function_or_method",
    "instance",
    "_Feature"
   ],
   "window_display": false
  }
 },
 "nbformat": 4,
 "nbformat_minor": 2
}
