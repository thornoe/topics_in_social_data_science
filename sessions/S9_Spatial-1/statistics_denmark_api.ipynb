{
 "cells": [
  {
   "cell_type": "markdown",
   "metadata": {},
   "source": [
    "# Data API for Statistics Denmark (DST)\n",
    "\n",
    "This notebook provides a short demo on how to call the DST api. \n",
    "\n",
    "Another approach for Python is found in Kristian Urup Larsen's repository [here](https://github.com/Kristianuruplarsen/PyDST) that implements functions for pulling data. \n",
    "\n",
    "The notebook contains a function that takes as input a table code and certain input parameters. The output is a Pandas DataFrame. The notebook provides an example of how to apply the function and structure the results."
   ]
  },
  {
   "cell_type": "code",
   "execution_count": 95,
   "metadata": {},
   "outputs": [],
   "source": [
    "import requests\n",
    "from io import StringIO\n",
    "from copy import deepcopy\n",
    "\n",
    "import pandas as pd\n",
    "\n",
    "dst_api_base = 'https://api.statbank.dk/v1/data/%s/csv?'\n",
    "options_base =  {'valuePresentation':'Default',\n",
    "                'timeOrder':'Ascending',\n",
    "                'allowVariablesInHead':'true'}\n",
    "\n",
    "def dst_api_dataframe(dataset, options_input={}, print_url=True):    \n",
    "    '''\n",
    "    This function produces a dataframe for the desired \n",
    "    Statistics Denmark (DST) table. It can be specified \n",
    "    to pull particular columns.\n",
    "    \n",
    "    Parameters\n",
    "    ----------\n",
    "    dataset : str\n",
    "        DST name/code table to fetch\n",
    "    options_input : dict, optional\n",
    "        The extra options can be speficied to pull particular\n",
    "        column values. E.g. {'ABC':'*'} will return all values \n",
    "        of the column 'ABC'. Note specific column values \n",
    "        requires separation with comma_char, see example below.\n",
    "        \n",
    "    Returns    \n",
    "    -------\n",
    "    df_out : pandas.DataFrame\n",
    "        Table with desired formatted as a pandas DataFrame.\n",
    "    '''\n",
    "    \n",
    "    url = dst_api_base % dataset\n",
    "    \n",
    "    options = deepcopy(options_base)\n",
    "    \n",
    "    for k, v in options_input.items():\n",
    "        options[k] = v\n",
    "    \n",
    "    for k, v in options.items():\n",
    "        url += '%s=%s&' % (k,v) \n",
    "        \n",
    "    if print_url: print(url[:-1])\n",
    "        \n",
    "    response = requests.get(url[:-1])\n",
    "    \n",
    "    df_out = pd.read_csv(StringIO(response.text), sep=';') \n",
    "    \n",
    "    return df_out \n",
    "    \n"
   ]
  },
  {
   "cell_type": "markdown",
   "metadata": {},
   "source": [
    "# Example of calling API\n",
    "\n",
    "\n",
    "### Parish level\n",
    "In the following example we call the API using to fetch the table `KM5` which contain parish level demographic data. We want to pull all parishes for the years 2008-2010 and age 18-65."
   ]
  },
  {
   "cell_type": "code",
   "execution_count": 96,
   "metadata": {},
   "outputs": [
    {
     "name": "stdout",
     "output_type": "stream",
     "text": [
      "https://api.statbank.dk/v1/data/KM5/csv?valuePresentation=Default&timeOrder=Ascending&allowVariablesInHead=true&SOGN=*&TID=2008%2C2009%2C2010&ALDER=*\n"
     ]
    }
   ],
   "source": [
    "area = '*' # all parish\n",
    "ages = '*'\n",
    "time = range(2008, 2011)\n",
    "\n",
    "comma_char = '%2C' # separation character for making url\n",
    "\n",
    "request_options =  {'SOGN': area, \n",
    "                    'TID': comma_char.join(map(str, time)),\n",
    "                    'ALDER': ages}\n",
    "    \n",
    "dst_data = dst_api_dataframe('KM5', options_input=request_options)"
   ]
  },
  {
   "cell_type": "markdown",
   "metadata": {},
   "source": [
    "Basic structuring of the dataset which includes renaming to english names. We preserves the codes for  parish for easy joining with other datasets. Note `SOGNEKODE` means parish code."
   ]
  },
  {
   "cell_type": "code",
   "execution_count": 97,
   "metadata": {},
   "outputs": [],
   "source": [
    "dst_data['age_lb'] = dst_data.ALDER.str.findall(\"[0-9]*\").str[0].astype(int)\n",
    "\n",
    "dst_data.drop('ALDER', axis=1, inplace=True)\n",
    "\n",
    "col_map = {'TID':'year', \n",
    "           'INDHOLD':'obs_value'}\n",
    "\n",
    "dst_data['sognekode'] = dst_data.SOGN.str[:4]\n",
    "dst_data.rename(columns=col_map, inplace=True)"
   ]
  },
  {
   "cell_type": "markdown",
   "metadata": {},
   "source": [
    "***Structuring the data***\n",
    "\n",
    "We compute the share of young people in each parish."
   ]
  },
  {
   "cell_type": "code",
   "execution_count": 98,
   "metadata": {},
   "outputs": [],
   "source": [
    "# define youth variable\n",
    "dst_data['young'] = dst_data.age_lb.between(20,29)\n",
    "c_share = 'Share of young (20-30)'\n",
    "c_count = 'Count of young (20-30)'\n",
    "\n",
    "# count number of young using groupby\n",
    "young_count = dst_data\\\n",
    "                .groupby(['sognekode', 'year', 'young'])\\\n",
    "                .obs_value.sum()\\\n",
    "                .unstack(level=2)\\\n",
    "        \n",
    "\n",
    "young_share = young_count\\\n",
    "                .pipe(lambda df: df[True]/df.sum(1))\\\n",
    "                .rename(c_share)\\\n",
    "    \n",
    "    \n",
    "youth_stats = pd.concat([young_share, \n",
    "                         young_count[True].rename(c_count)], 1)\\\n",
    "                .pipe(lambda df: df.mask(df.isnull().max(1)).reset_index())"
   ]
  },
  {
   "cell_type": "markdown",
   "metadata": {},
   "source": [
    "### Municipal level"
   ]
  },
  {
   "cell_type": "code",
   "execution_count": 99,
   "metadata": {},
   "outputs": [
    {
     "name": "stdout",
     "output_type": "stream",
     "text": [
      "https://api.statbank.dk/v1/data/FOLK1A/csv?valuePresentation=Default&timeOrder=Ascending&allowVariablesInHead=true&OMRÅDE=*&TID=2008K1%2C2009K1%2C2010K1&ALDER=*\n"
     ]
    }
   ],
   "source": [
    "area = '*' # all parish\n",
    "ages = '*'\n",
    "time = [f'{år}K1' for år in range(2008, 2011)]\n",
    "\n",
    "comma_char = '%2C' # separation character for making url\n",
    "\n",
    "request_options =  {'OMRÅDE':area,\n",
    "                    'TID': comma_char.join(map(str, time)),\n",
    "                    'ALDER': ages}\n",
    "    \n",
    "dst_data_kom = dst_api_dataframe('FOLK1A', options_input=request_options)"
   ]
  },
  {
   "cell_type": "markdown",
   "metadata": {},
   "source": [
    "Basic structuring of the dataset which includes renaming to english names. We rename `OMRÅDE`, which means area, as it contains municipality names ."
   ]
  },
  {
   "cell_type": "code",
   "execution_count": 100,
   "metadata": {},
   "outputs": [],
   "source": [
    "remove = (dst_data_kom.OMRÅDE=='Hele landet') | \\\n",
    "         dst_data_kom.OMRÅDE.str.contains('Region')\n",
    "\n",
    "dst_data_kom = dst_data_kom.loc[~remove].copy()\n",
    "\n",
    "dst_data_kom['age'] = \\\n",
    "    dst_data_kom.ALDER.str.findall(\"[0-9]*\").str[0].replace('',pd.np.nan).astype(float)\n",
    "\n",
    "dst_data_kom.drop('ALDER', axis=1, inplace=True)\n",
    "\n",
    "dst_data_kom.rename(columns={'INDHOLD':'obs_value',\n",
    "                             'OMRÅDE':'komnavn'}, \n",
    "                    inplace=True)\n",
    "dst_data_kom['year'] = dst_data_kom.TID.str[:4].astype(int)"
   ]
  },
  {
   "cell_type": "markdown",
   "metadata": {},
   "source": [
    "***Structuring the data***\n",
    "\n",
    "We compute the share of young people in each municipality."
   ]
  },
  {
   "cell_type": "code",
   "execution_count": 101,
   "metadata": {},
   "outputs": [],
   "source": [
    "# define youth variable\n",
    "dst_data_kom['young'] = dst_data_kom.age.between(20,29)\n",
    "c_share = 'Share of young (20-30)'\n",
    "c_count = 'Count of young (20-30)'\n",
    "\n",
    "# count number of young using groupby\n",
    "young_count_mun = dst_data_kom\\\n",
    "                .groupby(['komnavn', 'year', 'young'])\\\n",
    "                .obs_value.sum()\\\n",
    "                .unstack(level=2)\\\n",
    "        \n",
    "\n",
    "young_share_mun = young_count_mun\\\n",
    "                .pipe(lambda df: df[True]/df.sum(1))\\\n",
    "                .rename(c_share)\\\n",
    "    \n",
    "    \n",
    "youth_stats_mun = pd.concat([young_share_mun, \n",
    "                         young_count_mun[True].rename(c_count)], 1)\\\n",
    "                .pipe(lambda df: df.mask(df.isnull().max(1)).reset_index())"
   ]
  }
 ],
 "metadata": {
  "kernelspec": {
   "display_name": "Python 3",
   "language": "python",
   "name": "python3"
  },
  "language_info": {
   "codemirror_mode": {
    "name": "ipython",
    "version": 3
   },
   "file_extension": ".py",
   "mimetype": "text/x-python",
   "name": "python",
   "nbconvert_exporter": "python",
   "pygments_lexer": "ipython3",
   "version": "3.7.0"
  }
 },
 "nbformat": 4,
 "nbformat_minor": 2
}
