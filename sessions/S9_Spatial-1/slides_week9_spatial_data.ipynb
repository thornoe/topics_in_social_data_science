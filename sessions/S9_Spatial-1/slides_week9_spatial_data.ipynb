{
 "cells": [
  {
   "cell_type": "markdown",
   "metadata": {
    "slideshow": {
     "slide_type": "skip"
    }
   },
   "source": [
    "# INPUT TO SLIDES"
   ]
  },
  {
   "cell_type": "code",
   "execution_count": 1,
   "metadata": {
    "slideshow": {
     "slide_type": "skip"
    }
   },
   "outputs": [
    {
     "data": {
      "image/png": "[encoded data removed]",
      "text/plain": [
       "<Figure size 864x432 with 2 Axes>"
      ]
     },
     "metadata": {
      "needs_background": "light"
     },
     "output_type": "display_data"
    },
    {
     "ename": "SyntaxError",
     "evalue": "EOL while scanning string literal (<ipython-input-1-3a4eacdf45f6>, line 19)",
     "output_type": "error",
     "traceback": [
      "\u001b[1;36m  File \u001b[1;32m\"<ipython-input-1-3a4eacdf45f6>\"\u001b[1;36m, line \u001b[1;32m19\u001b[0m\n\u001b[1;33m    \"\"\"\"\u001b[0m\n\u001b[1;37m        \n^\u001b[0m\n\u001b[1;31mSyntaxError\u001b[0m\u001b[1;31m:\u001b[0m EOL while scanning string literal\n"
     ]
    }
   ],
   "source": [
    "%run spatial_data_auxiliary.ipynb"
   ]
  },
  {
   "cell_type": "markdown",
   "metadata": {
    "slideshow": {
     "slide_type": "slide"
    }
   },
   "source": [
    "# Spatial data\n",
    "Manipulation and plotting\n",
    "\n",
    "*Andreas Bjerre-Nielsen*"
   ]
  },
  {
   "cell_type": "markdown",
   "metadata": {
    "slideshow": {
     "slide_type": "slide"
    }
   },
   "source": [
    "# Overview\n",
    "- [Introduction](#Motivation)\n",
    "- [Spatial fundementals: shapes and coordinates](#Core-concepts)\n",
    "- Working with spatial data\n",
    "    - [Geopandas for data stucturing](#Spatial-Data-Structures)\n",
    "    - Plotting: static and [interactive](#Folium:-Plots-with-interaction)\n",
    "\n",
    "- Spatial procedures:\n",
    "    - [input-output](#Loading-and-storing-spatial-data)\n",
    "    - [set-operations and joins](#Spatial-operations)\n",
    "    - [interpolation](#Spatial-interpolation)\n",
    "- Other: assignments and exam project"
   ]
  },
  {
   "cell_type": "markdown",
   "metadata": {
    "slideshow": {
     "slide_type": "slide"
    }
   },
   "source": [
    "# Motivation"
   ]
  },
  {
   "cell_type": "markdown",
   "metadata": {
    "slideshow": {
     "slide_type": "slide"
    }
   },
   "source": [
    "## Why spatial data?\n",
    "\n",
    "- Data supply is exploding\n",
    "    - Free public big data\n",
    "        - Infrastructure and buildings\n",
    "        - Weather, housing market, traffic, job openings\n",
    "        - Other APIs\n",
    "    - Private big data\n",
    "        - Smartphone: GPS sensors/wifi\n",
    "- Spatial proximity > social relation?\n"
   ]
  },
  {
   "cell_type": "markdown",
   "metadata": {
    "slideshow": {
     "slide_type": "slide"
    }
   },
   "source": [
    "## Why spatial data? (2)\n",
    "\n",
    "Let's try some free public data: \n",
    "- Where are the restaurants in Denmark? (i.e. where do people live)"
   ]
  },
  {
   "cell_type": "code",
   "execution_count": 2,
   "metadata": {
    "slideshow": {
     "slide_type": "-"
    }
   },
   "outputs": [
    {
     "ename": "NameError",
     "evalue": "name 'f_restaurant_buffer' is not defined",
     "output_type": "error",
     "traceback": [
      "\u001b[1;31m---------------------------------------------------------------------------\u001b[0m",
      "\u001b[1;31mNameError\u001b[0m                                 Traceback (most recent call last)",
      "\u001b[1;32m<ipython-input-2-2c74c9db405a>\u001b[0m in \u001b[0;36m<module>\u001b[1;34m\u001b[0m\n\u001b[1;32m----> 1\u001b[1;33m \u001b[0mf_restaurant_buffer\u001b[0m\u001b[1;33m\u001b[0m\u001b[1;33m\u001b[0m\u001b[0m\n\u001b[0m",
      "\u001b[1;31mNameError\u001b[0m: name 'f_restaurant_buffer' is not defined"
     ]
    }
   ],
   "source": [
    "f_restaurant_buffer"
   ]
  },
  {
   "cell_type": "markdown",
   "metadata": {
    "slideshow": {
     "slide_type": "slide"
    }
   },
   "source": [
    "## Why spatial data? (3)\n",
    "\n",
    "- Feature engineering\n",
    "    - Approximate local measures (interpolation)\n",
    "    - Intersect behavior and context:\n",
    "        - Did you visit the supermarket yesterday?\n",
    "        - Are people who spend more time in greenspace less streesed, less likely to use their phone?\n",
    "- Identification strategy\n",
    "    - Spatial RD: use separation administrative boundaries as causal effect\n",
    "    - Heterogeneous policy responses:"
   ]
  },
  {
   "cell_type": "markdown",
   "metadata": {
    "slideshow": {
     "slide_type": "slide"
    }
   },
   "source": [
    "# Core concepts"
   ]
  },
  {
   "cell_type": "markdown",
   "metadata": {
    "slideshow": {
     "slide_type": "slide"
    }
   },
   "source": [
    "## What is spatial data? \n",
    "\n",
    "- What are spatial objects? Do you know any?"
   ]
  },
  {
   "cell_type": "markdown",
   "metadata": {
    "slideshow": {
     "slide_type": "-"
    }
   },
   "source": [
    "- Spatial objects include classic geometric objects (lines, circles, squares etc.)\n",
    "- Divided into four different generic shapes:\n",
    "    - Point\n",
    "    - LineString\n",
    "    - Polygon (also approximates circles)\n",
    "    - Multipolygon"
   ]
  },
  {
   "cell_type": "markdown",
   "metadata": {
    "slideshow": {
     "slide_type": "slide"
    }
   },
   "source": [
    "## What is spatial data? (2)\n",
    "\n",
    "Example of a LineString"
   ]
  },
  {
   "cell_type": "code",
   "execution_count": null,
   "metadata": {
    "slideshow": {
     "slide_type": "-"
    }
   },
   "outputs": [],
   "source": [
    "from shapely.geometry import LineString\n",
    "\n",
    "line_coords = np.array([[0,3],[1,3],[2,4]])\n",
    "\n",
    "LineString(line_coords)"
   ]
  },
  {
   "cell_type": "markdown",
   "metadata": {
    "slideshow": {
     "slide_type": "slide"
    }
   },
   "source": [
    "## What is spatial data? (3)\n",
    "\n",
    "Example of a polygon"
   ]
  },
  {
   "cell_type": "code",
   "execution_count": null,
   "metadata": {
    "slideshow": {
     "slide_type": "-"
    }
   },
   "outputs": [],
   "source": [
    "from shapely.geometry import Polygon\n",
    "\n",
    "triangle_coords = np.array([[0,0],[2,0],[1,2]])\n",
    "\n",
    "Polygon(triangle_coords)"
   ]
  },
  {
   "cell_type": "markdown",
   "metadata": {
    "slideshow": {
     "slide_type": "slide"
    }
   },
   "source": [
    "## What is spatial data? (4)\n",
    "\n",
    "Examples of multi-polygons"
   ]
  },
  {
   "cell_type": "code",
   "execution_count": null,
   "metadata": {
    "slideshow": {
     "slide_type": "-"
    }
   },
   "outputs": [],
   "source": [
    "from shapely.geometry import MultiPolygon\n",
    "\n",
    "square = np.array([[3,0],[3,1],[4,1],[4,0]])\n",
    "\n",
    "MultiPolygon([Polygon(triangle_coords),\n",
    "              Polygon(square)])"
   ]
  },
  {
   "cell_type": "markdown",
   "metadata": {
    "slideshow": {
     "slide_type": "slide"
    }
   },
   "source": [
    "## How do we measure spatial data? \n",
    "\n",
    "We need to define the space we work in. What could this be?"
   ]
  },
  {
   "cell_type": "markdown",
   "metadata": {
    "slideshow": {
     "slide_type": "-"
    }
   },
   "source": [
    "- Observations on earth use different Coordinate References System (CRS).\n",
    "\n",
    "- Some CRS are local and some are global.\n"
   ]
  },
  {
   "cell_type": "markdown",
   "metadata": {
    "slideshow": {
     "slide_type": "slide"
    }
   },
   "source": [
    "## How do we measure spatial data?  (2)\n",
    "\n",
    "The standard CRS is:"
   ]
  },
  {
   "cell_type": "markdown",
   "metadata": {
    "slideshow": {
     "slide_type": "-"
    }
   },
   "source": [
    "- The Global Positioning System (GPS)\n",
    "  - Technically called WGS84\n",
    "  - Has EPSG code 4326       \n",
    "- Used on Google Maps, Apple Maps etc.\n",
    "\n",
    "**OBS:** The length of one degree in metrees depends on altitude!"
   ]
  },
  {
   "cell_type": "markdown",
   "metadata": {
    "slideshow": {
     "slide_type": "slide"
    }
   },
   "source": [
    "## How do we measure spatial data?  (3)\n",
    "\n",
    "Working with Danish spatial data you often encounter:"
   ]
  },
  {
   "cell_type": "markdown",
   "metadata": {
    "slideshow": {
     "slide_type": "-"
    }
   },
   "source": [
    "- The Danish mapping reference \n",
    "  - Technically called ETRS89 UTM Zone 32 North\n",
    "  - Has EPSG code 25832\n",
    "  - This is used in Danish admin data.\n",
    "  - Coordinates measured in meters: can use Euclidian distance"
   ]
  },
  {
   "cell_type": "markdown",
   "metadata": {
    "slideshow": {
     "slide_type": "slide"
    }
   },
   "source": [
    "# Applied spatial data"
   ]
  },
  {
   "cell_type": "markdown",
   "metadata": {
    "slideshow": {
     "slide_type": "slide"
    }
   },
   "source": [
    "## How do we work with spatial data?\n",
    "\n",
    "GeoPandas: \n",
    "- Collection of spatial objects\n",
    "    - Powerful data structuring \n",
    "    - Static plots\n",
    "- Combines Pandas with\n",
    "    - Shapely (Python shape objects)\n",
    "    - Fiona (low level, ultra fast for complex operations)\n",
    "\n",
    "Folium\n",
    "- Interactive plots: map overlay for OpenStreetMaps and zoom"
   ]
  },
  {
   "cell_type": "markdown",
   "metadata": {
    "slideshow": {
     "slide_type": "slide"
    }
   },
   "source": [
    "# Spatial Data Structures"
   ]
  },
  {
   "cell_type": "markdown",
   "metadata": {
    "slideshow": {
     "slide_type": "slide"
    }
   },
   "source": [
    "## Spatial shapes\n",
    "\n",
    "We have already seen how to employ `shapely` to construct spatial shapes."
   ]
  },
  {
   "cell_type": "code",
   "execution_count": null,
   "metadata": {
    "slideshow": {
     "slide_type": "-"
    }
   },
   "outputs": [],
   "source": [
    "points = np.linspace(0, 2*np.pi, 101)\n",
    "unit_circle_points = [(np.cos(d),np.sin(d)) for d in points]\n",
    "Polygon(unit_circle_points)"
   ]
  },
  {
   "cell_type": "markdown",
   "metadata": {
    "slideshow": {
     "slide_type": "fragment"
    }
   },
   "source": [
    "What if we have more than one spatial object?"
   ]
  },
  {
   "cell_type": "markdown",
   "metadata": {
    "slideshow": {
     "slide_type": "fragment"
    }
   },
   "source": [
    "We could store spatial objects in lists but that is not smart. Why?"
   ]
  },
  {
   "cell_type": "markdown",
   "metadata": {
    "slideshow": {
     "slide_type": "slide"
    }
   },
   "source": [
    "## GeoSeries\n",
    "A smart container for spatial data is the GeoSeries:\n",
    "- 1d array with labels (like Pandas series) \n",
    "- useful spatial tools"
   ]
  },
  {
   "cell_type": "code",
   "execution_count": null,
   "metadata": {
    "slideshow": {
     "slide_type": "-"
    }
   },
   "outputs": [],
   "source": [
    "world_map = gpd.read_file(gpd.datasets.get_path('naturalearth_lowres'))\n",
    "world_map.geometry.head(3)"
   ]
  },
  {
   "cell_type": "markdown",
   "metadata": {
    "slideshow": {
     "slide_type": "slide"
    }
   },
   "source": [
    "## GeoDataFrame\n",
    "\n",
    "There is also the GeoDataFrame which has a dedicated column for geometry:"
   ]
  },
  {
   "cell_type": "code",
   "execution_count": null,
   "metadata": {
    "slideshow": {
     "slide_type": "-"
    }
   },
   "outputs": [],
   "source": [
    "world_map.crs"
   ]
  },
  {
   "cell_type": "markdown",
   "metadata": {
    "slideshow": {
     "slide_type": "slide"
    }
   },
   "source": [
    "# Map making"
   ]
  },
  {
   "cell_type": "markdown",
   "metadata": {
    "slideshow": {
     "slide_type": "slide"
    }
   },
   "source": [
    "## Static plots\n",
    "\n",
    "Let's try to plot the world's countries. Easy as hell with GeoPandas:"
   ]
  },
  {
   "cell_type": "code",
   "execution_count": null,
   "metadata": {
    "slideshow": {
     "slide_type": "-"
    }
   },
   "outputs": [],
   "source": [
    "world_map.plot(figsize=(14,7))"
   ]
  },
  {
   "cell_type": "markdown",
   "metadata": {
    "slideshow": {
     "slide_type": "slide"
    }
   },
   "source": [
    "## Static plots (2)\n",
    "\n",
    "Now let's try to plot the share of young around in the Capital Region of Denmark (excluding Bornholm).\n",
    "\n",
    "Data is from Statistics Denmark at Parish level."
   ]
  },
  {
   "cell_type": "code",
   "execution_count": null,
   "metadata": {
    "slideshow": {
     "slide_type": "-"
    }
   },
   "outputs": [],
   "source": [
    "f_cph_young_share"
   ]
  },
  {
   "cell_type": "markdown",
   "metadata": {
    "slideshow": {
     "slide_type": "slide"
    }
   },
   "source": [
    "## Static plots (3)\n",
    "\n",
    "Using municipal level statistics we see much smaller variation."
   ]
  },
  {
   "cell_type": "code",
   "execution_count": null,
   "metadata": {
    "slideshow": {
     "slide_type": "-"
    }
   },
   "outputs": [],
   "source": [
    "f_cph_young_share_mun"
   ]
  },
  {
   "cell_type": "markdown",
   "metadata": {
    "slideshow": {
     "slide_type": "slide"
    }
   },
   "source": [
    "## Static plots (4)\n",
    "\n",
    "What should be very careful about when making plots?"
   ]
  },
  {
   "cell_type": "markdown",
   "metadata": {
    "slideshow": {
     "slide_type": "fragment"
    }
   },
   "source": [
    "Never plot sum or count !!! We mix in population density."
   ]
  },
  {
   "cell_type": "code",
   "execution_count": null,
   "metadata": {
    "slideshow": {
     "slide_type": "-"
    }
   },
   "outputs": [],
   "source": [
    "f_cph_young_count_mun"
   ]
  },
  {
   "cell_type": "markdown",
   "metadata": {
    "slideshow": {
     "slide_type": "slide"
    }
   },
   "source": [
    "## Folium: Plots with interaction\n",
    "\n",
    "Make a map of many points for Danish supermarkets."
   ]
  },
  {
   "cell_type": "code",
   "execution_count": null,
   "metadata": {
    "scrolled": true,
    "slideshow": {
     "slide_type": "-"
    }
   },
   "outputs": [],
   "source": [
    "m_dk_supermarket"
   ]
  },
  {
   "cell_type": "markdown",
   "metadata": {
    "slideshow": {
     "slide_type": "slide"
    }
   },
   "source": [
    "# Loading and storing spatial data\n",
    "\n",
    "There are two standard formats:\n",
    "- GeoJSON (.geojson):\n",
    "    - This is getting more common, especially in more modern applications.\n",
    "- Shapefiles (.shp)\n",
    "    - The de-facto standard format. This is a collection of files where the central one is the `.shp` file.\n",
    "    \n",
    "Example - load house price data:"
   ]
  },
  {
   "cell_type": "code",
   "execution_count": null,
   "metadata": {
    "slideshow": {
     "slide_type": "-"
    }
   },
   "outputs": [],
   "source": [
    "import geopandas as gpd\n",
    "gdf = gpd.read_file('house_prices.geojson')"
   ]
  },
  {
   "cell_type": "markdown",
   "metadata": {
    "slideshow": {
     "slide_type": "slide"
    }
   },
   "source": [
    "# Spatial operations \n",
    "\n",
    "When having two or more spatial objects it is possible to make interactions between them.\n",
    "\n",
    "Basic operations\n",
    "\n",
    "- Shortest distance between shapes (e.g. Euclidian distance between two points)\n",
    "    - What about in spherical coordinates? (using Haversine formula is one solution)"
   ]
  },
  {
   "cell_type": "markdown",
   "metadata": {
    "slideshow": {
     "slide_type": "slide"
    }
   },
   "source": [
    "# Spatial operations (2)\n",
    "\n",
    "Advanced operations\n",
    "\n",
    "- Set like operations ~ make new shapes:\n",
    "    - Intersection (A and B)\n",
    "    - Union (A or B)    \n",
    "    - Difference (A not B)\n",
    "- We can ask whether two shapes \n",
    "    - Intersect or not\n",
    "    - Touch or not"
   ]
  },
  {
   "cell_type": "markdown",
   "metadata": {
    "slideshow": {
     "slide_type": "slide"
    }
   },
   "source": [
    "# Spatial operations (3)\n",
    "\n",
    "Basic 'set-like' operations in `shapely`."
   ]
  },
  {
   "cell_type": "code",
   "execution_count": null,
   "metadata": {
    "slideshow": {
     "slide_type": "-"
    }
   },
   "outputs": [],
   "source": [
    "rect_coords = [[0, 0], [0, 2], [1, 2], [1, 0]]\n",
    "\n",
    "A = Polygon(triangle_coords)\n",
    "B = Polygon(rect_coords)\n",
    "\n",
    "\n",
    "\n",
    "A - B # union\n",
    "# A & B # intersection\n",
    "# A - B # set difference"
   ]
  },
  {
   "cell_type": "markdown",
   "metadata": {
    "slideshow": {
     "slide_type": "slide"
    }
   },
   "source": [
    "# Spatial operations (4)\n",
    " \n",
    "Example of spatial join through intersection with `GeoPandas`' `sjoin`."
   ]
  },
  {
   "cell_type": "code",
   "execution_count": null,
   "metadata": {},
   "outputs": [],
   "source": [
    "kommuner_cph.plot()"
   ]
  },
  {
   "cell_type": "code",
   "execution_count": null,
   "metadata": {
    "slideshow": {
     "slide_type": "-"
    }
   },
   "outputs": [],
   "source": [
    "supermarket_cph = gpd.sjoin(gdf_supermarket, kommuner_cph)\n",
    "supermarket_cph.head(3)"
   ]
  },
  {
   "cell_type": "markdown",
   "metadata": {
    "slideshow": {
     "slide_type": "slide"
    }
   },
   "source": [
    "# Spatial operations (5)\n",
    "\n",
    "Check output of spatial join"
   ]
  },
  {
   "cell_type": "code",
   "execution_count": null,
   "metadata": {
    "slideshow": {
     "slide_type": "-"
    }
   },
   "outputs": [],
   "source": [
    "centroid = supermarket_cph.centroid.to_crs(epsg=4326)\n",
    "for lat,lon in zip(centroid.y, centroid.x):\n",
    "    marker_cluster_cph.add_child(folium.Marker(location=[lat, lon]))\n",
    "marker_cluster_cph.add_to(m_dk_supermarket_cph)\n",
    "m_dk_supermarket_cph"
   ]
  },
  {
   "cell_type": "markdown",
   "metadata": {
    "slideshow": {
     "slide_type": "slide"
    }
   },
   "source": [
    "# Spatial interpolation"
   ]
  },
  {
   "cell_type": "markdown",
   "metadata": {
    "slideshow": {
     "slide_type": "slide"
    }
   },
   "source": [
    "## Why spatial interpolation?\n",
    "\n",
    "- Often we are interested in \n",
    "    - Look up local weather\n",
    "    - Data for neighborhoods not just points\n",
    "    - Having measure available everywhere\n",
    "    \n",
    "\n",
    "- Spatial data is often sparse and pointwise    \n",
    "    - What about areas in between?\n",
    "    - Which points to use?\n"
   ]
  },
  {
   "cell_type": "markdown",
   "metadata": {
    "slideshow": {
     "slide_type": "slide"
    }
   },
   "source": [
    "## Why spatial interpolation? (2)\n",
    "\n",
    "Let's plot 2012 house sale prices. \n",
    "- We notice some rural regions have little coverage "
   ]
  },
  {
   "cell_type": "code",
   "execution_count": null,
   "metadata": {
    "slideshow": {
     "slide_type": "-"
    }
   },
   "outputs": [],
   "source": [
    "f_price_pointcloud"
   ]
  },
  {
   "cell_type": "markdown",
   "metadata": {
    "slideshow": {
     "slide_type": "slide"
    }
   },
   "source": [
    "## What is spatial interpolation? \n",
    "\n",
    "What is the simplest possible spatial interpolation pattern?"
   ]
  },
  {
   "cell_type": "markdown",
   "metadata": {
    "slideshow": {
     "slide_type": "-"
    }
   },
   "source": [
    "- The nearest neighbor?\n",
    "\n",
    "- The nearest neighbor plot is known a the Voronoi plot"
   ]
  },
  {
   "cell_type": "markdown",
   "metadata": {
    "slideshow": {
     "slide_type": "slide"
    }
   },
   "source": [
    "## What is spatial interpolation? (2)\n",
    "\n",
    "Let's see what a Voronoi plot looks like"
   ]
  },
  {
   "cell_type": "code",
   "execution_count": null,
   "metadata": {
    "slideshow": {
     "slide_type": "-"
    }
   },
   "outputs": [],
   "source": [
    "make_vor_plot()"
   ]
  },
  {
   "cell_type": "markdown",
   "metadata": {
    "slideshow": {
     "slide_type": "slide"
    }
   },
   "source": [
    "## What is spatial interpolation? (3)\n",
    "\n",
    "The Voronoi plot for Danish house sale prices in 2012:\n"
   ]
  },
  {
   "cell_type": "code",
   "execution_count": null,
   "metadata": {
    "slideshow": {
     "slide_type": "-"
    }
   },
   "outputs": [],
   "source": [
    "f_price_voronoi"
   ]
  },
  {
   "cell_type": "markdown",
   "metadata": {
    "slideshow": {
     "slide_type": "slide"
    }
   },
   "source": [
    "## What is spatial interpolation? (4)\n",
    "\n",
    "The nearest neighbor method (exercise)\n",
    "\n",
    "- Find the k nearest points\n",
    "    - Regression: Take mean of k-nearest\n",
    "    - Classification: Take mode of k-nearest\n",
    "\n",
    "- The measurement space can be physical e.g. surface distance i 2d \n",
    "- A machine learning model \n",
    "    - non-parametric approach\n",
    "    - requires normalization (e.g. L2)"
   ]
  },
  {
   "cell_type": "markdown",
   "metadata": {
    "slideshow": {
     "slide_type": "slide"
    }
   },
   "source": [
    "# Summary\n",
    "\n",
    "We have learned about\n",
    "- Spatial shapes and coordinate systems\n",
    "- Perform operations on single shapes and collections of shapes\n",
    "- Make interactive maps\n",
    "- Interpolate spatial data"
   ]
  }
 ],
 "metadata": {
  "celltoolbar": "Slideshow",
  "kernelspec": {
   "display_name": "Python 3",
   "language": "python",
   "name": "python3"
  },
  "language_info": {
   "codemirror_mode": {
    "name": "ipython",
    "version": 3
   },
   "file_extension": ".py",
   "mimetype": "text/x-python",
   "name": "python",
   "nbconvert_exporter": "python",
   "pygments_lexer": "ipython3",
   "version": "3.6.8"
  }
 },
 "nbformat": 4,
 "nbformat_minor": 2
}
