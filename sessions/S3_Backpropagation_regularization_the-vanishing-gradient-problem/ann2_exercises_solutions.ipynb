{
 "cells": [
  {
   "cell_type": "markdown",
   "metadata": {},
   "source": [
    "> **DO NOT EDIT IF INSIDE tsds folder**\n"
   ]
  },
  {
   "cell_type": "markdown",
   "metadata": {},
   "source": [
    "# Week 3: Artificial Neural Networks 2\n",
    "\n",
    "*Wednesday, February 19, 2019*\n",
    "\n",
    "Today, you will complete your understanding of Nielsen's code by understanding how backpropagation is implemented. Then you will move on to problems about regularization in neural networks and something we call \"the vanishing gradient problem\".\n",
    "- Part 3.1: Backpropagation\n",
    "- Part 3.2: Regularization\n",
    "- Part 3.3: Vanishing gradients\n",
    "\n",
    "**Questions**: Outside of class, use [issue](https://github.com/abjer/tsds/issues) on GitHub for asking questions."
   ]
  },
  {
   "cell_type": "code",
   "execution_count": 153,
   "metadata": {
    "ExecuteTime": {
     "end_time": "2019-02-21T09:34:25.918150Z",
     "start_time": "2019-02-21T09:34:25.812413Z"
    }
   },
   "outputs": [],
   "source": [
    "%matplotlib inline\n",
    "\n",
    "import numpy as np\n",
    "import random\n",
    "import matplotlib.pylab as plt\n",
    "from scipy.interpolate import interp1d\n",
    "import mnist_loader\n",
    "from datetime import datetime as dt"
   ]
  },
  {
   "cell_type": "markdown",
   "metadata": {},
   "source": [
    "## Exercises"
   ]
  },
  {
   "cell_type": "markdown",
   "metadata": {},
   "source": [
    "### Part 3.1: Backpropagation\n",
    "\n",
    "Last week I introduced you to [Nielsen's](http://neuralnetworksanddeeplearning.com/chap1.html) general implementation of a feed forward neural network. **Your understanding** of neural networks should now be something along the lines of: (1) a datapoint propagates forward through the network, then (2) a cost (how bad the prediction is) is evaluated and its gradient wrt. each weight is computed, and finally (3) the weights are updated according to how much they influence the cost.\n",
    "\n",
    "However, something important is missing from our understanding at this point. Remember, that *gradient descent* – the algorithm for minimizing the cost function, which we can think of as ball rolling downhill – needs to known which direction is downhill on the cost function. The gradient tells us this. **So how do we compute the cost function's gradient?** Enter: *backpropagation*. Backpropagation is an algorithm which computes the gradient of the cost function wrt. each weight in the network, from right to left, by iteratively applying *the chain rule*. It is called *back*-propagation because it propagates gradients *back*-wards in this fashion."
   ]
  },
  {
   "cell_type": "markdown",
   "metadata": {},
   "source": [
    "#### Pen and paper calculations"
   ]
  },
  {
   "cell_type": "markdown",
   "metadata": {},
   "source": [
    "First, I want you to do some pen and paper calculations to hand-compute gradients in a real neural network."
   ]
  },
  {
   "cell_type": "markdown",
   "metadata": {},
   "source": [
    "![img](https://raw.githubusercontent.com/abjer/tsds/master/material_exercises/week_3/2_3_1_net.png)"
   ]
  },
  {
   "cell_type": "markdown",
   "metadata": {},
   "source": [
    "> **Ex. 3.1.1**: The network above has a defined input and weights. If the true label for the datapoint `[4, 2]` is 1, what is the cost?"
   ]
  },
  {
   "cell_type": "markdown",
   "metadata": {},
   "source": [
    "![img](https://raw.githubusercontent.com/abjer/tsds/master/material_exercises/week_3/2_3_1_net_compgraph_forward.png)"
   ]
  },
  {
   "cell_type": "markdown",
   "metadata": {},
   "source": [
    "> **Ex. 3.1.2**: Knowing about backpropagation, we actually have everything we need here to compute the gradients of the weights by hand. So go ahead and do that. Report your answer either as a diagram that includes the gradients (you can draw on my figure somehow and insert the resulting image), or just by writing what the gradient of each weight is.\n",
    ">\n",
    "> *Hint: When computing gradients with backprop, it can be a bit easier to think of the network as a computational graph. My computational graph looks like [this](https://github.com/abjer/tsds/blob/master/material_exercises/week_3/2_3_1_net_compgraph.png?raw=true).*"
   ]
  },
  {
   "cell_type": "markdown",
   "metadata": {},
   "source": [
    "#### Understanding the code implementation"
   ]
  },
  {
   "cell_type": "markdown",
   "metadata": {
    "ExecuteTime": {
     "end_time": "2019-02-19T12:23:23.451037Z",
     "start_time": "2019-02-19T12:23:23.446177Z"
    }
   },
   "source": [
    "I've copied my version of Nielsen's code below. It's an **exact copy** from last week, except I've removed by previous `#Q:` comments and inserted some new ones. In the exercises below you will have to figure out what the `backprop` method is doing, and compute some gradients for very simple neural networks with pen and paper."
   ]
  },
  {
   "cell_type": "code",
   "execution_count": 47,
   "metadata": {
    "ExecuteTime": {
     "end_time": "2019-02-19T12:41:50.923481Z",
     "start_time": "2019-02-19T12:41:50.876424Z"
    }
   },
   "outputs": [],
   "source": [
    "# Miscellaneous functions\n",
    "def sigmoid(z):\n",
    "    \"\"\"The sigmoid function.\"\"\"\n",
    "    return 1 / (1 + np.exp(-z))\n",
    "\n",
    "def sigmoid_prime(z):\n",
    "    \"\"\"Derivative of the sigmoid function.\"\"\"\n",
    "    return sigmoid(z) * (1 - sigmoid(z))\n",
    "\n",
    "def step(z, threshold=0.5):\n",
    "    if z > threshold:\n",
    "        return 1\n",
    "    return 0\n",
    "\n",
    "# Feed forward neural network class\n",
    "class Network(object):\n",
    "\n",
    "    def __init__(self, sizes):\n",
    "        \"\"\"The list ``sizes`` contains the number of neurons in the\n",
    "        respective layers of the network.  For example, if the list\n",
    "        was [2, 3, 1] then it would be a three-layer network, with the\n",
    "        first layer containing 2 neurons, the second layer 3 neurons,\n",
    "        and the third layer 1 neuron.  The biases and weights for the\n",
    "        network are initialized randomly, using a Gaussian\n",
    "        distribution with mean 0, and variance 1.  Note that the first\n",
    "        layer is assumed to be an input layer, and by convention we\n",
    "        won't set any biases for those neurons, since biases are only\n",
    "        ever used in computing the outputs from later layers.\"\"\"\n",
    "        \n",
    "        self.num_layers = len(sizes)\n",
    "        self.sizes = sizes\n",
    "        \n",
    "        self.biases = [np.random.randn(y, 1) for y in sizes[1:]]\n",
    "        self.weights = [np.random.randn(y, x) for x, y in zip(sizes[:-1], sizes[1:])]\n",
    "\n",
    "    def feedforward(self, a):\n",
    "        \"\"\"Return the output of the network if ``a`` is input.\"\"\"\n",
    "        \n",
    "        for b, w in zip(self.biases, self.weights):\n",
    "            a = sigmoid(np.dot(w, a) + b)\n",
    "        return a\n",
    "\n",
    "    def SGD(self, training_data, epochs, mini_batch_size, eta, test_data=None, silent=False):\n",
    "        \"\"\"Train the neural network using mini-batch stochastic\n",
    "        gradient descent.  The ``training_data`` is a list of tuples\n",
    "        ``(x, y)`` representing the training inputs and the desired\n",
    "        outputs.  The other non-optional parameters are\n",
    "        self-explanatory.  If ``test_data`` is provided then the\n",
    "        network will be evaluated against the test data after each\n",
    "        epoch, and partial progress printed out.  This is useful for\n",
    "        tracking progress, but slows things down substantially.\"\"\"\n",
    "        \n",
    "        n = len(training_data)\n",
    "        if test_data:\n",
    "            n_test = len(test_data)\n",
    "        \n",
    "        for j in range(epochs):\n",
    "            \n",
    "            random.shuffle(training_data)\n",
    "            mini_batches = [\n",
    "                training_data[k:k+mini_batch_size]\n",
    "                for k in range(0, n, mini_batch_size)\n",
    "            ]\n",
    "            \n",
    "            for mini_batch in mini_batches:\n",
    "                self.update_mini_batch(mini_batch, eta)\n",
    "            \n",
    "            if not silent:\n",
    "                if test_data:\n",
    "                    print(\"Epoch {0}: {1} / {2}\".format(j, self.evaluate(test_data), n_test))\n",
    "                else:\n",
    "                    print(\"Epoch {0} complete\".format(j))\n",
    "\n",
    "    def update_mini_batch(self, mini_batch, eta):\n",
    "        \"\"\"Update the network's weights and biases by applying\n",
    "        gradient descent using backpropagation to a single mini batch.\n",
    "        The ``mini_batch`` is a list of tuples ``(x, y)``, and ``eta``\n",
    "        is the learning rate.\"\"\"\n",
    "        \n",
    "        nabla_b = [np.zeros(b.shape) for b in self.biases]\n",
    "        nabla_w = [np.zeros(w.shape) for w in self.weights]\n",
    "        \n",
    "        for x, y in mini_batch:\n",
    "            delta_nabla_b, delta_nabla_w = self.backprop(x, y)\n",
    "            nabla_b = [nb+dnb for nb, dnb in zip(nabla_b, delta_nabla_b)]\n",
    "            nabla_w = [nw+dnw for nw, dnw in zip(nabla_w, delta_nabla_w)]\n",
    "            \n",
    "        self.weights = [\n",
    "            w - eta / len(mini_batch) * nw\n",
    "            for w, nw in zip(self.weights, nabla_w)\n",
    "        ]\n",
    "        self.biases = [\n",
    "            b - eta / len(mini_batch) * nb\n",
    "            for b, nb in zip(self.biases, nabla_b)\n",
    "        ]\n",
    "\n",
    "    def backprop(self, x, y):\n",
    "        \"\"\"Return a tuple ``(nabla_b, nabla_w)`` representing the\n",
    "        gradient for the cost function C_x.  ``nabla_b`` and\n",
    "        ``nabla_w`` are layer-by-layer lists of numpy arrays, similar\n",
    "        to ``self.biases`` and ``self.weights``.\"\"\"\n",
    "        nabla_b = [np.zeros(b.shape) for b in self.biases]\n",
    "        nabla_w = [np.zeros(w.shape) for w in self.weights]\n",
    "        \n",
    "        # Q: In the feed forward step it seems like we are storing all the\n",
    "        # intermediate values. Why?\n",
    "        \n",
    "        # feedforward\n",
    "        activation = x\n",
    "        activations = [x] # list to store all the activations, layer by layer\n",
    "        zs = [] # list to store all the z vectors, layer by layer\n",
    "        for b, w in zip(self.biases, self.weights):\n",
    "            z = np.dot(w, activation)+b\n",
    "            zs.append(z)\n",
    "            activation = sigmoid(z)\n",
    "            activations.append(activation)\n",
    "        \n",
    "        \n",
    "        # Q: What does the variable `delta` store? Why is the last bias gradient\n",
    "        # exactly `delta`?\n",
    "        \n",
    "        # backward pass\n",
    "        delta = self.cost_derivative(activations[-1], y) * sigmoid_prime(zs[-1])\n",
    "        nabla_b[-1] = delta\n",
    "        \n",
    "        # Q: Seems like we are multiplying each of the outputs from the previous\n",
    "        # layer, with the delta. Can you explain why we do this? \n",
    "        nabla_w[-1] = np.dot(delta, activations[-2].transpose())\n",
    "        \n",
    "        # Note that the variable l in the loop below is used a little\n",
    "        # differently to the notation in Chapter 2 of the book. Here,\n",
    "        # l = 1 means the last layer of neurons, l = 2 is the\n",
    "        # second-last layer, and so on. It's a renumbering of the\n",
    "        # scheme in the book, used here to take advantage of the fact\n",
    "        # that Python can use negative indices in lists.\n",
    "        \n",
    "        # Q: Why start the loop at the second last layer?\n",
    "        for l in range(2, self.num_layers):\n",
    "            z = zs[-l]\n",
    "            sp = sigmoid_prime(z)\n",
    "            delta = np.dot(self.weights[-l+1].transpose(), delta) * sp  # Q: What happens on this line?\n",
    "            nabla_b[-l] = delta\n",
    "            nabla_w[-l] = np.dot(delta, activations[-l-1].transpose())\n",
    "        return nabla_b, nabla_w\n",
    "\n",
    "    def evaluate(self, test_data):\n",
    "        \"\"\"Return the number of test inputs for which the neural\n",
    "        network outputs the correct result. Note that the neural\n",
    "        network's output is assumed to be the index of whichever\n",
    "        neuron in the final layer has the highest activation.\"\"\"\n",
    "        if self.sizes[-1] == 1:\n",
    "            test_results = [\n",
    "                (step(self.feedforward(x)), y)\n",
    "                for x, y in test_data\n",
    "            ]\n",
    "        else:\n",
    "            test_results = [\n",
    "                (np.argmax(self.feedforward(x)), y)\n",
    "                for x, y in test_data\n",
    "            ]\n",
    "        return sum(int(y_pred == y) for (y_pred, y) in test_results)\n",
    "\n",
    "    def cost_derivative(self, output_activations, y):\n",
    "        \"\"\"Return the vector of partial derivatives \\partial C_x /\n",
    "        \\partial a for the output activations.\"\"\"\n",
    "        return output_activations - y"
   ]
  },
  {
   "cell_type": "markdown",
   "metadata": {},
   "source": [
    "> **Ex. 3.1.1:** Provide answers to the code comments starting with `#Q: `"
   ]
  },
  {
   "cell_type": "code",
   "execution_count": 138,
   "metadata": {
    "ExecuteTime": {
     "end_time": "2019-02-21T08:57:19.560249Z",
     "start_time": "2019-02-21T08:57:19.550975Z"
    }
   },
   "outputs": [],
   "source": [
    "# Q: In the feed forward step it seems like we are storing all the\n",
    "# intermediate values. Why?"
   ]
  },
  {
   "cell_type": "markdown",
   "metadata": {},
   "source": [
    "As we saw in the lecture, the fed forward valued are used as input to the derivarive of each neuron, so we need to store them in order to compute the gradients when we do backpropagation."
   ]
  },
  {
   "cell_type": "code",
   "execution_count": null,
   "metadata": {},
   "outputs": [],
   "source": [
    "# Q: What does the variable `delta` store? Why is the last bias gradient\n",
    "# exactly `delta`?"
   ]
  },
  {
   "cell_type": "markdown",
   "metadata": {},
   "source": [
    "At this point in the code and onwarsd, `delta` is the gradient of the loss function wrt. the weight/neuron-output that the iteration of the backprop algorithm has reached. In the first iteration of backprop that Nielsen implements, he computed the `delta`(s) of the value(s) that goes into the last sigmoid. The multiplication between the cost derivative (where the cost derivative is missing a `2*`, who knows why), and the sigmoid derivative is Nielsen applying the chain rule. Note also that `delta` is a vector, such that if multiple outputs existed (and they do in the case of number classification), you compute a gradient for each output neuron. Finally, as you may recall from the lecture, the derivative of addition operators are 1, so the gradient of the bias(es) just becomes the gradient of the output(s)."
   ]
  },
  {
   "cell_type": "code",
   "execution_count": 139,
   "metadata": {
    "ExecuteTime": {
     "end_time": "2019-02-21T09:08:07.105904Z",
     "start_time": "2019-02-21T09:08:07.103673Z"
    }
   },
   "outputs": [],
   "source": [
    "# Q: Seems like we are multiplying each of the outputs from the previous\n",
    "# layer, with the delta. Can you explain why we do this? "
   ]
  },
  {
   "cell_type": "markdown",
   "metadata": {},
   "source": [
    "Remember how the derivative of a weight is the variable multiplied onto it? This is what Nielsen utilizes here. Given the derivative(s) from the output(s), we know that the derivative of an output wrt. a weight is just the input which we multiply that weight by. Think of it like \"if I increment this weight by one, the output gets changed by the amount that I multiply the weight by\". So to propagate the gradient backwards and onto the first layer of weights, we simply multiply it by the incoming activations."
   ]
  },
  {
   "cell_type": "code",
   "execution_count": 140,
   "metadata": {
    "ExecuteTime": {
     "end_time": "2019-02-21T09:13:13.898039Z",
     "start_time": "2019-02-21T09:13:13.893234Z"
    }
   },
   "outputs": [],
   "source": [
    "# Q: Why start the loop at the second last layer?"
   ]
  },
  {
   "cell_type": "markdown",
   "metadata": {},
   "source": [
    "So this loop iteratively applies what I just explained above. And there we already handled the last layer, remember? So we start off where we left."
   ]
  },
  {
   "cell_type": "code",
   "execution_count": 141,
   "metadata": {
    "ExecuteTime": {
     "end_time": "2019-02-21T09:16:08.151389Z",
     "start_time": "2019-02-21T09:16:08.148997Z"
    }
   },
   "outputs": [],
   "source": [
    "# Q: What happens on this line?"
   ]
  },
  {
   "cell_type": "markdown",
   "metadata": {},
   "source": [
    "We are computing the gradients on the neuron-outputs (the `z`s) going into the sigmoids of the given layer.\n",
    "So to do that we must take the previous gradient and multiply it with the weights (remember $y=xw$), then\n",
    "multiply again by the derivative of the sigmoid function. This new delta, as we saw above, propagates back\n",
    "to the bias without complication – since the bias derivative wrt. to the output of the neuron it feeds into\n",
    "is one. To get the weight gradients the gradient, as before, gets multiplied, by the activations from the\n",
    "incoming layers. The new gradients get stored, and so it goes until we run out of layers."
   ]
  },
  {
   "cell_type": "markdown",
   "metadata": {},
   "source": [
    "### Part 3.2: Regularization"
   ]
  },
  {
   "cell_type": "markdown",
   "metadata": {},
   "source": [
    "For this next part, it would be too cumbersome to continue using Nielsen's code. Instead, we will be using\n",
    "my favorite deep learning framework **PyTorch** to build some neural networks with which we can play around\n",
    "with regularization.\n",
    "\n",
    "To get torch running you need to first install it. It's should be fairly straight forward, but depending on\n",
    "your machine you may have to run different commands to install it. Check out the installation guide [here](https://pytorch.org/).\n",
    "\n",
    "If everything went well you should be able execute the cell below and to import PyTorch."
   ]
  },
  {
   "cell_type": "code",
   "execution_count": 11,
   "metadata": {
    "ExecuteTime": {
     "end_time": "2019-02-19T22:20:04.502262Z",
     "start_time": "2019-02-19T22:20:03.966734Z"
    }
   },
   "outputs": [],
   "source": [
    "import torch"
   ]
  },
  {
   "cell_type": "markdown",
   "metadata": {},
   "source": [
    "No errors? Great! Then let's make a small neural network that we know all to well at this point, and see if we can classify points with it. First, we generate some data."
   ]
  },
  {
   "cell_type": "code",
   "execution_count": 92,
   "metadata": {
    "ExecuteTime": {
     "end_time": "2019-02-20T06:24:22.093846Z",
     "start_time": "2019-02-20T06:24:22.085904Z"
    }
   },
   "outputs": [],
   "source": [
    "def generate_X_nonlinear(N=200, R=5):\n",
    "\n",
    "    X_inner = torch.randn(int(N/2), 2)\n",
    "\n",
    "    X_outer = torch.tensor([\n",
    "        [R*np.cos(theta), R*np.sin(theta)]\n",
    "        for theta in np.linspace(0, 2 * np.pi, int(N/2))\n",
    "    ]) + torch.randn(int(N/2), 2)\n",
    "\n",
    "    X = torch.cat([X_inner, X_outer], dim=0)\n",
    "   \n",
    "    y = torch.cat([\n",
    "        torch.zeros(int(N/2)).reshape(-1, 1),\n",
    "        torch.ones(int(N/2)).reshape(-1, 1)\n",
    "    ])\n",
    "    \n",
    "    return X, y\n",
    "\n",
    "# Number of training datapoints\n",
    "N = 500\n",
    "\n",
    "# Generate the data (note that code is using torch arrays now)\n",
    "x, y = generate_X_nonlinear(N)"
   ]
  },
  {
   "cell_type": "markdown",
   "metadata": {},
   "source": [
    "And then we create and run the network on the data."
   ]
  },
  {
   "cell_type": "code",
   "execution_count": 93,
   "metadata": {
    "ExecuteTime": {
     "end_time": "2019-02-20T06:24:33.192681Z",
     "start_time": "2019-02-20T06:24:33.139364Z"
    }
   },
   "outputs": [
    {
     "name": "stdout",
     "output_type": "stream",
     "text": [
      "0 132.64141845703125\n",
      "10 243.86502075195312\n",
      "20 74.21397399902344\n",
      "30 20.397912979125977\n",
      "40 10.828099250793457\n",
      "50 8.089787483215332\n",
      "60 7.727997779846191\n",
      "70 7.685032844543457\n",
      "80 7.67869234085083\n",
      "90 7.663687229156494\n"
     ]
    }
   ],
   "source": [
    "# The layers and their number of neurons\n",
    "sizes = [2, 3, 1]\n",
    "\n",
    "# The `model`. This is new! In torch, defining a neural network is a easy as just\n",
    "# declaring which layers you want, and then it handles everything else. So in this\n",
    "# case we want a linear layer that gets squashed through a sigmoid, which feeds as\n",
    "# input to another layer that again gets squashed by a sigmoid.\n",
    "model = torch.nn.Sequential(\n",
    "    torch.nn.Linear(sizes[0], sizes[1]),\n",
    "    torch.nn.Sigmoid(),\n",
    "    torch.nn.Linear(sizes[1], sizes[2]),\n",
    "    torch.nn.Sigmoid()\n",
    ")\n",
    "\n",
    "# Then we have to declare which loss function we want to use, and here we are just goind\n",
    "\n",
    "loss_fn = torch.nn.MSELoss(reduction='sum')\n",
    "\n",
    "learning_rate = 1e-1\n",
    "for t in range(100):\n",
    "    # Forward pass\n",
    "    y_pred = model(x)\n",
    "\n",
    "    # Compute loss\n",
    "    loss = loss_fn(y_pred, y)\n",
    "    if t % 10 == 0:\n",
    "        print(t, loss.item())\n",
    "\n",
    "    # Zero the gradients before running the backward pass.\n",
    "    model.zero_grad()\n",
    "\n",
    "    # Backward pass\n",
    "    loss.backward()\n",
    "\n",
    "    # Do gradient descent\n",
    "    with torch.no_grad():\n",
    "        for param in model.parameters():\n",
    "            param -= learning_rate * param.grad"
   ]
  },
  {
   "cell_type": "markdown",
   "metadata": {},
   "source": [
    "And let's visualize the results"
   ]
  },
  {
   "cell_type": "code",
   "execution_count": 94,
   "metadata": {
    "ExecuteTime": {
     "end_time": "2019-02-20T06:24:40.616140Z",
     "start_time": "2019-02-20T06:24:40.610990Z"
    }
   },
   "outputs": [],
   "source": [
    "class cmap_in_range:\n",
    "    \"\"\"Create map to range of colors inside given domain.\n",
    "\n",
    "    Example\n",
    "    -------\n",
    "    >>> cmap = cmap_in_range([0, 1])\n",
    "    >>> cmap(0.1)\n",
    "    (0.30392156862745101, 0.30315267411304353, 0.98816547208125938, 1.0)\n",
    "    \"\"\"\n",
    "    def __init__(self, cmap_domain, cmap_range=[0, 1], cmap_style='rainbow'):\n",
    "        self.cmap_domain = cmap_domain\n",
    "        self.cmap_range = cmap_range\n",
    "        self.m = interp1d(cmap_domain, cmap_range)\n",
    "        self.cmap = plt.get_cmap(cmap_style)\n",
    "        \n",
    "    def __call__(self, value):\n",
    "        if not self.cmap_domain[0] <= value <= self.cmap_domain[1]:\n",
    "            raise Exception(\"Value must be inside cmap_domain.\")\n",
    "        return self.cmap(self.m(value))"
   ]
  },
  {
   "cell_type": "code",
   "execution_count": 95,
   "metadata": {
    "ExecuteTime": {
     "end_time": "2019-02-20T06:24:41.528665Z",
     "start_time": "2019-02-20T06:24:41.033722Z"
    }
   },
   "outputs": [
    {
     "data": {
      "image/png": "[encoded data removed]",
      "text/plain": [
       "<Figure size 648x216 with 2 Axes>"
      ]
     },
     "metadata": {
      "needs_background": "light"
     },
     "output_type": "display_data"
    }
   ],
   "source": [
    "cmap = cmap_in_range([0, 1])\n",
    "\n",
    "y_true = y.reshape(-1).numpy()\n",
    "y_pred = model(x).data.numpy().reshape(-1)\n",
    "\n",
    "plt.figure(figsize=(9, 3))\n",
    "\n",
    "plt.subplot(1, 2, 1)\n",
    "plt.title(\"True\", fontsize=12)\n",
    "plt.scatter(x[:, 0], x[:, 1], color=list(map(cmap, y_true)))\n",
    "\n",
    "plt.subplot(1, 2, 2)\n",
    "plt.title(\"Predicted\", fontsize=12)\n",
    "plt.scatter(x[:, 0], x[:, 1], color=list(map(cmap, y_pred)))\n",
    "plt.show()"
   ]
  },
  {
   "cell_type": "markdown",
   "metadata": {},
   "source": [
    "The PyTorch API for setting up and training neural nets is much nicer than Nielsen's code,\n",
    "and at the same time it runs much faster and seems to give better results.\n",
    "Let's implement the MNIST example in PyTorch and see how well it performs."
   ]
  },
  {
   "cell_type": "code",
   "execution_count": 161,
   "metadata": {
    "ExecuteTime": {
     "end_time": "2019-02-21T09:45:32.261826Z",
     "start_time": "2019-02-21T09:45:31.341920Z"
    }
   },
   "outputs": [],
   "source": [
    "# Load MNIST data. Note we use the `load_data` method and not the \n",
    "# `load_data_wrapper`. The difference is that `load_data` gives us\n",
    "# the data in clean matrix format right away.\n",
    "training_data, validation_data, test_data = mnist_loader.load_data()\n",
    "\n",
    "x = torch.from_numpy(training_data[0])\n",
    "y_ = torch.from_numpy(training_data[1])\n",
    "\n",
    "x_test = torch.from_numpy(test_data[0])\n",
    "y_test_ = torch.from_numpy(test_data[1])\n",
    "\n",
    "# y is a (N, 1) vector. In the following setup, however, we need it to be a\n",
    "# (N, 10) vector such that each digit has it's own column so labels are one-\n",
    "# hot vectors. For example, we should encode the label `2` not as [2], but as\n",
    "# [0, 0, 1, 0, 0, 0, 0, 0, 0, 0] instead.\n",
    "\n",
    "y = torch.zeros(x.shape[0], 10)\n",
    "y[torch.arange(x.shape[0]), y_] = 1\n",
    "\n",
    "y_test = torch.zeros(x_test.shape[0], 10)\n",
    "y_test[torch.arange(x_test.shape[0]), y_test_] = 1"
   ]
  },
  {
   "cell_type": "code",
   "execution_count": 166,
   "metadata": {
    "ExecuteTime": {
     "end_time": "2019-02-21T09:48:06.027914Z",
     "start_time": "2019-02-21T09:47:44.414412Z"
    }
   },
   "outputs": [
    {
     "name": "stdout",
     "output_type": "stream",
     "text": [
      "0 train: 127307.8984375 | test: 25383.9296875\n",
      "10 train: 123641.0078125 | test: 24648.4375\n",
      "20 train: 120118.7890625 | test: 23942.80078125\n",
      "30 train: 116761.7421875 | test: 23270.98046875\n",
      "40 train: 113579.90625 | test: 22634.814453125\n",
      "50 train: 110574.4296875 | test: 22034.376953125\n",
      "60 train: 107740.21875 | test: 21468.51953125\n",
      "70 train: 105068.40625 | test: 20935.369140625\n",
      "80 train: 102548.2421875 | test: 20432.7109375\n",
      "90 train: 100168.4453125 | test: 19958.236328125\n",
      "100 train: 97917.8828125 | test: 19509.685546875\n",
      "110 train: 95786.0390625 | test: 19084.93359375\n",
      "120 train: 93763.203125 | test: 18682.01953125\n",
      "130 train: 91840.5234375 | test: 18299.1640625\n",
      "140 train: 90010.015625 | test: 17934.759765625\n",
      "150 train: 88264.5390625 | test: 17587.369140625\n",
      "160 train: 86597.6953125 | test: 17255.712890625\n",
      "170 train: 85003.8359375 | test: 16938.646484375\n",
      "180 train: 83477.90625 | test: 16635.162109375\n",
      "190 train: 82015.453125 | test: 16344.3564453125\n",
      "200 train: 80612.46875 | test: 16065.427734375\n",
      "210 train: 79265.375 | test: 15797.6513671875\n",
      "220 train: 77970.9140625 | test: 15540.369140625\n",
      "230 train: 76726.078125 | test: 15292.974609375\n",
      "240 train: 75528.1015625 | test: 15054.9091796875\n",
      "250 train: 74374.4140625 | test: 14825.65234375\n",
      "260 train: 73262.625 | test: 14604.72265625\n"
     ]
    }
   ],
   "source": [
    "# Parameters\n",
    "sizes = [784, 30, 10]\n",
    "learning_rate = 1e-4\n",
    "epochs = 1000\n",
    "# mini_batch_size = 100\n",
    "tmax = 20  # seconds\n",
    "\n",
    "# The `model`. This is new! In torch, defining a neural network is a easy as just\n",
    "# declaring which layers you want, and then it handles everything else. So in this\n",
    "# case we want a linear layer that gets squashed through a sigmoid, which feeds as\n",
    "# input to another layer that again gets squashed by a sigmoid. If we needed more\n",
    "# layers we would put more stuff into the `torch.nn.Sequential` method.\n",
    "model = torch.nn.Sequential(\n",
    "    torch.nn.Linear(sizes[0], sizes[1]),\n",
    "    torch.nn.Sigmoid(),\n",
    "    torch.nn.Linear(sizes[1], sizes[2]),\n",
    "    torch.nn.Sigmoid()\n",
    ")\n",
    "\n",
    "# Then we have to declare which loss function we want to use, and here we are just going\n",
    "# to use the sum of squares. Here we are just taking an implementation of this off the\n",
    "# shelf from the PyTorch package, but we could easily define one ourself.\n",
    "loss_fn = torch.nn.MSELoss(reduction='sum')\n",
    "\n",
    "# Define an Optimizer to abstract away all the steps involved in training the network \n",
    "# (forward pass, backward pass, weight update). Here we use the Adam optimizer, which\n",
    "# is a flavor of gradient descent that maintains an adaptive learning rate for each weight\n",
    "optimizer = torch.optim.Adam(model.parameters(), lr=learning_rate)\n",
    "\n",
    "# Train\n",
    "t_start = dt.now()\n",
    "for t in range(epochs):\n",
    "    \n",
    "    # Forward pass\n",
    "    y_pred = model(x)\n",
    "\n",
    "    # Compute loss\n",
    "    loss = loss_fn(y_pred, y)\n",
    "\n",
    "    # Before the backward pass, use the optimizer object to zero all of the\n",
    "    # gradients for the variables it will update (which are the learnable\n",
    "    # weights of the model). This is because by default, gradients are\n",
    "    # accumulated in buffers (i.e, not overwritten) whenever .backward()\n",
    "    # is called. Checkout docs of torch.autograd.backward for more details.\n",
    "    optimizer.zero_grad()\n",
    "\n",
    "    # Backward pass\n",
    "    loss.backward()\n",
    "\n",
    "    # Calling the step function on an Optimizer makes an update to its\n",
    "    # parameters\n",
    "    optimizer.step()\n",
    "    \n",
    "    # Print progress\n",
    "    if t % 10 == 0:\n",
    "        y_pred = model(x_test)\n",
    "        loss_test = loss_fn(y_pred, y_test)\n",
    "        print(t, \"train:\", loss.item(), \"| test:\", loss_test.item())\n",
    "        if (dt.now() - t_start).seconds > tmax:\n",
    "            break"
   ]
  },
  {
   "cell_type": "markdown",
   "metadata": {},
   "source": [
    "This code will run for a while, and it's not nearly as fast as it could be. The reason for \n",
    "this is that it is not using mini batches, thus it is doing gradient descent on the entire\n",
    "dataset. That takes time "
   ]
  },
  {
   "cell_type": "markdown",
   "metadata": {},
   "source": [
    "**Note: The \"solutions\" below are more like explorations where I play with mini-batching and regularization in different ways. I encourage you to use them in the same way, so to get an idea of what I did. Play with the parameters, let the networks train for much longer than I did and build a practical sense of what happens when we twist these knobs.**"
   ]
  },
  {
   "cell_type": "markdown",
   "metadata": {},
   "source": [
    "> **Ex. 3.2.1**: Implement stochastic gradient descent with `mini_batch_size = 100`. Comment on the performance difference you see when compared to regular gradient descent.\n",
    ">\n",
    "> *Hint: If you want to compute the accuracy, you need to convert the predictions back into a single column label vector and compare it with the true labels. Here is how to do that: `_, y_pred_ = y_pred.max(1); print((y_pred_ == y_).numpy().mean())`*"
   ]
  },
  {
   "cell_type": "code",
   "execution_count": 167,
   "metadata": {
    "ExecuteTime": {
     "end_time": "2019-02-21T09:49:01.742268Z",
     "start_time": "2019-02-21T09:48:37.661289Z"
    }
   },
   "outputs": [
    {
     "name": "stdout",
     "output_type": "stream",
     "text": [
      "0 train: 55400.0625 | test: 11061.724609375\n",
      "10 train: 20146.51171875 | test: 3963.51318359375\n",
      "20 train: 10417.4833984375 | test: 2010.6806640625\n",
      "30 train: 7913.51953125 | test: 1533.88525390625\n",
      "40 train: 6821.16796875 | test: 1336.722412109375\n",
      "50 train: 6162.6748046875 | test: 1220.811767578125\n"
     ]
    }
   ],
   "source": [
    "# Parameters\n",
    "sizes = [784, 30, 10]\n",
    "learning_rate = 1e-4\n",
    "epochs = 1000\n",
    "mini_batch_size = 100\n",
    "tmax = 20  # seconds\n",
    "\n",
    "# The `model`. This is new! In torch, defining a neural network is a easy as just\n",
    "# declaring which layers you want, and then it handles everything else. So in this\n",
    "# case we want a linear layer that gets squashed through a sigmoid, which feeds as\n",
    "# input to another layer that again gets squashed by a sigmoid. If we needed more\n",
    "# layers we would put more stuff into the `torch.nn.Sequential` method.\n",
    "model = torch.nn.Sequential(\n",
    "    torch.nn.Linear(sizes[0], sizes[1]),\n",
    "    torch.nn.Sigmoid(),\n",
    "    torch.nn.Linear(sizes[1], sizes[2]),\n",
    "    torch.nn.Sigmoid()\n",
    ")\n",
    "\n",
    "# Then we have to declare which loss function we want to use, and here we are just going\n",
    "# to use the sum of squares. Here we are just taking an implementation of this off the\n",
    "# shelf from the PyTorch package, but we could easily define one ourself.\n",
    "loss_fn = torch.nn.MSELoss(reduction='sum')\n",
    "\n",
    "# Define an Optimizer to abstract away all the steps involved in training the network \n",
    "# (forward pass, backward pass, weight update). Here we use the Adam optimizer, which\n",
    "# is a flavor of gradient descent that maintains an adaptive learning rate for each weight\n",
    "optimizer = torch.optim.Adam(model.parameters(), lr=learning_rate)\n",
    "\n",
    "# Train\n",
    "t_start = dt.now()\n",
    "for t in range(epochs):\n",
    "    \n",
    "    # Randomly permute the row indices to get something like:\n",
    "    # tensor([16214, 18491, 16308,  ..., 19629, 17565, 24696])\n",
    "    permutation = torch.randperm(x.size()[0])\n",
    "    \n",
    "    # Start looping over the mini-batches! Each index `k` is\n",
    "    # `mini_batch_size` values apart.\n",
    "    for k in np.arange(0, x.size()[0], mini_batch_size):\n",
    "        \n",
    "        # Extract mini-batch data. The rest is the same\n",
    "        mini_batch_indices = permutation[k:k+mini_batch_size]\n",
    "        x_ = x[mini_batch_indices, :]\n",
    "        y_ = y[mini_batch_indices, :]\n",
    "        \n",
    "        # Forward pass\n",
    "        y_pred = model(x_)\n",
    "\n",
    "        # Compute loss\n",
    "        loss = loss_fn(y_pred, y_)\n",
    "\n",
    "        # Before the backward pass, use the optimizer object to zero all of the\n",
    "        # gradients for the variables it will update (which are the learnable\n",
    "        # weights of the model). This is because by default, gradients are\n",
    "        # accumulated in buffers (i.e, not overwritten) whenever .backward()\n",
    "        # is called. Checkout docs of torch.autograd.backward for more details.\n",
    "        optimizer.zero_grad()\n",
    "\n",
    "        # Backward pass\n",
    "        loss.backward()\n",
    "\n",
    "        # Calling the step function on an Optimizer makes an update to its\n",
    "        # parameters\n",
    "        optimizer.step()\n",
    "        \n",
    "        \n",
    "    # Print progress (here evaluating on all the data so we can compare)\n",
    "    if t % 10 == 0:\n",
    "        loss = loss_fn(model(x), y)\n",
    "        loss_test = loss_fn(model(x_test), y_test)\n",
    "        print(t, \"train:\", loss.item(), \"| test:\", loss_test.item())\n",
    "        if (dt.now() - t_start).seconds > tmax:\n",
    "            break"
   ]
  },
  {
   "cell_type": "markdown",
   "metadata": {},
   "source": [
    "So here, I let the code above without mini-batching and the new code *with* mini-batching each run for 20 seconds\n",
    "and compare the error. Without mini-batching we can run through many more *epochs* than with mini-batching, but\n",
    "the cost is very high after 20 seconds, whereas when we implement mini-batching, **the cost decays extremely fast**,\n",
    "and **over fewer epochs**. Nice right!? Note that I've slightly changed the code, so it now prints performance on\n",
    "the test data."
   ]
  },
  {
   "cell_type": "markdown",
   "metadata": {
    "ExecuteTime": {
     "end_time": "2019-02-20T07:06:41.508050Z",
     "start_time": "2019-02-20T07:06:41.479230Z"
    }
   },
   "source": [
    "We can apply the L2 regularization to the optimization by specifying a `weight_decay` parameter in the optimizer ([see docs](https://pytorch.org/docs/stable/optim.html#torch.optim.Adam)). "
   ]
  },
  {
   "cell_type": "markdown",
   "metadata": {},
   "source": [
    "> **Ex. 3.2.2**: When applying the L2 norm, say at `weight_decay=0.2` and changing nothing else, which changes to optimization speed and convergence do you notice?"
   ]
  },
  {
   "cell_type": "code",
   "execution_count": 168,
   "metadata": {
    "ExecuteTime": {
     "end_time": "2019-02-21T09:49:47.529419Z",
     "start_time": "2019-02-21T09:49:22.112485Z"
    }
   },
   "outputs": [
    {
     "name": "stdout",
     "output_type": "stream",
     "text": [
      "0 train: 62460.171875 | test: 12460.697265625\n",
      "10 train: 26238.98828125 | test: 5181.84228515625\n",
      "20 train: 15722.1865234375 | test: 3033.17236328125\n",
      "30 train: 13200.2705078125 | test: 2527.4931640625\n",
      "40 train: 12431.6796875 | test: 2375.56689453125\n"
     ]
    }
   ],
   "source": [
    "# Parameters\n",
    "sizes = [784, 30, 10]\n",
    "learning_rate = 1e-4\n",
    "epochs = 1000\n",
    "mini_batch_size = 100\n",
    "tmax = 20  # seconds\n",
    "\n",
    "# The `model`. This is new! In torch, defining a neural network is a easy as just\n",
    "# declaring which layers you want, and then it handles everything else. So in this\n",
    "# case we want a linear layer that gets squashed through a sigmoid, which feeds as\n",
    "# input to another layer that again gets squashed by a sigmoid. If we needed more\n",
    "# layers we would put more stuff into the `torch.nn.Sequential` method.\n",
    "model = torch.nn.Sequential(\n",
    "    torch.nn.Linear(sizes[0], sizes[1]),\n",
    "    torch.nn.Sigmoid(),\n",
    "    torch.nn.Linear(sizes[1], sizes[2]),\n",
    "    torch.nn.Sigmoid()\n",
    ")\n",
    "\n",
    "# Then we have to declare which loss function we want to use, and here we are just going\n",
    "# to use the sum of squares. Here we are just taking an implementation of this off the\n",
    "# shelf from the PyTorch package, but we could easily define one ourself.\n",
    "loss_fn = torch.nn.MSELoss(reduction='sum')\n",
    "\n",
    "# Define an Optimizer to abstract away all the steps involved in training the network \n",
    "# (forward pass, backward pass, weight update). Here we use the Adam optimizer, which\n",
    "# is a flavor of gradient descent that maintains an adaptive learning rate for each weight\n",
    "optimizer = torch.optim.Adam(model.parameters(), lr=learning_rate, weight_decay=0.2)\n",
    "\n",
    "# Train\n",
    "t_start = dt.now()\n",
    "for t in range(epochs):\n",
    "    \n",
    "    # Randomly permute the row indices to get something like:\n",
    "    # tensor([16214, 18491, 16308,  ..., 19629, 17565, 24696])\n",
    "    permutation = torch.randperm(x.size()[0])\n",
    "    \n",
    "    # Start looping over the mini-batches! Each index `k` is\n",
    "    # `mini_batch_size` values apart.\n",
    "    for k in np.arange(0, x.size()[0], mini_batch_size):\n",
    "        \n",
    "        # Extract mini-batch data. The rest is the same\n",
    "        mini_batch_indices = permutation[k:k+mini_batch_size]\n",
    "        x_ = x[mini_batch_indices, :]\n",
    "        y_ = y[mini_batch_indices, :]\n",
    "        \n",
    "        # Forward pass\n",
    "        y_pred = model(x_)\n",
    "\n",
    "        # Compute loss\n",
    "        loss = loss_fn(y_pred, y_)\n",
    "\n",
    "        # Before the backward pass, use the optimizer object to zero all of the\n",
    "        # gradients for the variables it will update (which are the learnable\n",
    "        # weights of the model). This is because by default, gradients are\n",
    "        # accumulated in buffers (i.e, not overwritten) whenever .backward()\n",
    "        # is called. Checkout docs of torch.autograd.backward for more details.\n",
    "        optimizer.zero_grad()\n",
    "\n",
    "        # Backward pass\n",
    "        loss.backward()\n",
    "\n",
    "        # Calling the step function on an Optimizer makes an update to its\n",
    "        # parameters\n",
    "        optimizer.step()\n",
    "        \n",
    "        \n",
    "    # Print progress (here evaluating on all the data so we can compare)\n",
    "    if t % 10 == 0:\n",
    "        loss = loss_fn(model(x), y)\n",
    "        loss_test = loss_fn(model(x_test), y_test)\n",
    "        print(t, \"train:\", loss.item(), \"| test:\", loss_test.item())\n",
    "        if (dt.now() - t_start).seconds > tmax:\n",
    "            break"
   ]
  },
  {
   "cell_type": "markdown",
   "metadata": {},
   "source": [
    "With regularization, we note that the error decays slower. We could run it for longer and we would probably observe\n",
    "that the training error plateaued at a higher level than without reguarization, while the test error would potentially\n",
    "improve, though maybe not exactly for `weight_decay = 0.2`, but for some other value. Hence, we could embark on an\n",
    "elaborate hyper-parameter tuning quest, to find the weight decay constant (from the lecture: $\\lambda$) which minimized\n",
    "the test error. But let's save that for another time."
   ]
  },
  {
   "cell_type": "markdown",
   "metadata": {},
   "source": [
    "We can apply dropout to individual layers by having `torch.nn.Dropout(p=my_dropout)` listed in `Sequential` immediately before the given layer."
   ]
  },
  {
   "cell_type": "markdown",
   "metadata": {},
   "source": [
    "> **Ex. 3.2.3**: Apply dropout at a rate of 0.5 and comment again on optimization speed and convergence."
   ]
  },
  {
   "cell_type": "code",
   "execution_count": 170,
   "metadata": {
    "ExecuteTime": {
     "end_time": "2019-02-21T09:57:50.194941Z",
     "start_time": "2019-02-21T09:57:27.502265Z"
    }
   },
   "outputs": [
    {
     "name": "stdout",
     "output_type": "stream",
     "text": [
      "0 train: 61529.38671875 | test: 12295.806640625\n",
      "10 train: 30462.8125 | test: 6058.34765625\n",
      "20 train: 20971.576171875 | test: 4132.5830078125\n",
      "30 train: 17695.595703125 | test: 3474.6328125\n",
      "40 train: 16154.3291015625 | test: 3170.207275390625\n"
     ]
    }
   ],
   "source": [
    "# Parameters\n",
    "sizes = [784, 30, 10]\n",
    "learning_rate = 1e-4\n",
    "epochs = 1000\n",
    "mini_batch_size = 100\n",
    "tmax = 20  # seconds\n",
    "\n",
    "# The `model`. This is new! In torch, defining a neural network is a easy as just\n",
    "# declaring which layers you want, and then it handles everything else. So in this\n",
    "# case we want a linear layer that gets squashed through a sigmoid, which feeds as\n",
    "# input to another layer that again gets squashed by a sigmoid. If we needed more\n",
    "# layers we would put more stuff into the `torch.nn.Sequential` method.\n",
    "model = torch.nn.Sequential(\n",
    "    torch.nn.Linear(sizes[0], sizes[1]),\n",
    "    torch.nn.Sigmoid(),\n",
    "    torch.nn.Dropout(0.5),\n",
    "    torch.nn.Linear(sizes[1], sizes[2]),\n",
    "    torch.nn.Sigmoid()\n",
    ")\n",
    "\n",
    "# Then we have to declare which loss function we want to use, and here we are just going\n",
    "# to use the sum of squares. Here we are just taking an implementation of this off the\n",
    "# shelf from the PyTorch package, but we could easily define one ourself.\n",
    "loss_fn = torch.nn.MSELoss(reduction='sum')\n",
    "\n",
    "# Define an Optimizer to abstract away all the steps involved in training the network \n",
    "# (forward pass, backward pass, weight update). Here we use the Adam optimizer, which\n",
    "# is a flavor of gradient descent that maintains an adaptive learning rate for each weight\n",
    "optimizer = torch.optim.Adam(model.parameters(), lr=learning_rate)\n",
    "\n",
    "# Train\n",
    "t_start = dt.now()\n",
    "for t in range(epochs):\n",
    "    \n",
    "    # Randomly permute the row indices to get something like:\n",
    "    # tensor([16214, 18491, 16308,  ..., 19629, 17565, 24696])\n",
    "    permutation = torch.randperm(x.size()[0])\n",
    "    \n",
    "    # Start looping over the mini-batches! Each index `k` is\n",
    "    # `mini_batch_size` values apart.\n",
    "    for k in np.arange(0, x.size()[0], mini_batch_size):\n",
    "        \n",
    "        # Extract mini-batch data. The rest is the same\n",
    "        mini_batch_indices = permutation[k:k+mini_batch_size]\n",
    "        x_ = x[mini_batch_indices, :]\n",
    "        y_ = y[mini_batch_indices, :]\n",
    "        \n",
    "        # Forward pass\n",
    "        y_pred = model(x_)\n",
    "\n",
    "        # Compute loss\n",
    "        loss = loss_fn(y_pred, y_)\n",
    "\n",
    "        # Before the backward pass, use the optimizer object to zero all of the\n",
    "        # gradients for the variables it will update (which are the learnable\n",
    "        # weights of the model). This is because by default, gradients are\n",
    "        # accumulated in buffers (i.e, not overwritten) whenever .backward()\n",
    "        # is called. Checkout docs of torch.autograd.backward for more details.\n",
    "        optimizer.zero_grad()\n",
    "\n",
    "        # Backward pass\n",
    "        loss.backward()\n",
    "\n",
    "        # Calling the step function on an Optimizer makes an update to its\n",
    "        # parameters\n",
    "        optimizer.step()\n",
    "        \n",
    "        \n",
    "    # Print progress (here evaluating on all the data so we can compare)\n",
    "    if t % 10 == 0:\n",
    "        loss = loss_fn(model(x), y)\n",
    "        loss_test = loss_fn(model(x_test), y_test)\n",
    "        print(t, \"train:\", loss.item(), \"| test:\", loss_test.item())\n",
    "        if (dt.now() - t_start).seconds > tmax:\n",
    "            break"
   ]
  },
  {
   "cell_type": "markdown",
   "metadata": {},
   "source": [
    "So with a drop-out on the hidden layer, this high, we have much slower learning in our network."
   ]
  },
  {
   "cell_type": "markdown",
   "metadata": {},
   "source": [
    "In general this small network is not optimal for playing with regularization, because it is so small that little regularization is required anyway. Next week, however, we will be working with some networks that very much require regularization in order to not overfit."
   ]
  }
 ],
 "metadata": {
  "kernelspec": {
   "display_name": "Python 3",
   "language": "python",
   "name": "python3"
  },
  "language_info": {
   "codemirror_mode": {
    "name": "ipython",
    "version": 3
   },
   "file_extension": ".py",
   "mimetype": "text/x-python",
   "name": "python",
   "nbconvert_exporter": "python",
   "pygments_lexer": "ipython3",
   "version": "3.7.2"
  },
  "toc": {
   "base_numbering": 1,
   "nav_menu": {},
   "number_sections": false,
   "sideBar": true,
   "skip_h1_title": false,
   "title_cell": "Table of Contents",
   "title_sidebar": "Contents",
   "toc_cell": false,
   "toc_position": {},
   "toc_section_display": true,
   "toc_window_display": true
  },
  "varInspector": {
   "cols": {
    "lenName": 16,
    "lenType": 16,
    "lenVar": 40
   },
   "kernels_config": {
    "python": {
     "delete_cmd_postfix": "",
     "delete_cmd_prefix": "del ",
     "library": "var_list.py",
     "varRefreshCmd": "print(var_dic_list())"
    },
    "r": {
     "delete_cmd_postfix": ") ",
     "delete_cmd_prefix": "rm(",
     "library": "var_list.r",
     "varRefreshCmd": "cat(var_dic_list()) "
    }
   },
   "types_to_exclude": [
    "module",
    "function",
    "builtin_function_or_method",
    "instance",
    "_Feature"
   ],
   "window_display": false
  }
 },
 "nbformat": 4,
 "nbformat_minor": 2
}
