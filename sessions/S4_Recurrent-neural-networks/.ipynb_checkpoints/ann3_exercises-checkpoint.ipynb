{
 "cells": [
  {
   "cell_type": "markdown",
   "metadata": {},
   "source": [
    "> **DO NOT EDIT IF INSIDE tsds folder**\n"
   ]
  },
  {
   "cell_type": "markdown",
   "metadata": {},
   "source": [
    "# Week 4: Artificial Neural Networks 3\n",
    "\n",
    "*Wednesday, February 26, 2019*\n",
    "\n",
    "We learned about feedforward neural networks over the last two weeks, along with most of the fundamental maths, algorithms, tricks, etc. that go into training them. Knowing how signal propagates forward, how gradients flow backwards and how weights get updates, we are now ready to release our imagination and create some deep neural networks that can do remarkable things. We will focus on two of the most **powerful architectures**, the Convolutional Neural Network (CNN) and the Recurrent Neural Network (RNN), which have revolutionalized image recognition and sequence modeling across all fields over the last 10 years.\n",
    "\n",
    "- Part 4.1: Convolutional Neural Networks\n",
    "- Part 4.2: Recurrent Neural Networks\n",
    "\n",
    "**Questions**: Outside of class, use [issue](https://github.com/abjer/tsds/issues) on GitHub for asking questions."
   ]
  },
  {
   "cell_type": "code",
   "execution_count": 1,
   "metadata": {
    "ExecuteTime": {
     "end_time": "2019-02-26T14:02:03.114432Z",
     "start_time": "2019-02-26T14:02:01.813112Z"
    }
   },
   "outputs": [
    {
     "ename": "ModuleNotFoundError",
     "evalue": "No module named 'mnist_loader'",
     "output_type": "error",
     "traceback": [
      "\u001b[1;31m---------------------------------------------------------------------------\u001b[0m",
      "\u001b[1;31mModuleNotFoundError\u001b[0m                       Traceback (most recent call last)",
      "\u001b[1;32m<ipython-input-1-4883bd17e08c>\u001b[0m in \u001b[0;36m<module>\u001b[1;34m\u001b[0m\n\u001b[0;32m      4\u001b[0m \u001b[1;32mimport\u001b[0m \u001b[0mpandas\u001b[0m \u001b[1;32mas\u001b[0m \u001b[0mpd\u001b[0m\u001b[1;33m\u001b[0m\u001b[1;33m\u001b[0m\u001b[0m\n\u001b[0;32m      5\u001b[0m \u001b[1;32mimport\u001b[0m \u001b[0mmatplotlib\u001b[0m\u001b[1;33m.\u001b[0m\u001b[0mpylab\u001b[0m \u001b[1;32mas\u001b[0m \u001b[0mplt\u001b[0m\u001b[1;33m\u001b[0m\u001b[1;33m\u001b[0m\u001b[0m\n\u001b[1;32m----> 6\u001b[1;33m \u001b[1;32mimport\u001b[0m \u001b[0mmnist_loader\u001b[0m\u001b[1;33m\u001b[0m\u001b[1;33m\u001b[0m\u001b[0m\n\u001b[0m\u001b[0;32m      7\u001b[0m \u001b[1;32mimport\u001b[0m \u001b[0mrequests\u001b[0m \u001b[1;32mas\u001b[0m \u001b[0mrq\u001b[0m\u001b[1;33m\u001b[0m\u001b[1;33m\u001b[0m\u001b[0m\n\u001b[0;32m      8\u001b[0m \u001b[1;32mfrom\u001b[0m \u001b[0mbs4\u001b[0m \u001b[1;32mimport\u001b[0m \u001b[0mBeautifulSoup\u001b[0m\u001b[1;33m\u001b[0m\u001b[1;33m\u001b[0m\u001b[0m\n",
      "\u001b[1;31mModuleNotFoundError\u001b[0m: No module named 'mnist_loader'"
     ]
    }
   ],
   "source": [
    "%matplotlib inline\n",
    "\n",
    "import numpy as np\n",
    "import pandas as pd\n",
    "import matplotlib.pylab as plt\n",
    "import mnist_loader\n",
    "import requests as rq\n",
    "from bs4 import BeautifulSoup\n",
    "from tqdm import tqdm_notebook as tqdm\n",
    "\n",
    "import torch\n",
    "import torch.nn as nn\n",
    "from torch.autograd import Variable"
   ]
  },
  {
   "cell_type": "markdown",
   "metadata": {},
   "source": [
    "## Exercises"
   ]
  },
  {
   "cell_type": "markdown",
   "metadata": {},
   "source": [
    "### Part 4.1: Convolutional Neural Networks\n",
    "\n",
    "The problem with feed forward images when classifying images is that the input layer looks at the whole image at the same time. Each input neuron thus becomes associated with a specific pixel, and as the network learns it may grow to expect a certain signal to emerge at that specific pixel. But if you imagine an image of a cat, features, like the whiskers, which make it cat-like are not bound to a specific *place* in the image – they can be in the centre, top corner, or any other place.\n",
    "\n",
    "CNNs solve this problem, with what's called *convolutional layers*. A convolutional input layer, for example, doesn't have a single weight for each input value. Instead, it has one or more much smaller *filters*, each one a set of input neurons (often $3 \\times 3 \\times d$ where $d$ is the depth of the input image) that gets *convolved* across the input image to produce a new image, called an *activation map*. [Here](https://github.com/vdumoulin/conv_arithmetic) are some nice gifs that illustrate different ways one can convolve a weight matrix across an input image."
   ]
  },
  {
   "cell_type": "markdown",
   "metadata": {},
   "source": [
    "#### Pen and paper"
   ]
  },
  {
   "cell_type": "markdown",
   "metadata": {},
   "source": [
    "To get your intuition for computations on input data in CNNs fine-tuned, I have a few small quizzes for you. First, we'll consider the size of the parameter space."
   ]
  },
  {
   "cell_type": "markdown",
   "metadata": {},
   "source": [
    "> **Ex. 4.1.1**: Imagine you have a CNN with just one convolutional layer with a single filter. All it does, is take an input image and produce an activation map. The dimensionality of the filter in your convolutional layer is $5 \\times 5 \\times 3$. How many weights (or *parameters*) are there in this model?\n",
    ">\n",
    "> *Hint*: Don't forget the bias!"
   ]
  },
  {
   "cell_type": "markdown",
   "metadata": {},
   "source": [
    "Here's the formula for computing the size of the activation map resulting from a convolution. \n",
    "If you have filter that is $F$ wide, your input image is $W_0$ wide, you are padding the sizes by\n",
    "$P$ and your stride is $S$, the resulting image will have width:\n",
    "\n",
    "$$ W_1 = \\frac{W_0 - F + 2P}{S} + 1 $$"
   ]
  },
  {
   "cell_type": "markdown",
   "metadata": {},
   "source": [
    "> **Ex. 4.1.2**: You input an image of dimensions $28 \\times 28 \\times 3$, use a padding of 2, a stride of 1,\n",
    "and then slide your $5 \\times 5 \\times 3$ filter across the image. What is the dimensionality of the resulting activation map?"
   ]
  },
  {
   "cell_type": "markdown",
   "metadata": {},
   "source": [
    "> **Ex. 4.1.3**: Let's say you now want to use a stride of 2, instead of 1. What problem does immediately cause?\n",
    "How can we solve it?"
   ]
  },
  {
   "cell_type": "markdown",
   "metadata": {},
   "source": [
    "*Maxpooling* is a method used a lot in CNNs, which downsamples the size of an activation map. It's used primarily to reduce amount of parameters and computations in the network, and to avoid overfitting. Here's an illustration of how it works:"
   ]
  },
  {
   "cell_type": "markdown",
   "metadata": {},
   "source": [
    "![img](http://cs231n.github.io/assets/cnn/maxpool.jpeg)"
   ]
  },
  {
   "cell_type": "markdown",
   "metadata": {},
   "source": [
    "Typically, for each $2 \\times 2$ square in your activation map, you pick the largest value in that square. You do this independently for every depth slice in your activation map."
   ]
  },
  {
   "cell_type": "markdown",
   "metadata": {},
   "source": [
    "**Note:** In PyTorch, the dimension of data is a little different from what you may expect. The first index,\n",
    "indexes datapoints, the second *channels*, and the last two are the dimensions of the input data. So if\n",
    "you have a batch of data containing 100 datapoints, each one an RGB image (so 3 channels: red, green, blue)\n",
    "with resolution $128 \\times 128$, then the dimensionality of your input data is (100, 3, 128, 128)."
   ]
  },
  {
   "cell_type": "markdown",
   "metadata": {},
   "source": [
    "> **Ex. 4.1.4**: Given the activation map below, what is the corresponding activation map after maxpooling ($2 \\times 2$ filter, stride 2)? Report the shape of the resulting activation map.\n",
    ">\n",
    "> *Hint*: Don't try to do this manually, it will be a nightmare. Instead, look for functionality in PyTorch's API that will help you along."
   ]
  },
  {
   "cell_type": "code",
   "execution_count": 44,
   "metadata": {
    "ExecuteTime": {
     "end_time": "2019-02-22T14:57:28.380151Z",
     "start_time": "2019-02-22T14:57:28.375639Z"
    }
   },
   "outputs": [],
   "source": [
    "torch.manual_seed(0)\n",
    "activation_map = torch.randn(10, 1, 28, 28)"
   ]
  },
  {
   "cell_type": "code",
   "execution_count": 46,
   "metadata": {
    "ExecuteTime": {
     "end_time": "2019-02-22T14:58:59.851570Z",
     "start_time": "2019-02-22T14:58:59.846594Z"
    },
    "scrolled": true
   },
   "outputs": [
    {
     "data": {
      "text/plain": [
       "torch.Size([10, 1, 14, 14])"
      ]
     },
     "execution_count": 46,
     "metadata": {},
     "output_type": "execute_result"
    }
   ],
   "source": [
    "# Solution\n",
    "m = torch.nn.MaxPool2d((2, 2), stride=2)\n",
    "m(activation_map).shape"
   ]
  },
  {
   "cell_type": "markdown",
   "metadata": {},
   "source": [
    "#### CNNs in PyTorch"
   ]
  },
  {
   "cell_type": "markdown",
   "metadata": {},
   "source": [
    "There are many ways you can define your neural network models using PyTorch. Last week I gave an example of how\n",
    "to do it using `Sequential`, which is probably the easiest way to do it. But you can also write the network as\n",
    "a Python class which gives you a bit more freedom. Below I've given an example that implements the same network\n",
    "in two different ways. The code below assumes input images of shape $28 \\times 28 \\times 1$."
   ]
  },
  {
   "cell_type": "code",
   "execution_count": 7,
   "metadata": {
    "ExecuteTime": {
     "end_time": "2019-02-25T12:39:04.777948Z",
     "start_time": "2019-02-25T12:39:04.767474Z"
    }
   },
   "outputs": [],
   "source": [
    "# Example 1:\n",
    "# ----------\n",
    "\n",
    "class Flatten(nn.Module):\n",
    "    def forward(self, x):\n",
    "        return x.view(x.size()[0], -1)\n",
    "\n",
    "model = torch.nn.Sequential(\n",
    "    nn.Conv2d(in_channels=1, out_channels=10, kernel_size=3, stride=1, padding=1),\n",
    "    nn.ReLU(),\n",
    "    nn.MaxPool2d(2),\n",
    "    Flatten(),\n",
    "    nn.Linear(10 * 14 * 14, 10)\n",
    ")\n",
    "\n",
    "# Example 2:\n",
    "# ----------\n",
    "\n",
    "class Network(nn.Module):\n",
    "    \n",
    "    def __init__(self):\n",
    "        super(Network, self).__init__()\n",
    "        self.conv = nn.Conv2d(1, 10, 3, 1, 1)\n",
    "        self.relu = nn.ReLU()\n",
    "        self.pool = nn.MaxPool2d(2)\n",
    "        self.fc = nn.Linear(10 * 14 * 14, 10)\n",
    "\n",
    "    def forward(self, x):\n",
    "        x = self.conv(x)\n",
    "        x = self.relu(x)\n",
    "        x = self.pool(x)\n",
    "        x = x.view(-1, 10 * 14 * 14)\n",
    "        x = self.fc(x)\n",
    "        return x\n",
    "\n",
    "net = Network()"
   ]
  },
  {
   "cell_type": "markdown",
   "metadata": {},
   "source": [
    "The first way is easier to read, but the second way offers a bit more design flexibility, which we will need later. For example, when using\n",
    "`Sequential`, in order to flatten the array of neurons resulting from the convolution, so we could apply a linear\n",
    "layer, we had to define a `Flatten` class. With the second way we can just reshape it with `view`.\n",
    "\n",
    "In the following exercises you choose yourself how to write your networks, whether with `Sequential` or as a class.\n",
    "\n",
    "We will use the MNIST dataset one last time now."
   ]
  },
  {
   "cell_type": "code",
   "execution_count": 222,
   "metadata": {
    "ExecuteTime": {
     "end_time": "2019-02-25T10:41:00.132899Z",
     "start_time": "2019-02-25T10:40:59.071015Z"
    }
   },
   "outputs": [],
   "source": [
    "training_data, validation_data, test_data = mnist_loader.load_data()\n",
    "\n",
    "# Training data\n",
    "x = torch.from_numpy(training_data[0])\n",
    "y_ = torch.from_numpy(training_data[1])\n",
    "y = torch.zeros(x.shape[0], 10)\n",
    "y[torch.arange(x.shape[0]), y_] = 1\n",
    "\n",
    "# Test data\n",
    "x_test = torch.from_numpy(test_data[0])\n",
    "y_test_ = torch.from_numpy(test_data[1])\n",
    "y_test = torch.zeros(x_test.shape[0], 10)\n",
    "y_test[torch.arange(x_test.shape[0]), y_test_] = 1\n",
    "\n",
    "# Reshape to comply with PyTorch standard input format\n",
    "x = x.view(-1, 1, 28, 28)            # (n_datapoints, n_channels, height, width)\n",
    "x_test = x_test.view(-1, 1, 28, 28)"
   ]
  },
  {
   "cell_type": "markdown",
   "metadata": {},
   "source": [
    "> **Ex. 4.1.5**: Implement Nielsen's [last convolutional neural network](http://neuralnetworksanddeeplearning.com/chap6.html#convolutional_neural_networks_in_practice)\n",
    "(the one with two convolutional layers and dropout), and score an accuracy higher than 98%. It doesn't have to be\n",
    "fully identical, but his solution is pretty great, so getting close is a cheap way to score a high accuracy.\n",
    ">\n",
    "> *Hint:* The cost function `torch.nn.MSELoss(reduction='mean')` works great with `learning_rate=1e-3` or less."
   ]
  },
  {
   "cell_type": "markdown",
   "metadata": {},
   "source": [
    "The MNIST dataset is a great benchmark because it allows us to directly measure the performance of a neural\n",
    "network against the human eye. But often, the association between datapoint and label is not as clear, yet we\n",
    "still want to do prediction.\n",
    "\n",
    "I went on [Kaggle.com](www.kaggle.com) and looked for some *harder* datasets. At the time of writing there's\n",
    "[a competetion](https://www.kaggle.com/c/petfinder-adoption-prediction) where you can win up to $\\$$10.000 by\n",
    "predicting how quickly pets get adopted (on a pet-adoption site) based on meta data and images of the pets. From that competetion, I prepared a dataset of $128 \\times 128$ images along with adoption time (lower is better, see description on Kaggle). In the actual competetion people are using more data sources than just image, but for\n",
    "now, let's see how well we can do with just that."
   ]
  },
  {
   "cell_type": "markdown",
   "metadata": {},
   "source": [
    "> **Ex. 4.1.6**: Load the prepared dataset and build a CNN that predicts adoption-time category from the image.\n",
    "Leave out the last 1000 datapoints from training and save them for validation. You have complete freedom in how\n",
    "you want to construct the neural network (choise of cost function, inner architecture, training hyperparameters,\n",
    "etc.). Report an accuracy on the test set (last 1000 points) that's higher than the baseline (0.273). Using your\n",
    "adoptability predictor, visualize the 5 most adoptable dogs.\n",
    ">\n",
    "> As an extra bonus, I also included a test dataset with no corresponding target array. You can take your model and try to predict the test data, and format it similar to the `sample_submission.csv` file and submit your predictions to the competetion to get an estimate of the true performance of your model. Let me know what you score if you do that. And if you choose to join the competetion and try to win the money, I'd also like to hear about your progress.\n",
    ">\n",
    "> Also, note that to get high accuracy, you need to make a network that is bigger than what you had in the previous exercise. This will take a long time to train (hours at least). If you have a computer with a small\n",
    "CPU you will have to make do with a smaller neural network, and thus a lower accuracy. But you should still be able to score above the baseline."
   ]
  },
  {
   "cell_type": "code",
   "execution_count": 2,
   "metadata": {
    "ExecuteTime": {
     "end_time": "2019-02-25T12:35:26.844065Z",
     "start_time": "2019-02-25T12:35:24.312014Z"
    }
   },
   "outputs": [],
   "source": [
    "# Load data\n",
    "x = torch.from_numpy(np.load('x.npy').astype(np.float32))\n",
    "y_ = torch.from_numpy(np.load('y.npy').astype(int))\n",
    "y = torch.zeros(x.shape[0], 5)\n",
    "y[torch.arange(x.shape[0]), y_] = 1\n",
    "\n",
    "# Split into train and test\n",
    "x_test = x[-1000:]\n",
    "y_test = y[-1000:]\n",
    "x = x[:-1000]\n",
    "y = y[:-1000]"
   ]
  },
  {
   "cell_type": "code",
   "execution_count": 3,
   "metadata": {
    "ExecuteTime": {
     "end_time": "2019-02-25T12:36:44.547242Z",
     "start_time": "2019-02-25T12:36:44.543041Z"
    }
   },
   "outputs": [
    {
     "name": "stdout",
     "output_type": "stream",
     "text": [
      "tensor(0.2729)\n"
     ]
    }
   ],
   "source": [
    "# Baseline\n",
    "print(max(y.sum(0))/y.sum())"
   ]
  },
  {
   "cell_type": "markdown",
   "metadata": {},
   "source": [
    "### Part 4.2: Recurrent Neural Networks\n",
    "\n"
   ]
  },
  {
   "cell_type": "markdown",
   "metadata": {},
   "source": [
    "At this point, you may have noticed the obvious limitation to vanilla neural networks and CNNs, which is that they\n",
    "are extremely contrained in their processing of data. Input and output must be of a specific size and computation\n",
    "happens over a fixed number of layers. Recurrent Neural Networks (RNNs) offer an exciting alternative to this\n",
    "constrained computing paradigm, as they model data in **sequence**. There is no inherent constraint to how long\n",
    "or short sequences can be, and likewise for outputs."
   ]
  },
  {
   "cell_type": "markdown",
   "metadata": {},
   "source": [
    "Training RNNs looks slightly different than feed forward networks, because we have to reuse outputs of each\n",
    "iteration as inputs to the next iteration. Therefore I have given an example below where I fit an RNN to\n",
    "Shakespeare's Hamlet."
   ]
  },
  {
   "cell_type": "code",
   "execution_count": 129,
   "metadata": {
    "ExecuteTime": {
     "end_time": "2019-02-25T15:46:34.095402Z",
     "start_time": "2019-02-25T15:46:32.903496Z"
    }
   },
   "outputs": [],
   "source": [
    "# Download the data (thanks MIT)\n",
    "response = rq.get(\"http://shakespeare.mit.edu/hamlet/full.html\")\n",
    "hamlet = BeautifulSoup(response.content, \"html.parser\").getText()\n",
    "\n",
    "# Convert text to character-level one-hot encoding\n",
    "hamlet_one_hot = pd.get_dummies(pd.Series(list(hamlet)))\n",
    "character_vec = hamlet_one_hot.columns\n",
    "x = torch.from_numpy(hamlet_one_hot.values.astype(np.float32))"
   ]
  },
  {
   "cell_type": "code",
   "execution_count": null,
   "metadata": {
    "ExecuteTime": {
     "start_time": "2019-02-26T13:59:18.294Z"
    }
   },
   "outputs": [
    {
     "data": {
      "application/vnd.jupyter.widget-view+json": {
       "model_id": "6dd4e8fc75e54fa1a6fd43735fbff665",
       "version_major": 2,
       "version_minor": 0
      },
      "text/plain": [
       "HBox(children=(IntProgress(value=0, max=5000), HTML(value='')))"
      ]
     },
     "metadata": {},
     "output_type": "display_data"
    },
    {
     "name": "stdout",
     "output_type": "stream",
     "text": [
      "0 | loss: 837.5260009765625 | fraction correct: 0.02\n",
      "10 | loss: 758.2477416992188 | fraction correct: 0.12\n",
      "20 | loss: 688.7192993164062 | fraction correct: 0.15\n",
      "30 | loss: 577.0355834960938 | fraction correct: 0.245\n",
      "40 | loss: 546.7378540039062 | fraction correct: 0.21\n",
      "50 | loss: 501.7413635253906 | fraction correct: 0.33\n",
      "60 | loss: 483.5766296386719 | fraction correct: 0.295\n",
      "70 | loss: 494.6862487792969 | fraction correct: 0.325\n",
      "80 | loss: 497.8192138671875 | fraction correct: 0.28\n",
      "90 | loss: 472.5584716796875 | fraction correct: 0.355\n",
      "100 | loss: 495.93133544921875 | fraction correct: 0.31\n",
      "110 | loss: 442.7196044921875 | fraction correct: 0.345\n",
      "120 | loss: 405.5710754394531 | fraction correct: 0.49\n",
      "130 | loss: 469.5902404785156 | fraction correct: 0.34\n",
      "140 | loss: 452.2145080566406 | fraction correct: 0.325\n",
      "150 | loss: 401.5863342285156 | fraction correct: 0.485\n",
      "160 | loss: 442.0084228515625 | fraction correct: 0.38\n",
      "170 | loss: 487.2173156738281 | fraction correct: 0.3\n",
      "180 | loss: 465.43310546875 | fraction correct: 0.3\n",
      "190 | loss: 447.5295715332031 | fraction correct: 0.32\n",
      "200 | loss: 429.32696533203125 | fraction correct: 0.4\n",
      "210 | loss: 420.3609924316406 | fraction correct: 0.39\n",
      "220 | loss: 322.02435302734375 | fraction correct: 0.535\n",
      "230 | loss: 439.0169982910156 | fraction correct: 0.35\n",
      "240 | loss: 480.1730041503906 | fraction correct: 0.34\n",
      "250 | loss: 320.5889892578125 | fraction correct: 0.57\n",
      "260 | loss: 378.3502502441406 | fraction correct: 0.49\n",
      "270 | loss: 425.478759765625 | fraction correct: 0.41\n",
      "280 | loss: 450.3674621582031 | fraction correct: 0.375\n",
      "290 | loss: 387.3787841796875 | fraction correct: 0.43\n",
      "300 | loss: 417.56182861328125 | fraction correct: 0.38\n",
      "310 | loss: 379.59759521484375 | fraction correct: 0.46\n",
      "320 | loss: 391.06146240234375 | fraction correct: 0.425\n",
      "330 | loss: 389.7279357910156 | fraction correct: 0.38\n",
      "340 | loss: 401.16387939453125 | fraction correct: 0.445\n",
      "350 | loss: 341.48223876953125 | fraction correct: 0.535\n",
      "360 | loss: 381.73187255859375 | fraction correct: 0.445\n",
      "370 | loss: 428.1701965332031 | fraction correct: 0.4\n",
      "380 | loss: 412.9840087890625 | fraction correct: 0.365\n",
      "390 | loss: 353.45989990234375 | fraction correct: 0.485\n",
      "400 | loss: 341.12127685546875 | fraction correct: 0.525\n"
     ]
    }
   ],
   "source": [
    "class RNN(nn.Module):\n",
    "    def __init__(self, input_size, hidden_size, output_size, n_layers=1):\n",
    "        super(RNN, self).__init__()\n",
    "        \n",
    "        # Parameters\n",
    "        self.input_size = input_size\n",
    "        self.hidden_size = hidden_size\n",
    "        self.output_size = output_size\n",
    "        self.n_layers = n_layers\n",
    "        \n",
    "        # Neural network layers. Rather than giving the input as a one-hot\n",
    "        # vector, we represent it as a point in a high-dimensional space (i.e.\n",
    "        # \"an embedding\"). This tends to work better.\n",
    "        self.encoder = nn.Embedding(input_size, hidden_size)\n",
    "        self.rnn = nn.LSTM(hidden_size, hidden_size, n_layers)\n",
    "        self.decoder = nn.Linear(hidden_size, output_size)\n",
    "\n",
    "    def forward(self, input_, hidden):\n",
    "        signal = self.encoder(input_).view(1, 1, -1)  # Embed input character\n",
    "        output, hidden = self.rnn(signal, hidden)     # Get output and hidden vector(s)\n",
    "        prediction = self.decoder(output.view(1, -1))     # Decode to \"prediction\" vector\n",
    "        \n",
    "        return prediction, hidden\n",
    "\n",
    "    def init_hidden(self):\n",
    "        return (\n",
    "            torch.autograd.Variable(torch.zeros(self.n_layers, 1, self.hidden_size)),\n",
    "            torch.autograd.Variable(torch.zeros(self.n_layers, 1, self.hidden_size))\n",
    "        )\n",
    "    \n",
    "epochs = 5000\n",
    "seq_len = 200\n",
    "learning_rate = 1e-2\n",
    "n_layers = 2\n",
    "\n",
    "model = RNN(len(character_vec), 100, len(character_vec), n_layers)\n",
    "optimizer = torch.optim.Adam(model.parameters(), lr=learning_rate)\n",
    "loss_fn = nn.CrossEntropyLoss()\n",
    "\n",
    "# We're collecting the losses so we can plot how they (hopefully) decrease over time\n",
    "all_losses = []\n",
    "fraction_correct = []\n",
    "for t in tqdm(range(epochs)):\n",
    "    \n",
    "    # Initiate a hidden vector for \n",
    "    hidden = model.init_hidden()\n",
    "    \n",
    "    # Pick a random input and output sequence. Here we are only taking one sequence\n",
    "    # per epoch, but normally people take a batch of sequences. Check https://github\n",
    "    # .com/spro/char-rnn.pytorch for an example on how to do that\n",
    "    i = np.random.randint(0, x.size(0)-seq_len)\n",
    "    input_ = torch.max(x[i:i+seq_len], 1)[1]      # torch.max(...)[1] gets the character in terms of its index, so\n",
    "    target = torch.max(x[i+1:i+1+seq_len], 1)[1]  # input_ will be something like torch.tensor([2, 1, 4, 0, ... 1])\n",
    "    \n",
    "    # Backprop through time. Here we are just summing the losses from each timestep\n",
    "    # and do backpropagation on the variable that holds the sum. PyTorch allows for that\n",
    "    optimizer.zero_grad()\n",
    "    loss = 0\n",
    "    correct = 0\n",
    "    for j in range(input_.size(0)):\n",
    "        output, hidden = model(input_[j], hidden)\n",
    "        loss += loss_fn(output.view(1, -1), target[j].view(1, ))\n",
    "        correct += int(torch.max(output.view(1, -1), 1)[1][0] == target[j])\n",
    "    \n",
    "    # SGD step\n",
    "    loss.backward()\n",
    "    optimizer.step()\n",
    "    \n",
    "    # Collect loss value for plot\n",
    "    all_losses.append(float(loss))\n",
    "    fraction_correct.append(correct / input_.size(0))\n",
    "        \n",
    "    # Progress\n",
    "    if t % 10 == 0:\n",
    "        print(t, \"| loss:\", float(loss), \"| fraction correct:\", fraction_correct[-1])\n",
    "    "
   ]
  },
  {
   "cell_type": "code",
   "execution_count": 277,
   "metadata": {
    "ExecuteTime": {
     "end_time": "2019-02-26T13:47:03.991643Z",
     "start_time": "2019-02-26T13:47:03.807094Z"
    }
   },
   "outputs": [
    {
     "data": {
      "text/plain": [
       "[<matplotlib.lines.Line2D at 0xb28335390>]"
      ]
     },
     "execution_count": 277,
     "metadata": {},
     "output_type": "execute_result"
    },
    {
     "data": {
      "image/png": "[encoded data removed]",
      "text/plain": [
       "<Figure size 432x288 with 1 Axes>"
      ]
     },
     "metadata": {
      "needs_background": "light"
     },
     "output_type": "display_data"
    }
   ],
   "source": [
    "plt.plot(all_losses)"
   ]
  },
  {
   "cell_type": "markdown",
   "metadata": {},
   "source": [
    "Looks the network learns! But we could have probably run it for a bit longer and gotten a better result. I'll\n",
    "leave that to you. But let's see what it can do."
   ]
  },
  {
   "cell_type": "markdown",
   "metadata": {},
   "source": [
    "> **Ex. 4.2.1**: Train the network for a while (the longer the better) until you feel its error has settled in some local minimum. Then go ahead and generate some gibberish Hamlet with it! To get better results, you can \"warm up\" the hidden state vectors by first running a sequence of actual Shapespeare through it and then starting generating from the last word in that sequence. Also, what I mean by \"start generating\" is that instead of predicting output from inputs drawn from your dataset, you input the prediction from the previous timestep and repeat, thus getting something that's completely made up."
   ]
  }
 ],
 "metadata": {
  "kernelspec": {
   "display_name": "Python 3",
   "language": "python",
   "name": "python3"
  },
  "language_info": {
   "codemirror_mode": {
    "name": "ipython",
    "version": 3
   },
   "file_extension": ".py",
   "mimetype": "text/x-python",
   "name": "python",
   "nbconvert_exporter": "python",
   "pygments_lexer": "ipython3",
   "version": "3.6.8"
  },
  "toc": {
   "base_numbering": 1,
   "nav_menu": {},
   "number_sections": false,
   "sideBar": true,
   "skip_h1_title": false,
   "title_cell": "Table of Contents",
   "title_sidebar": "Contents",
   "toc_cell": false,
   "toc_position": {},
   "toc_section_display": true,
   "toc_window_display": true
  },
  "varInspector": {
   "cols": {
    "lenName": 16,
    "lenType": 16,
    "lenVar": 40
   },
   "kernels_config": {
    "python": {
     "delete_cmd_postfix": "",
     "delete_cmd_prefix": "del ",
     "library": "var_list.py",
     "varRefreshCmd": "print(var_dic_list())"
    },
    "r": {
     "delete_cmd_postfix": ") ",
     "delete_cmd_prefix": "rm(",
     "library": "var_list.r",
     "varRefreshCmd": "cat(var_dic_list()) "
    }
   },
   "types_to_exclude": [
    "module",
    "function",
    "builtin_function_or_method",
    "instance",
    "_Feature"
   ],
   "window_display": false
  }
 },
 "nbformat": 4,
 "nbformat_minor": 2
}
