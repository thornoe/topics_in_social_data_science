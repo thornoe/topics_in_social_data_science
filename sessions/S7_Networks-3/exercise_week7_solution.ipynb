{
 "cells": [
  {
   "cell_type": "markdown",
   "metadata": {},
   "source": [
    "> **Note:** In most sessions you will be solving exercises posed in a Jupyter notebook that looks like this one. Because you are cloning a Github repository that only we can push to, you should **NEVER EDIT** any of the files you pull from Github. Instead, what you should do, is either make a new notebook and write your solutions in there, or **make a copy of this notebook and save it somewhere else** on your computer, not inside the `sds` folder that you cloned, so you can write your answers in there. If you edit the notebook you pulled from Github, those edits (possible your solutions to the exercises) may be overwritten and lost the next time you pull from Github. This is important, so don't hesitate to ask if it is unclear."
   ]
  },
  {
   "cell_type": "markdown",
   "metadata": {},
   "source": [
    "# Exercise Set 7: Peer effects \n",
    "\n",
    "*February 20, 2019*\n",
    "\n",
    "In this Exercise Set 7 we will investigate peer effects data. "
   ]
  },
  {
   "cell_type": "markdown",
   "metadata": {},
   "source": [
    "## 7.1: roommate peer effects\n",
    "\n",
    "\n",
    "<br>\n",
    "<br>\n",
    "\n",
    "Due to a lack of available peer effects data we will use a simlated dataset which will give results that provide conclusions similar to Sacerdote (2000). \n",
    "\n",
    "### Data structuring \n",
    "\n",
    "Our data set does not contain a network but has an implicit one associated. We assume there is an edge between all room mates. \n",
    "\n",
    "> **Ex. 7.1.1:** Create a column called `person_other` with identity of the other person in room.\n",
    ">> *Hint:* You can get the unique people in the room by using `df.groupby('room').person.unique()`."
   ]
  },
  {
   "cell_type": "code",
   "execution_count": 135,
   "metadata": {},
   "outputs": [],
   "source": [
    "# [Answer to ex. 7.1.1 here]"
   ]
  },
  {
   "cell_type": "code",
   "execution_count": 1,
   "metadata": {},
   "outputs": [
    {
     "data": {
      "text/html": [
       "<div>\n",
       "<style scoped>\n",
       "    .dataframe tbody tr th:only-of-type {\n",
       "        vertical-align: middle;\n",
       "    }\n",
       "\n",
       "    .dataframe tbody tr th {\n",
       "        vertical-align: top;\n",
       "    }\n",
       "\n",
       "    .dataframe thead th {\n",
       "        text-align: right;\n",
       "    }\n",
       "</style>\n",
       "<table border=\"1\" class=\"dataframe\">\n",
       "  <thead>\n",
       "    <tr style=\"text-align: right;\">\n",
       "      <th></th>\n",
       "      <th>person</th>\n",
       "      <th>room</th>\n",
       "      <th>high_school_GPA</th>\n",
       "      <th>college_GPA</th>\n",
       "      <th>room_persons</th>\n",
       "      <th>person_other</th>\n",
       "    </tr>\n",
       "  </thead>\n",
       "  <tbody>\n",
       "    <tr>\n",
       "      <th>0</th>\n",
       "      <td>0</td>\n",
       "      <td>598</td>\n",
       "      <td>-2.063223</td>\n",
       "      <td>-1.413379</td>\n",
       "      <td>[0, 1757]</td>\n",
       "      <td>1757</td>\n",
       "    </tr>\n",
       "    <tr>\n",
       "      <th>1</th>\n",
       "      <td>1</td>\n",
       "      <td>86</td>\n",
       "      <td>-0.657806</td>\n",
       "      <td>-0.292274</td>\n",
       "      <td>[1, 1916]</td>\n",
       "      <td>1916</td>\n",
       "    </tr>\n",
       "    <tr>\n",
       "      <th>2</th>\n",
       "      <td>2</td>\n",
       "      <td>577</td>\n",
       "      <td>-1.121648</td>\n",
       "      <td>-1.037842</td>\n",
       "      <td>[2, 992]</td>\n",
       "      <td>992</td>\n",
       "    </tr>\n",
       "    <tr>\n",
       "      <th>3</th>\n",
       "      <td>3</td>\n",
       "      <td>534</td>\n",
       "      <td>-1.836840</td>\n",
       "      <td>-2.328040</td>\n",
       "      <td>[3, 1501]</td>\n",
       "      <td>1501</td>\n",
       "    </tr>\n",
       "    <tr>\n",
       "      <th>4</th>\n",
       "      <td>4</td>\n",
       "      <td>603</td>\n",
       "      <td>0.108092</td>\n",
       "      <td>-0.360314</td>\n",
       "      <td>[4, 849]</td>\n",
       "      <td>849</td>\n",
       "    </tr>\n",
       "  </tbody>\n",
       "</table>\n",
       "</div>"
      ],
      "text/plain": [
       "   person  room  high_school_GPA  college_GPA room_persons  person_other\n",
       "0       0   598        -2.063223    -1.413379    [0, 1757]          1757\n",
       "1       1    86        -0.657806    -0.292274    [1, 1916]          1916\n",
       "2       2   577        -1.121648    -1.037842     [2, 992]           992\n",
       "3       3   534        -1.836840    -2.328040    [3, 1501]          1501\n",
       "4       4   603         0.108092    -0.360314     [4, 849]           849"
      ]
     },
     "execution_count": 1,
     "metadata": {},
     "output_type": "execute_result"
    }
   ],
   "source": [
    "import numpy as np\n",
    "import pandas as pd \n",
    "\n",
    "df = pd.read_csv('peer_effects_room.csv')\n",
    "\n",
    "room_persons = df.groupby('room').person.unique()\n",
    "\n",
    "df['room_persons'] = df.room.map(room_persons)\n",
    "df['person_other'] = df.apply(lambda row: np.setdiff1d(row['room_persons'], row['person'])[0], axis=1)\n",
    "\n",
    "df.head()"
   ]
  },
  {
   "cell_type": "markdown",
   "metadata": {},
   "source": [
    "<br>\n",
    "\n",
    "> **Ex. 7.1.2:** Add information on the roommate GPA in high school and college.\n",
    ">> *Hint:* This can be done merging on `person_other`."
   ]
  },
  {
   "cell_type": "code",
   "execution_count": 6,
   "metadata": {},
   "outputs": [],
   "source": [
    "# [Answer to ex. 7.1.2 here]"
   ]
  },
  {
   "cell_type": "code",
   "execution_count": 2,
   "metadata": {},
   "outputs": [
    {
     "data": {
      "text/html": [
       "<div>\n",
       "<style scoped>\n",
       "    .dataframe tbody tr th:only-of-type {\n",
       "        vertical-align: middle;\n",
       "    }\n",
       "\n",
       "    .dataframe tbody tr th {\n",
       "        vertical-align: top;\n",
       "    }\n",
       "\n",
       "    .dataframe thead th {\n",
       "        text-align: right;\n",
       "    }\n",
       "</style>\n",
       "<table border=\"1\" class=\"dataframe\">\n",
       "  <thead>\n",
       "    <tr style=\"text-align: right;\">\n",
       "      <th></th>\n",
       "      <th>person</th>\n",
       "      <th>room</th>\n",
       "      <th>high_school_GPA</th>\n",
       "      <th>college_GPA</th>\n",
       "      <th>room_persons</th>\n",
       "      <th>person_other</th>\n",
       "      <th>high_school_GPA_other</th>\n",
       "      <th>college_GPA_other</th>\n",
       "    </tr>\n",
       "  </thead>\n",
       "  <tbody>\n",
       "    <tr>\n",
       "      <th>0</th>\n",
       "      <td>0</td>\n",
       "      <td>598</td>\n",
       "      <td>-2.063223</td>\n",
       "      <td>-1.413379</td>\n",
       "      <td>[0, 1757]</td>\n",
       "      <td>1757</td>\n",
       "      <td>-1.443647</td>\n",
       "      <td>-1.249804</td>\n",
       "    </tr>\n",
       "    <tr>\n",
       "      <th>1</th>\n",
       "      <td>1</td>\n",
       "      <td>86</td>\n",
       "      <td>-0.657806</td>\n",
       "      <td>-0.292274</td>\n",
       "      <td>[1, 1916]</td>\n",
       "      <td>1916</td>\n",
       "      <td>-0.967511</td>\n",
       "      <td>-1.258121</td>\n",
       "    </tr>\n",
       "    <tr>\n",
       "      <th>2</th>\n",
       "      <td>2</td>\n",
       "      <td>577</td>\n",
       "      <td>-1.121648</td>\n",
       "      <td>-1.037842</td>\n",
       "      <td>[2, 992]</td>\n",
       "      <td>992</td>\n",
       "      <td>0.362481</td>\n",
       "      <td>-0.164821</td>\n",
       "    </tr>\n",
       "    <tr>\n",
       "      <th>3</th>\n",
       "      <td>3</td>\n",
       "      <td>534</td>\n",
       "      <td>-1.836840</td>\n",
       "      <td>-2.328040</td>\n",
       "      <td>[3, 1501]</td>\n",
       "      <td>1501</td>\n",
       "      <td>2.132176</td>\n",
       "      <td>2.162730</td>\n",
       "    </tr>\n",
       "    <tr>\n",
       "      <th>4</th>\n",
       "      <td>4</td>\n",
       "      <td>603</td>\n",
       "      <td>0.108092</td>\n",
       "      <td>-0.360314</td>\n",
       "      <td>[4, 849]</td>\n",
       "      <td>849</td>\n",
       "      <td>-0.885417</td>\n",
       "      <td>-1.345020</td>\n",
       "    </tr>\n",
       "  </tbody>\n",
       "</table>\n",
       "</div>"
      ],
      "text/plain": [
       "   person  room  high_school_GPA  college_GPA room_persons  person_other  \\\n",
       "0       0   598        -2.063223    -1.413379    [0, 1757]          1757   \n",
       "1       1    86        -0.657806    -0.292274    [1, 1916]          1916   \n",
       "2       2   577        -1.121648    -1.037842     [2, 992]           992   \n",
       "3       3   534        -1.836840    -2.328040    [3, 1501]          1501   \n",
       "4       4   603         0.108092    -0.360314     [4, 849]           849   \n",
       "\n",
       "   high_school_GPA_other  college_GPA_other  \n",
       "0              -1.443647          -1.249804  \n",
       "1              -0.967511          -1.258121  \n",
       "2               0.362481          -0.164821  \n",
       "3               2.132176           2.162730  \n",
       "4              -0.885417          -1.345020  "
      ]
     },
     "execution_count": 2,
     "metadata": {},
     "output_type": "execute_result"
    }
   ],
   "source": [
    "df2 = df.merge(df[['person','high_school_GPA', 'college_GPA']].add_suffix('_other'))\n",
    "df2.head()"
   ]
  },
  {
   "cell_type": "markdown",
   "metadata": {},
   "source": [
    "<br>\n",
    "<br>\n",
    "\n",
    "### Data exploration and randomization\n",
    "\n",
    "We now have our final dataset and can begin investigating how the raw data looks. \n",
    "\n",
    "> **Ex. 7.1.3:** plot own GPA in high school vs college in a scatter plot."
   ]
  },
  {
   "cell_type": "code",
   "execution_count": 8,
   "metadata": {},
   "outputs": [],
   "source": [
    "# [Answer to ex. 7.1.3 here]"
   ]
  },
  {
   "cell_type": "code",
   "execution_count": 10,
   "metadata": {},
   "outputs": [
    {
     "name": "stderr",
     "output_type": "stream",
     "text": [
      "/home/kristian/miniconda3/lib/python3.6/site-packages/scipy/stats/stats.py:1713: FutureWarning: Using a non-tuple sequence for multidimensional indexing is deprecated; use `arr[tuple(seq)]` instead of `arr[seq]`. In the future this will be interpreted as an array index, `arr[np.array(seq)]`, which will result either in an error or a different result.\n",
      "  return np.add.reduce(sorted[indexer] * weights, axis=axis) / sumval\n"
     ]
    },
    {
     "data": {
      "text/plain": [
       "<matplotlib.axes._subplots.AxesSubplot at 0x7f7f1b96c320>"
      ]
     },
     "execution_count": 10,
     "metadata": {},
     "output_type": "execute_result"
    },
    {
     "data": {
      "image/png": "[encoded data removed]",
      "text/plain": [
       "<Figure size 432x288 with 1 Axes>"
      ]
     },
     "metadata": {},
     "output_type": "display_data"
    }
   ],
   "source": [
    "import seaborn as sns\n",
    "sns.regplot('college_GPA','high_school_GPA', df2)"
   ]
  },
  {
   "cell_type": "markdown",
   "metadata": {},
   "source": [
    "<br>\n",
    "We want to check there is random assignment of roommates. \n",
    "\n",
    "> **Ex. 7.1.4:** Plot high school GPA vs roommate's high school GPA. Comment on the output. Run a regresion of high school GPA on roommate's high school GPA to formally check random assignment.\n",
    ">\n",
    ">> *Hint*: To run regressions in python, you can use the `statsmodels` package. Look up it's documentation and use the `.formula` api to estimate your model. To see a summary of a fitted model you can call `.summary()` on the object. \n",
    ">\n",
    ">> *Hint:* Under random assignment we would expect there to be no relation between the high school GPA's of roommates. Why is this? "
   ]
  },
  {
   "cell_type": "code",
   "execution_count": 11,
   "metadata": {},
   "outputs": [],
   "source": [
    "# [Answer to ex. 7.1.4 here]"
   ]
  },
  {
   "cell_type": "code",
   "execution_count": 1,
   "metadata": {},
   "outputs": [],
   "source": [
    "# [This problem will be in assignment 2]"
   ]
  },
  {
   "cell_type": "markdown",
   "metadata": {},
   "source": [
    "<br>\n",
    "<br>\n",
    "\n",
    "## Roommate effect\n",
    "\n",
    "Having checked the data we move on to analyzing peer effects. We begin with analyzing **exogenous** peer effects. I.e. peer effects that are related to the ex ante characteristics of the roommate.\n",
    "\n",
    "> **Ex. 7.1.5:** Plot own GPA in college vs. roommate GPA in high school. Comment on the output. Test whether there is an impact using a regresion of college school GPA on high school GPA for the person itself and its roommate."
   ]
  },
  {
   "cell_type": "code",
   "execution_count": 16,
   "metadata": {},
   "outputs": [],
   "source": [
    "# [Answer to ex. 7.1.5 here]"
   ]
  },
  {
   "cell_type": "code",
   "execution_count": 2,
   "metadata": {},
   "outputs": [],
   "source": [
    "# [This problem will be in assignment 2]"
   ]
  },
  {
   "cell_type": "markdown",
   "metadata": {},
   "source": [
    "We now move on to analyze **endogenous** peer effects.\n",
    "\n",
    "> **Ex. 7.1.6:** Test whether there is an association between own college GPA and roommates. Do this by running a regresion of college school GPA on high school GPA for the person itself and its roommate. Comment on the output."
   ]
  },
  {
   "cell_type": "code",
   "execution_count": 138,
   "metadata": {},
   "outputs": [],
   "source": [
    "# [Answer to ex. 7.1.6 here]"
   ]
  },
  {
   "cell_type": "code",
   "execution_count": 19,
   "metadata": {},
   "outputs": [
    {
     "data": {
      "text/html": [
       "<table class=\"simpletable\">\n",
       "<caption>OLS Regression Results</caption>\n",
       "<tr>\n",
       "  <th>Dep. Variable:</th>       <td>college_GPA</td>   <th>  R-squared:         </th> <td>   0.650</td>\n",
       "</tr>\n",
       "<tr>\n",
       "  <th>Model:</th>                   <td>OLS</td>       <th>  Adj. R-squared:    </th> <td>   0.650</td>\n",
       "</tr>\n",
       "<tr>\n",
       "  <th>Method:</th>             <td>Least Squares</td>  <th>  F-statistic:       </th> <td>   2030.</td>\n",
       "</tr>\n",
       "<tr>\n",
       "  <th>Date:</th>             <td>Fri, 15 Mar 2019</td> <th>  Prob (F-statistic):</th>  <td>  0.00</td> \n",
       "</tr>\n",
       "<tr>\n",
       "  <th>Time:</th>                 <td>12:42:45</td>     <th>  Log-Likelihood:    </th> <td> -1561.0</td>\n",
       "</tr>\n",
       "<tr>\n",
       "  <th>No. Observations:</th>      <td>  2000</td>      <th>  AIC:               </th> <td>   3128.</td>\n",
       "</tr>\n",
       "<tr>\n",
       "  <th>Df Residuals:</th>          <td>  1997</td>      <th>  BIC:               </th> <td>   3145.</td>\n",
       "</tr>\n",
       "<tr>\n",
       "  <th>Df Model:</th>              <td>     2</td>      <th>                     </th>     <td> </td>   \n",
       "</tr>\n",
       "<tr>\n",
       "  <th>Covariance Type:</th>       <td>cluster</td>     <th>                     </th>     <td> </td>   \n",
       "</tr>\n",
       "</table>\n",
       "<table class=\"simpletable\">\n",
       "<tr>\n",
       "          <td></td>             <th>coef</th>     <th>std err</th>      <th>t</th>      <th>P>|t|</th>  <th>[0.025</th>    <th>0.975]</th>  \n",
       "</tr>\n",
       "<tr>\n",
       "  <th>Intercept</th>         <td>    0.0090</td> <td>    0.012</td> <td>    0.749</td> <td> 0.454</td> <td>   -0.015</td> <td>    0.033</td>\n",
       "</tr>\n",
       "<tr>\n",
       "  <th>high_school_GPA</th>   <td>    0.7021</td> <td>    0.011</td> <td>   63.326</td> <td> 0.000</td> <td>    0.680</td> <td>    0.724</td>\n",
       "</tr>\n",
       "<tr>\n",
       "  <th>college_GPA_other</th> <td>    0.0479</td> <td>    0.015</td> <td>    3.245</td> <td> 0.001</td> <td>    0.019</td> <td>    0.077</td>\n",
       "</tr>\n",
       "</table>\n",
       "<table class=\"simpletable\">\n",
       "<tr>\n",
       "  <th>Omnibus:</th>       <td> 1.042</td> <th>  Durbin-Watson:     </th> <td>   2.009</td>\n",
       "</tr>\n",
       "<tr>\n",
       "  <th>Prob(Omnibus):</th> <td> 0.594</td> <th>  Jarque-Bera (JB):  </th> <td>   0.956</td>\n",
       "</tr>\n",
       "<tr>\n",
       "  <th>Skew:</th>          <td> 0.025</td> <th>  Prob(JB):          </th> <td>   0.620</td>\n",
       "</tr>\n",
       "<tr>\n",
       "  <th>Kurtosis:</th>      <td> 3.095</td> <th>  Cond. No.          </th> <td>    1.15</td>\n",
       "</tr>\n",
       "</table><br/><br/>Warnings:<br/>[1] Standard Errors are robust tocluster correlation (cluster)"
      ],
      "text/plain": [
       "<class 'statsmodels.iolib.summary.Summary'>\n",
       "\"\"\"\n",
       "                            OLS Regression Results                            \n",
       "==============================================================================\n",
       "Dep. Variable:            college_GPA   R-squared:                       0.650\n",
       "Model:                            OLS   Adj. R-squared:                  0.650\n",
       "Method:                 Least Squares   F-statistic:                     2030.\n",
       "Date:                Fri, 15 Mar 2019   Prob (F-statistic):               0.00\n",
       "Time:                        12:42:45   Log-Likelihood:                -1561.0\n",
       "No. Observations:                2000   AIC:                             3128.\n",
       "Df Residuals:                    1997   BIC:                             3145.\n",
       "Df Model:                           2                                         \n",
       "Covariance Type:              cluster                                         \n",
       "=====================================================================================\n",
       "                        coef    std err          t      P>|t|      [0.025      0.975]\n",
       "-------------------------------------------------------------------------------------\n",
       "Intercept             0.0090      0.012      0.749      0.454      -0.015       0.033\n",
       "high_school_GPA       0.7021      0.011     63.326      0.000       0.680       0.724\n",
       "college_GPA_other     0.0479      0.015      3.245      0.001       0.019       0.077\n",
       "==============================================================================\n",
       "Omnibus:                        1.042   Durbin-Watson:                   2.009\n",
       "Prob(Omnibus):                  0.594   Jarque-Bera (JB):                0.956\n",
       "Skew:                           0.025   Prob(JB):                        0.620\n",
       "Kurtosis:                       3.095   Cond. No.                         1.15\n",
       "==============================================================================\n",
       "\n",
       "Warnings:\n",
       "[1] Standard Errors are robust tocluster correlation (cluster)\n",
       "\"\"\""
      ]
     },
     "execution_count": 19,
     "metadata": {},
     "output_type": "execute_result"
    }
   ],
   "source": [
    "import statsmodels.formula.api as smf\n",
    "\n",
    "model_peer = smf.ols('college_GPA ~ high_school_GPA + college_GPA_other', df2).fit()\n",
    "model_peer_cluster_se = model_peer.get_robustcov_results(cov_type='cluster',groups=df2.room)\n",
    "model_peer_cluster_se.summary()"
   ]
  },
  {
   "cell_type": "markdown",
   "metadata": {},
   "source": [
    "<br>\n",
    "<br>\n",
    "\n",
    "# 7.2 Peer effects in Danish classrooms\n",
    "\n",
    "Read the [report by Kraka on peer effects in Danish schools](http://kraka.org/sites/default/files/public/baggrundsnotat_klassekammerateffekter_0.pdf). If you do not speak Danish talk to your group about the content.\n",
    "> **Ex. 7.2.1:** Explain the identification strategy in words."
   ]
  },
  {
   "cell_type": "markdown",
   "metadata": {},
   "source": [
    "> **Ex. 7.2.2:** Are there any shortcomings of the identification strategy? What does the seminal paper [Hoxby (2000)](https://www.nber.org/papers/w7867.pdf) test for?"
   ]
  },
  {
   "cell_type": "markdown",
   "metadata": {},
   "source": [
    "> **Ex. 7.2.3:** Try to come up with identification strategies for identifying peer effects in the context of Danish class rooms."
   ]
  }
 ],
 "metadata": {
  "kernelspec": {
   "display_name": "Python 3",
   "language": "python",
   "name": "python3"
  },
  "language_info": {
   "codemirror_mode": {
    "name": "ipython",
    "version": 3
   },
   "file_extension": ".py",
   "mimetype": "text/x-python",
   "name": "python",
   "nbconvert_exporter": "python",
   "pygments_lexer": "ipython3",
   "version": "3.6.5"
  }
 },
 "nbformat": 4,
 "nbformat_minor": 2
}
